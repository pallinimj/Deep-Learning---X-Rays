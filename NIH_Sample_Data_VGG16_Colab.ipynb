{
 "cells": [
  {
   "cell_type": "code",
   "execution_count": 8,
   "metadata": {
    "colab": {
     "base_uri": "https://localhost:8080/",
     "height": 51
    },
    "colab_type": "code",
    "id": "CAvG48jEuuvP",
    "outputId": "5ed7620f-fe33-4985-bdfd-dbc8f5d5b236"
   },
   "outputs": [
    {
     "name": "stderr",
     "output_type": "stream",
     "text": [
      "/usr/local/lib/python3.6/dist-packages/statsmodels/tools/_testing.py:19: FutureWarning: pandas.util.testing is deprecated. Use the functions in the public API at pandas.testing instead.\n",
      "  import pandas.util.testing as tm\n"
     ]
    }
   ],
   "source": [
    "# Load general libraries\n",
    "import numpy as np\n",
    "import pandas as pd\n",
    "import matplotlib.pyplot as plt\n",
    "import seaborn as sns\n",
    "from glob import glob\n",
    "from os import path, listdir\n",
    "import zipfile\n",
    "import warnings\n",
    "from collections import Counter\n",
    "\n",
    "warnings.filterwarnings('ignore')\n",
    "\n",
    "sns.set_style('whitegrid')\n",
    "%matplotlib inline"
   ]
  },
  {
   "cell_type": "code",
   "execution_count": 0,
   "metadata": {
    "colab": {},
    "colab_type": "code",
    "id": "WkFAPLM11xKu"
   },
   "outputs": [],
   "source": [
    "# load model libraries\n",
    "\n",
    "from keras.applications import VGG16\n",
    "from keras.preprocessing.image import load_img, img_to_array, ImageDataGenerator\n",
    "import keras.optimizers\n",
    "from keras.models import Sequential\n",
    "from keras.layers import Dense, Activation, Flatten, Dropout\n",
    "from keras.layers import Conv2D, MaxPooling2D, AveragePooling2D\n",
    "from keras.callbacks import EarlyStopping, ReduceLROnPlateau\n",
    "from sklearn.model_selection import train_test_split\n",
    "from sklearn.metrics import classification_report\n",
    "from sklearn.metrics import confusion_matrix"
   ]
  },
  {
   "cell_type": "code",
   "execution_count": 0,
   "metadata": {
    "colab": {},
    "colab_type": "code",
    "id": "Z9RlgIKIRT6X"
   },
   "outputs": [],
   "source": [
    "# load the label data\n",
    "\n",
    "labels_df = pd.read_csv('/content/drive/My Drive/Capstone/sample_labels.csv', low_memory=False)"
   ]
  },
  {
   "cell_type": "code",
   "execution_count": 0,
   "metadata": {
    "colab": {},
    "colab_type": "code",
    "id": "1Pgrc8_S19Az"
   },
   "outputs": [],
   "source": [
    "# create Y/N field for conditions\n",
    "# the image either does or doesn't have one present\n",
    "\n",
    "def conditions(x):\n",
    "  if 'No Finding' in x:\n",
    "    return 'N'\n",
    "  return 'Y'\n",
    "\n",
    "labels_df['HasCondition'] = labels_df['Finding Labels'].map(conditions)"
   ]
  },
  {
   "cell_type": "code",
   "execution_count": 0,
   "metadata": {
    "colab": {},
    "colab_type": "code",
    "id": "-E6gwHY84BBo"
   },
   "outputs": [],
   "source": [
    "# one hot encode results\n",
    "\n",
    "labels_df_cat = pd.concat([labels_df.drop(['HasCondition'], axis=1), pd.get_dummies(labels_df['HasCondition'], prefix='Condition')], axis=1)"
   ]
  },
  {
   "cell_type": "code",
   "execution_count": 0,
   "metadata": {
    "colab": {},
    "colab_type": "code",
    "id": "4XtitkTxXQ3m"
   },
   "outputs": [],
   "source": [
    "# add one hot encoding for labels\n",
    "# used to include multiple conditions\n",
    "\n",
    "conditions = ['No Finding','Infiltration','Atelectasis','Effusion','Nodule','Pneumothorax','Mass','Consolidation','Pleural_Thickening','Cardiomegaly','Emphysema','Fibrosis','Edema','Pneumonia','Hernia']\n",
    "\n",
    "for i in conditions :\n",
    "    labels_df[i] = labels_df['Finding Labels'].apply(lambda x: 1 if i in x else 0)"
   ]
  },
  {
   "cell_type": "code",
   "execution_count": 0,
   "metadata": {
    "colab": {
     "base_uri": "https://localhost:8080/",
     "height": 241
    },
    "colab_type": "code",
    "id": "Q3VneXeu3VDV",
    "outputId": "13a47be3-42d1-4ae9-a020-147a5fcf3eee"
   },
   "outputs": [
    {
     "data": {
      "text/html": [
       "<div>\n",
       "<style scoped>\n",
       "    .dataframe tbody tr th:only-of-type {\n",
       "        vertical-align: middle;\n",
       "    }\n",
       "\n",
       "    .dataframe tbody tr th {\n",
       "        vertical-align: top;\n",
       "    }\n",
       "\n",
       "    .dataframe thead th {\n",
       "        text-align: right;\n",
       "    }\n",
       "</style>\n",
       "<table border=\"1\" class=\"dataframe\">\n",
       "  <thead>\n",
       "    <tr style=\"text-align: right;\">\n",
       "      <th></th>\n",
       "      <th>Image Index</th>\n",
       "      <th>Finding Labels</th>\n",
       "      <th>Follow-up #</th>\n",
       "      <th>Patient ID</th>\n",
       "      <th>Patient Age</th>\n",
       "      <th>Patient Gender</th>\n",
       "      <th>View Position</th>\n",
       "      <th>OriginalImageWidth</th>\n",
       "      <th>OriginalImageHeight</th>\n",
       "      <th>OriginalImagePixelSpacing_x</th>\n",
       "      <th>OriginalImagePixelSpacing_y</th>\n",
       "      <th>HasCondition</th>\n",
       "      <th>No Finding</th>\n",
       "      <th>Infiltration</th>\n",
       "      <th>Atelectasis</th>\n",
       "      <th>Effusion</th>\n",
       "      <th>Nodule</th>\n",
       "      <th>Pneumothorax</th>\n",
       "      <th>Mass</th>\n",
       "      <th>Consolidation</th>\n",
       "      <th>Pleural_Thickening</th>\n",
       "      <th>Cardiomegaly</th>\n",
       "      <th>Emphysema</th>\n",
       "      <th>Fibrosis</th>\n",
       "      <th>Edema</th>\n",
       "      <th>Pneumonia</th>\n",
       "      <th>Hernia</th>\n",
       "    </tr>\n",
       "  </thead>\n",
       "  <tbody>\n",
       "    <tr>\n",
       "      <th>0</th>\n",
       "      <td>00000013_005.png</td>\n",
       "      <td>Emphysema|Infiltration|Pleural_Thickening|Pneu...</td>\n",
       "      <td>5</td>\n",
       "      <td>13</td>\n",
       "      <td>060Y</td>\n",
       "      <td>M</td>\n",
       "      <td>AP</td>\n",
       "      <td>3056</td>\n",
       "      <td>2544</td>\n",
       "      <td>0.139</td>\n",
       "      <td>0.139</td>\n",
       "      <td>Y</td>\n",
       "      <td>0</td>\n",
       "      <td>1</td>\n",
       "      <td>0</td>\n",
       "      <td>0</td>\n",
       "      <td>0</td>\n",
       "      <td>1</td>\n",
       "      <td>0</td>\n",
       "      <td>0</td>\n",
       "      <td>1</td>\n",
       "      <td>0</td>\n",
       "      <td>1</td>\n",
       "      <td>0</td>\n",
       "      <td>0</td>\n",
       "      <td>0</td>\n",
       "      <td>0</td>\n",
       "    </tr>\n",
       "    <tr>\n",
       "      <th>1</th>\n",
       "      <td>00000013_026.png</td>\n",
       "      <td>Cardiomegaly|Emphysema</td>\n",
       "      <td>26</td>\n",
       "      <td>13</td>\n",
       "      <td>057Y</td>\n",
       "      <td>M</td>\n",
       "      <td>AP</td>\n",
       "      <td>2500</td>\n",
       "      <td>2048</td>\n",
       "      <td>0.168</td>\n",
       "      <td>0.168</td>\n",
       "      <td>Y</td>\n",
       "      <td>0</td>\n",
       "      <td>0</td>\n",
       "      <td>0</td>\n",
       "      <td>0</td>\n",
       "      <td>0</td>\n",
       "      <td>0</td>\n",
       "      <td>0</td>\n",
       "      <td>0</td>\n",
       "      <td>0</td>\n",
       "      <td>1</td>\n",
       "      <td>1</td>\n",
       "      <td>0</td>\n",
       "      <td>0</td>\n",
       "      <td>0</td>\n",
       "      <td>0</td>\n",
       "    </tr>\n",
       "    <tr>\n",
       "      <th>2</th>\n",
       "      <td>00000017_001.png</td>\n",
       "      <td>No Finding</td>\n",
       "      <td>1</td>\n",
       "      <td>17</td>\n",
       "      <td>077Y</td>\n",
       "      <td>M</td>\n",
       "      <td>AP</td>\n",
       "      <td>2500</td>\n",
       "      <td>2048</td>\n",
       "      <td>0.168</td>\n",
       "      <td>0.168</td>\n",
       "      <td>N</td>\n",
       "      <td>1</td>\n",
       "      <td>0</td>\n",
       "      <td>0</td>\n",
       "      <td>0</td>\n",
       "      <td>0</td>\n",
       "      <td>0</td>\n",
       "      <td>0</td>\n",
       "      <td>0</td>\n",
       "      <td>0</td>\n",
       "      <td>0</td>\n",
       "      <td>0</td>\n",
       "      <td>0</td>\n",
       "      <td>0</td>\n",
       "      <td>0</td>\n",
       "      <td>0</td>\n",
       "    </tr>\n",
       "    <tr>\n",
       "      <th>3</th>\n",
       "      <td>00000030_001.png</td>\n",
       "      <td>Atelectasis</td>\n",
       "      <td>1</td>\n",
       "      <td>30</td>\n",
       "      <td>079Y</td>\n",
       "      <td>M</td>\n",
       "      <td>PA</td>\n",
       "      <td>2992</td>\n",
       "      <td>2991</td>\n",
       "      <td>0.143</td>\n",
       "      <td>0.143</td>\n",
       "      <td>Y</td>\n",
       "      <td>0</td>\n",
       "      <td>0</td>\n",
       "      <td>1</td>\n",
       "      <td>0</td>\n",
       "      <td>0</td>\n",
       "      <td>0</td>\n",
       "      <td>0</td>\n",
       "      <td>0</td>\n",
       "      <td>0</td>\n",
       "      <td>0</td>\n",
       "      <td>0</td>\n",
       "      <td>0</td>\n",
       "      <td>0</td>\n",
       "      <td>0</td>\n",
       "      <td>0</td>\n",
       "    </tr>\n",
       "    <tr>\n",
       "      <th>4</th>\n",
       "      <td>00000032_001.png</td>\n",
       "      <td>Cardiomegaly|Edema|Effusion</td>\n",
       "      <td>1</td>\n",
       "      <td>32</td>\n",
       "      <td>055Y</td>\n",
       "      <td>F</td>\n",
       "      <td>AP</td>\n",
       "      <td>2500</td>\n",
       "      <td>2048</td>\n",
       "      <td>0.168</td>\n",
       "      <td>0.168</td>\n",
       "      <td>Y</td>\n",
       "      <td>0</td>\n",
       "      <td>0</td>\n",
       "      <td>0</td>\n",
       "      <td>1</td>\n",
       "      <td>0</td>\n",
       "      <td>0</td>\n",
       "      <td>0</td>\n",
       "      <td>0</td>\n",
       "      <td>0</td>\n",
       "      <td>1</td>\n",
       "      <td>0</td>\n",
       "      <td>0</td>\n",
       "      <td>1</td>\n",
       "      <td>0</td>\n",
       "      <td>0</td>\n",
       "    </tr>\n",
       "  </tbody>\n",
       "</table>\n",
       "</div>"
      ],
      "text/plain": [
       "        Image Index  ... Hernia\n",
       "0  00000013_005.png  ...      0\n",
       "1  00000013_026.png  ...      0\n",
       "2  00000017_001.png  ...      0\n",
       "3  00000030_001.png  ...      0\n",
       "4  00000032_001.png  ...      0\n",
       "\n",
       "[5 rows x 27 columns]"
      ]
     },
     "execution_count": 14,
     "metadata": {
      "tags": []
     },
     "output_type": "execute_result"
    }
   ],
   "source": [
    "labels_df.head()"
   ]
  },
  {
   "cell_type": "code",
   "execution_count": 0,
   "metadata": {
    "colab": {},
    "colab_type": "code",
    "id": "K7GCP9FO6pKb"
   },
   "outputs": [],
   "source": [
    "# load images from directory\n",
    "# save them as a list\n",
    "\n",
    "img_path = '/content/image_path/sample/images/'\n",
    "image_shape = (128,128)\n",
    "scans = list()\n",
    "img_id = list()\n",
    "\n",
    "for file in listdir(img_path):\n",
    "  picture = load_img(img_path+file, target_size=image_shape)\n",
    "  picture = img_to_array(picture)\n",
    "  scans.append(picture)\n",
    "  img_id.append(file)"
   ]
  },
  {
   "cell_type": "code",
   "execution_count": 0,
   "metadata": {
    "colab": {},
    "colab_type": "code",
    "id": "xJm91HQOoLU3"
   },
   "outputs": [],
   "source": [
    "# combine image IDs from download with their labels\n",
    "\n",
    "img_id_df = pd.DataFrame(img_id, columns = ['IMG_ID'])\n",
    "image_labels = labels_df_cat[['Image Index','Condition_N','Condition_Y']]\n",
    "\n",
    "img_id_df = pd.merge(img_id_df, image_labels, how = 'left', left_on = ['IMG_ID'], right_on = ['Image Index'])"
   ]
  },
  {
   "cell_type": "code",
   "execution_count": 0,
   "metadata": {
    "colab": {},
    "colab_type": "code",
    "id": "YvwEnRg5pey-"
   },
   "outputs": [],
   "source": [
    "# create table with just labels for model input\n",
    "\n",
    "labels = img_id_df[['Condition_N','Condition_Y']]"
   ]
  },
  {
   "cell_type": "markdown",
   "metadata": {
    "colab_type": "text",
    "id": "eb17tGlwbaLe"
   },
   "source": [
    "These blocks are the steps that stage the data for the model inputs"
   ]
  },
  {
   "cell_type": "code",
   "execution_count": 0,
   "metadata": {
    "colab": {},
    "colab_type": "code",
    "id": "HbvuGgag7TMu"
   },
   "outputs": [],
   "source": [
    "# convert scans and labels to arrays\n",
    "# makes it easier to load into model\n",
    "\n",
    "all_scans = np.asarray(scans)\n",
    "all_labels = np.asarray(labels)"
   ]
  },
  {
   "cell_type": "code",
   "execution_count": 0,
   "metadata": {
    "colab": {},
    "colab_type": "code",
    "id": "9cxBMR3SAXuk"
   },
   "outputs": [],
   "source": [
    "# set up data for the model\n",
    "\n",
    "seed = 42\n",
    "\n",
    "X = all_scans\n",
    "y = all_labels\n",
    "\n",
    "# this is for original data\n",
    "Xtrain, Xtest, ytrain, ytest = train_test_split(X, y, test_size = 0.2, random_state = seed)\n",
    "\n",
    "#configure data using image data generator\n",
    "\n",
    "train_data_gen = ImageDataGenerator(\n",
    "    rescale = 1.0/255.0,\n",
    "    shear_range = 0.2,\n",
    "    zoom_range = 0.2,\n",
    "    horizontal_flip = True)\n",
    "\n",
    "test_data_gen = ImageDataGenerator(\n",
    "    rescale = 1.0/255.0,\n",
    "    shear_range = 0.2,\n",
    "    zoom_range = 0.2,\n",
    "    horizontal_flip = True)\n"
   ]
  },
  {
   "cell_type": "code",
   "execution_count": 0,
   "metadata": {
    "colab": {},
    "colab_type": "code",
    "id": "9fseGzwPAwsB"
   },
   "outputs": [],
   "source": [
    "# define data for model\n",
    "\n",
    "train_samples = len(Xtrain)\n",
    "test_samples = len(Xtest)\n",
    "\n",
    "# final staging of data\n",
    "\n",
    "train_data = train_data_gen.flow(np.array(Xtrain), ytrain, batch_size = batch_size)\n",
    "test_data = test_data_gen.flow(np.array(Xtest), ytest, batch_size = batch_size)"
   ]
  },
  {
   "cell_type": "code",
   "execution_count": 0,
   "metadata": {
    "colab": {},
    "colab_type": "code",
    "id": "bRx3Kw9iJbbQ"
   },
   "outputs": [],
   "source": [
    "# build the model\n",
    "\n",
    "baseModel = VGG16(weights=\"imagenet\", include_top=False, input_shape=(128, 128, 3))\n",
    "\n",
    "model = Sequential()\n",
    "model.add(baseModel)\n",
    "model.add(Flatten())\n",
    "model.add(Dense(64, activation = 'relu'))\n",
    "model.add(Dropout(0.5))\n",
    "model.add(Dense(2, activation = 'softmax'))\n",
    "\n",
    "init_lr = 0.001\n",
    "epochs = 25\n",
    "bs = 75\n",
    "\n",
    "\n",
    "# compile the model\n",
    "opt = keras.optimizers.Adam(lr = init_lr, decay = init_lr / epochs)\n",
    "model.compile(optimizer = opt, loss = 'binary_crossentropy', metrics = ['accuracy'])\n",
    "\n",
    "\n",
    "# define early stopping\n",
    "#stopping = EarlyStopping(monitor=\"loss\", mode=\"min\")\n",
    "\n",
    "# calculate steps per epoch for training and validation\n",
    "training_steps = train_samples // bs\n",
    "test_steps = test_samples // bs\n",
    "\n",
    "\n"
   ]
  },
  {
   "cell_type": "code",
   "execution_count": 0,
   "metadata": {
    "colab": {},
    "colab_type": "code",
    "id": "lRzA9Gyrs01H"
   },
   "outputs": [],
   "source": [
    "# define callbacks\n",
    "\n",
    "stopping = EarlyStopping(monitor = 'acc', patience = 3)\n",
    "\n",
    "reduceLR = ReduceLROnPlateau(monitor = 'val_loss', factor = 0.1, patience = 2)\n",
    "\n",
    "callback_list = [stopping, reduceLR]"
   ]
  },
  {
   "cell_type": "code",
   "execution_count": 33,
   "metadata": {
    "colab": {
     "base_uri": "https://localhost:8080/",
     "height": 527
    },
    "colab_type": "code",
    "id": "FK0eMO6uRpAl",
    "outputId": "4bb48ff7-709f-4d80-d336-456ed0beda2c"
   },
   "outputs": [
    {
     "name": "stdout",
     "output_type": "stream",
     "text": [
      "Epoch 1/15\n",
      "59/59 [==============================] - 59s 1s/step - loss: 0.7364 - accuracy: 0.5215 - val_loss: 0.6940 - val_accuracy: 0.5416\n",
      "Epoch 2/15\n",
      "59/59 [==============================] - 57s 967ms/step - loss: 0.6938 - accuracy: 0.5371 - val_loss: 0.6988 - val_accuracy: 0.5530\n",
      "Epoch 3/15\n",
      "59/59 [==============================] - 57s 962ms/step - loss: 0.6918 - accuracy: 0.5383 - val_loss: 0.6901 - val_accuracy: 0.5552\n",
      "Epoch 4/15\n",
      "59/59 [==============================] - 58s 980ms/step - loss: 0.6919 - accuracy: 0.5284 - val_loss: 0.6930 - val_accuracy: 0.5477\n",
      "Epoch 5/15\n",
      "59/59 [==============================] - 57s 975ms/step - loss: 0.6906 - accuracy: 0.5423 - val_loss: 0.6879 - val_accuracy: 0.5560\n",
      "Epoch 6/15\n",
      "59/59 [==============================] - 57s 974ms/step - loss: 0.6897 - accuracy: 0.5428 - val_loss: 0.6671 - val_accuracy: 0.5514\n",
      "Epoch 7/15\n",
      "59/59 [==============================] - 56s 955ms/step - loss: 0.6900 - accuracy: 0.5425 - val_loss: 0.6966 - val_accuracy: 0.5514\n",
      "Epoch 8/15\n",
      "59/59 [==============================] - 56s 956ms/step - loss: 0.6900 - accuracy: 0.5404 - val_loss: 0.6886 - val_accuracy: 0.5393\n",
      "Epoch 9/15\n",
      "59/59 [==============================] - 57s 960ms/step - loss: 0.6897 - accuracy: 0.5424 - val_loss: 0.6942 - val_accuracy: 0.5666\n",
      "Epoch 10/15\n",
      "59/59 [==============================] - 58s 978ms/step - loss: 0.6906 - accuracy: 0.5370 - val_loss: 0.6858 - val_accuracy: 0.5439\n",
      "Epoch 11/15\n",
      "59/59 [==============================] - 57s 971ms/step - loss: 0.6887 - accuracy: 0.5479 - val_loss: 0.6914 - val_accuracy: 0.5499\n",
      "Epoch 12/15\n",
      "59/59 [==============================] - 57s 966ms/step - loss: 0.6903 - accuracy: 0.5375 - val_loss: 0.6956 - val_accuracy: 0.5539\n",
      "Epoch 13/15\n",
      "59/59 [==============================] - 56s 954ms/step - loss: 0.6900 - accuracy: 0.5404 - val_loss: 0.6815 - val_accuracy: 0.5492\n",
      "Epoch 14/15\n",
      "59/59 [==============================] - 56s 949ms/step - loss: 0.6904 - accuracy: 0.5361 - val_loss: 0.7012 - val_accuracy: 0.5499\n",
      "Epoch 15/15\n",
      "59/59 [==============================] - 57s 959ms/step - loss: 0.6889 - accuracy: 0.5471 - val_loss: 0.6856 - val_accuracy: 0.5545\n"
     ]
    }
   ],
   "source": [
    "# train the model\n",
    "# this model uses balanced batch generator\n",
    "\n",
    "model_train = model.fit_generator(train_data,\n",
    "                                 steps_per_epoch = training_steps,\n",
    "                                 epochs = 15,\n",
    "                                 validation_data = test_data,\n",
    "                                 validation_steps = test_steps,\n",
    "                                 callbacks = callback_list)"
   ]
  },
  {
   "cell_type": "code",
   "execution_count": 39,
   "metadata": {
    "colab": {
     "base_uri": "https://localhost:8080/",
     "height": 272
    },
    "colab_type": "code",
    "id": "xpUEYUy6yBU9",
    "outputId": "b08cb8c8-209c-4d62-c69c-865b101320fa"
   },
   "outputs": [
    {
     "name": "stdout",
     "output_type": "stream",
     "text": [
      "[INFO] evaluating network...\n",
      "              precision    recall  f1-score   support\n",
      "\n",
      "           0       0.00      0.00      0.00       618\n",
      "           1       0.45      1.00      0.62       504\n",
      "\n",
      "    accuracy                           0.45      1122\n",
      "   macro avg       0.22      0.50      0.31      1122\n",
      "weighted avg       0.20      0.45      0.28      1122\n",
      "\n",
      "[[  0 618]\n",
      " [  0 504]]\n",
      "acc: 0.4492\n",
      "sensitivity: 0.0000\n",
      "specificity: 1.0000\n"
     ]
    }
   ],
   "source": [
    "# plot model training results\n",
    "\n",
    "print(\"[INFO] evaluating network...\")\n",
    "predIdxs = model.predict(Xtest, batch_size=bs)\n",
    "    \n",
    "    \n",
    "# for each image in the testing set we need to find the index of the\n",
    "# label with corresponding largest predicted probability\n",
    "predIdxs = np.argmax(predIdxs, axis=1)\n",
    "    \n",
    "# show a nicely formatted classification report\n",
    "print(classification_report(ytest.argmax(axis=1), predIdxs))\n",
    "    \n",
    "\n",
    "# compute the confusion matrix and and use it to derive the raw\n",
    "# accuracy, sensitivity, and specificity\n",
    "    \n",
    "cm = confusion_matrix(ytest.argmax(axis=1), predIdxs)\n",
    "total = sum(sum(cm))\n",
    "acc = (cm[0, 0] + cm[1, 1]) / total\n",
    "sensitivity = cm[0, 0] / (cm[0, 0] + cm[0, 1])\n",
    "specificity = cm[1, 1] / (cm[1, 0] + cm[1, 1])\n",
    "   \n",
    "# show the confusion matrix, accuracy, sensitivity, and specificity\n",
    "print(cm)\n",
    "print(\"acc: {:.4f}\".format(acc))\n",
    "print(\"sensitivity: {:.4f}\".format(sensitivity))\n",
    "print(\"specificity: {:.4f}\".format(specificity))\n",
    "    \n"
   ]
  },
  {
   "cell_type": "code",
   "execution_count": 0,
   "metadata": {
    "colab": {},
    "colab_type": "code",
    "id": "v8nJd1pNysIO"
   },
   "outputs": [],
   "source": []
  }
 ],
 "metadata": {
  "accelerator": "GPU",
  "colab": {
   "collapsed_sections": [],
   "name": "NIH Sample Data - VGG16.ipynb",
   "provenance": []
  },
  "kernelspec": {
   "display_name": "Python 3",
   "language": "python",
   "name": "python3"
  },
  "language_info": {
   "codemirror_mode": {
    "name": "ipython",
    "version": 3
   },
   "file_extension": ".py",
   "mimetype": "text/x-python",
   "name": "python",
   "nbconvert_exporter": "python",
   "pygments_lexer": "ipython3",
   "version": "3.6.9"
  },
  "toc": {
   "base_numbering": 1,
   "nav_menu": {},
   "number_sections": true,
   "sideBar": true,
   "skip_h1_title": false,
   "title_cell": "Table of Contents",
   "title_sidebar": "Contents",
   "toc_cell": false,
   "toc_position": {},
   "toc_section_display": true,
   "toc_window_display": false
  }
 },
 "nbformat": 4,
 "nbformat_minor": 1
}
