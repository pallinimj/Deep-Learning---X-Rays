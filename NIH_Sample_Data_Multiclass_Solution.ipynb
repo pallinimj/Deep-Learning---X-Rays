{
  "nbformat": 4,
  "nbformat_minor": 0,
  "metadata": {
    "colab": {
      "name": "NIH Sample Data - Multiclass Solution.ipynb",
      "provenance": [],
      "collapsed_sections": []
    },
    "kernelspec": {
      "name": "python3",
      "display_name": "Python 3"
    },
    "accelerator": "GPU"
  },
  "cells": [
    {
      "cell_type": "code",
      "metadata": {
        "id": "HnfFhCgZy8bH",
        "colab_type": "code",
        "outputId": "2b036f70-5a28-4edc-ee8d-55c7e2d3f2e8",
        "colab": {
          "base_uri": "https://localhost:8080/",
          "height": 122
        }
      },
      "source": [
        "# Mount G Drive files\n",
        "\n",
        "from google.colab import drive\n",
        "drive.mount('/content/drive')\n",
        "root_path = '/content/drive/My Drive/Capstone/'"
      ],
      "execution_count": 0,
      "outputs": [
        {
          "output_type": "stream",
          "text": [
            "Go to this URL in a browser: https://accounts.google.com/o/oauth2/auth?client_id=947318989803-6bn6qk8qdgf4n4g3pfee6491hc0brc4i.apps.googleusercontent.com&redirect_uri=urn%3aietf%3awg%3aoauth%3a2.0%3aoob&response_type=code&scope=email%20https%3a%2f%2fwww.googleapis.com%2fauth%2fdocs.test%20https%3a%2f%2fwww.googleapis.com%2fauth%2fdrive%20https%3a%2f%2fwww.googleapis.com%2fauth%2fdrive.photos.readonly%20https%3a%2f%2fwww.googleapis.com%2fauth%2fpeopleapi.readonly\n",
            "\n",
            "Enter your authorization code:\n",
            "··········\n",
            "Mounted at /content/drive\n"
          ],
          "name": "stdout"
        }
      ]
    },
    {
      "cell_type": "code",
      "metadata": {
        "id": "zJY7832nyugJ",
        "colab_type": "code",
        "outputId": "a81ef3d4-25f1-4ac2-a474-2903e4ceafe1",
        "colab": {
          "resources": {
            "http://localhost:8080/nbextensions/google.colab/files.js": {
              "data": "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",
              "ok": true,
              "headers": [
                [
                  "content-type",
                  "application/javascript"
                ]
              ],
              "status": 200,
              "status_text": ""
            }
          },
          "base_uri": "https://localhost:8080/",
          "height": 74
        }
      },
      "source": [
        "# bring in Kaggle API\n",
        "# need to pull this file from Kaggle based on your user ID for the site\n",
        "\n",
        "from google.colab import files\n",
        "\n",
        "api = files.upload() "
      ],
      "execution_count": 0,
      "outputs": [
        {
          "output_type": "display_data",
          "data": {
            "text/html": [
              "\n",
              "     <input type=\"file\" id=\"files-4326c7d8-6a67-4c06-8dfb-15e86462ce2f\" name=\"files[]\" multiple disabled />\n",
              "     <output id=\"result-4326c7d8-6a67-4c06-8dfb-15e86462ce2f\">\n",
              "      Upload widget is only available when the cell has been executed in the\n",
              "      current browser session. Please rerun this cell to enable.\n",
              "      </output>\n",
              "      <script src=\"/nbextensions/google.colab/files.js\"></script> "
            ],
            "text/plain": [
              "<IPython.core.display.HTML object>"
            ]
          },
          "metadata": {
            "tags": []
          }
        },
        {
          "output_type": "stream",
          "text": [
            "Saving kaggle.json to kaggle.json\n"
          ],
          "name": "stdout"
        }
      ]
    },
    {
      "cell_type": "code",
      "metadata": {
        "id": "bxEDSyS7yjr9",
        "colab_type": "code",
        "colab": {}
      },
      "source": [
        "# load Kaggle\n",
        "\n",
        "!pip install -q Kaggle"
      ],
      "execution_count": 0,
      "outputs": []
    },
    {
      "cell_type": "code",
      "metadata": {
        "id": "5D9dbwbuyvyv",
        "colab_type": "code",
        "outputId": "78b110ae-8825-4bcc-a0a2-4adff9cb9fe1",
        "colab": {
          "base_uri": "https://localhost:8080/",
          "height": 34
        }
      },
      "source": [
        "# make a directory to save the .json file\n",
        "\n",
        "! mkdir =p ~/.kaggle\n",
        "! cp kaggle.json ~/.kaggle/\n",
        "! ls ~/.kaggle\n",
        "! chmod 600 ~/.kaggle/kaggle.json"
      ],
      "execution_count": 0,
      "outputs": [
        {
          "output_type": "stream",
          "text": [
            "kaggle.json\n"
          ],
          "name": "stdout"
        }
      ]
    },
    {
      "cell_type": "code",
      "metadata": {
        "id": "YvWj75McyxZ6",
        "colab_type": "code",
        "outputId": "f1c25cac-8569-4e98-e6da-2e77deafa850",
        "colab": {
          "base_uri": "https://localhost:8080/",
          "height": 68
        }
      },
      "source": [
        "# load Kaggle data\n",
        "\n",
        "! kaggle datasets download -d nih-chest-xrays/sample"
      ],
      "execution_count": 0,
      "outputs": [
        {
          "output_type": "stream",
          "text": [
            "Downloading sample.zip to /content\n",
            "100% 4.19G/4.20G [01:37<00:00, 34.5MB/s]\n",
            "100% 4.20G/4.20G [01:37<00:00, 46.2MB/s]\n"
          ],
          "name": "stdout"
        }
      ]
    },
    {
      "cell_type": "code",
      "metadata": {
        "id": "WGIOzLnuPxfW",
        "colab_type": "code",
        "colab": {}
      },
      "source": [
        "# save files in .zip folder to G Drive\n",
        "\n",
        "!unzip -q sample.zip -d image_path"
      ],
      "execution_count": 0,
      "outputs": []
    },
    {
      "cell_type": "code",
      "metadata": {
        "id": "CAvG48jEuuvP",
        "colab_type": "code",
        "outputId": "23337438-cfdc-414f-813a-fcd6a842e4e5",
        "colab": {
          "base_uri": "https://localhost:8080/",
          "height": 51
        }
      },
      "source": [
        "# Load libraries\n",
        "\n",
        "import numpy as np\n",
        "import pandas as pd\n",
        "import matplotlib.pyplot as plt\n",
        "import seaborn as sns\n",
        "from tensorflow.keras.preprocessing.image import ImageDataGenerator, load_img, img_to_array\n",
        "from tensorflow.keras.applications import VGG16, VGG19, InceptionV3, Xception, MobileNet, NASNetLarge, ResNet50\n",
        "from tensorflow.keras.layers import AveragePooling2D\n",
        "from tensorflow.keras.layers import Dropout\n",
        "from tensorflow.keras.layers import Flatten\n",
        "from tensorflow.keras.layers import Dense\n",
        "from tensorflow.keras.layers import Input\n",
        "from tensorflow.keras.models import Model\n",
        "from tensorflow.keras.optimizers import Adam\n",
        "from tensorflow.keras.utils import to_categorical\n",
        "from sklearn.preprocessing import LabelBinarizer\n",
        "from sklearn.model_selection import train_test_split\n",
        "from sklearn.metrics import classification_report\n",
        "from sklearn.metrics import confusion_matrix\n",
        "from imutils import paths\n",
        "import argparse\n",
        "import cv2\n",
        "import os\n",
        "\n",
        "sns.set_style('whitegrid')\n",
        "%matplotlib inline"
      ],
      "execution_count": 0,
      "outputs": [
        {
          "output_type": "stream",
          "text": [
            "/usr/local/lib/python3.6/dist-packages/statsmodels/tools/_testing.py:19: FutureWarning: pandas.util.testing is deprecated. Use the functions in the public API at pandas.testing instead.\n",
            "  import pandas.util.testing as tm\n"
          ],
          "name": "stderr"
        }
      ]
    },
    {
      "cell_type": "code",
      "metadata": {
        "id": "Z9RlgIKIRT6X",
        "colab_type": "code",
        "colab": {}
      },
      "source": [
        "# load the label data\n",
        "\n",
        "labels_df = pd.read_csv('/content/drive/My Drive/Capstone/sample_labels.csv', low_memory=False)"
      ],
      "execution_count": 0,
      "outputs": []
    },
    {
      "cell_type": "code",
      "metadata": {
        "id": "1Pgrc8_S19Az",
        "colab_type": "code",
        "colab": {}
      },
      "source": [
        "# create Y/N field for conditions\n",
        "# the image either does or doesn't have one present\n",
        "\n",
        "def conditions(x):\n",
        "  if 'No Finding' in x:\n",
        "    return 'N'\n",
        "  return 'Y'\n",
        "\n",
        "labels_df['HasCondition'] = labels_df['Finding Labels'].map(conditions)"
      ],
      "execution_count": 0,
      "outputs": []
    },
    {
      "cell_type": "code",
      "metadata": {
        "id": "-E6gwHY84BBo",
        "colab_type": "code",
        "colab": {}
      },
      "source": [
        "# one hot encode results\n",
        "\n",
        "labels_df_cat = pd.concat([labels_df.drop(['HasCondition'], axis=1), pd.get_dummies(labels_df['HasCondition'], prefix='Condition')], axis=1)"
      ],
      "execution_count": 0,
      "outputs": []
    },
    {
      "cell_type": "code",
      "metadata": {
        "id": "4XtitkTxXQ3m",
        "colab_type": "code",
        "colab": {}
      },
      "source": [
        "# add one hot encoding for labels\n",
        "# used to include multiple conditions\n",
        "\n",
        "conditions = ['No Finding','Infiltration','Atelectasis','Effusion','Nodule','Pneumothorax','Mass','Consolidation','Pleural_Thickening','Cardiomegaly','Emphysema','Fibrosis','Edema','Pneumonia','Hernia']\n",
        "\n",
        "for i in conditions :\n",
        "    labels_df[i] = labels_df['Finding Labels'].apply(lambda x: 1 if i in x else 0)"
      ],
      "execution_count": 0,
      "outputs": []
    },
    {
      "cell_type": "code",
      "metadata": {
        "id": "Q3VneXeu3VDV",
        "colab_type": "code",
        "outputId": "3721ad08-ab4f-4156-f77b-983948bfd008",
        "colab": {
          "base_uri": "https://localhost:8080/",
          "height": 241
        }
      },
      "source": [
        "labels_df.head()"
      ],
      "execution_count": 0,
      "outputs": [
        {
          "output_type": "execute_result",
          "data": {
            "text/html": [
              "<div>\n",
              "<style scoped>\n",
              "    .dataframe tbody tr th:only-of-type {\n",
              "        vertical-align: middle;\n",
              "    }\n",
              "\n",
              "    .dataframe tbody tr th {\n",
              "        vertical-align: top;\n",
              "    }\n",
              "\n",
              "    .dataframe thead th {\n",
              "        text-align: right;\n",
              "    }\n",
              "</style>\n",
              "<table border=\"1\" class=\"dataframe\">\n",
              "  <thead>\n",
              "    <tr style=\"text-align: right;\">\n",
              "      <th></th>\n",
              "      <th>Image Index</th>\n",
              "      <th>Finding Labels</th>\n",
              "      <th>Follow-up #</th>\n",
              "      <th>Patient ID</th>\n",
              "      <th>Patient Age</th>\n",
              "      <th>Patient Gender</th>\n",
              "      <th>View Position</th>\n",
              "      <th>OriginalImageWidth</th>\n",
              "      <th>OriginalImageHeight</th>\n",
              "      <th>OriginalImagePixelSpacing_x</th>\n",
              "      <th>OriginalImagePixelSpacing_y</th>\n",
              "      <th>HasCondition</th>\n",
              "      <th>No Finding</th>\n",
              "      <th>Infiltration</th>\n",
              "      <th>Atelectasis</th>\n",
              "      <th>Effusion</th>\n",
              "      <th>Nodule</th>\n",
              "      <th>Pneumothorax</th>\n",
              "      <th>Mass</th>\n",
              "      <th>Consolidation</th>\n",
              "      <th>Pleural_Thickening</th>\n",
              "      <th>Cardiomegaly</th>\n",
              "      <th>Emphysema</th>\n",
              "      <th>Fibrosis</th>\n",
              "      <th>Edema</th>\n",
              "      <th>Pneumonia</th>\n",
              "      <th>Hernia</th>\n",
              "    </tr>\n",
              "  </thead>\n",
              "  <tbody>\n",
              "    <tr>\n",
              "      <th>0</th>\n",
              "      <td>00000013_005.png</td>\n",
              "      <td>Emphysema|Infiltration|Pleural_Thickening|Pneu...</td>\n",
              "      <td>5</td>\n",
              "      <td>13</td>\n",
              "      <td>060Y</td>\n",
              "      <td>M</td>\n",
              "      <td>AP</td>\n",
              "      <td>3056</td>\n",
              "      <td>2544</td>\n",
              "      <td>0.139</td>\n",
              "      <td>0.139</td>\n",
              "      <td>Y</td>\n",
              "      <td>0</td>\n",
              "      <td>1</td>\n",
              "      <td>0</td>\n",
              "      <td>0</td>\n",
              "      <td>0</td>\n",
              "      <td>1</td>\n",
              "      <td>0</td>\n",
              "      <td>0</td>\n",
              "      <td>1</td>\n",
              "      <td>0</td>\n",
              "      <td>1</td>\n",
              "      <td>0</td>\n",
              "      <td>0</td>\n",
              "      <td>0</td>\n",
              "      <td>0</td>\n",
              "    </tr>\n",
              "    <tr>\n",
              "      <th>1</th>\n",
              "      <td>00000013_026.png</td>\n",
              "      <td>Cardiomegaly|Emphysema</td>\n",
              "      <td>26</td>\n",
              "      <td>13</td>\n",
              "      <td>057Y</td>\n",
              "      <td>M</td>\n",
              "      <td>AP</td>\n",
              "      <td>2500</td>\n",
              "      <td>2048</td>\n",
              "      <td>0.168</td>\n",
              "      <td>0.168</td>\n",
              "      <td>Y</td>\n",
              "      <td>0</td>\n",
              "      <td>0</td>\n",
              "      <td>0</td>\n",
              "      <td>0</td>\n",
              "      <td>0</td>\n",
              "      <td>0</td>\n",
              "      <td>0</td>\n",
              "      <td>0</td>\n",
              "      <td>0</td>\n",
              "      <td>1</td>\n",
              "      <td>1</td>\n",
              "      <td>0</td>\n",
              "      <td>0</td>\n",
              "      <td>0</td>\n",
              "      <td>0</td>\n",
              "    </tr>\n",
              "    <tr>\n",
              "      <th>2</th>\n",
              "      <td>00000017_001.png</td>\n",
              "      <td>No Finding</td>\n",
              "      <td>1</td>\n",
              "      <td>17</td>\n",
              "      <td>077Y</td>\n",
              "      <td>M</td>\n",
              "      <td>AP</td>\n",
              "      <td>2500</td>\n",
              "      <td>2048</td>\n",
              "      <td>0.168</td>\n",
              "      <td>0.168</td>\n",
              "      <td>N</td>\n",
              "      <td>1</td>\n",
              "      <td>0</td>\n",
              "      <td>0</td>\n",
              "      <td>0</td>\n",
              "      <td>0</td>\n",
              "      <td>0</td>\n",
              "      <td>0</td>\n",
              "      <td>0</td>\n",
              "      <td>0</td>\n",
              "      <td>0</td>\n",
              "      <td>0</td>\n",
              "      <td>0</td>\n",
              "      <td>0</td>\n",
              "      <td>0</td>\n",
              "      <td>0</td>\n",
              "    </tr>\n",
              "    <tr>\n",
              "      <th>3</th>\n",
              "      <td>00000030_001.png</td>\n",
              "      <td>Atelectasis</td>\n",
              "      <td>1</td>\n",
              "      <td>30</td>\n",
              "      <td>079Y</td>\n",
              "      <td>M</td>\n",
              "      <td>PA</td>\n",
              "      <td>2992</td>\n",
              "      <td>2991</td>\n",
              "      <td>0.143</td>\n",
              "      <td>0.143</td>\n",
              "      <td>Y</td>\n",
              "      <td>0</td>\n",
              "      <td>0</td>\n",
              "      <td>1</td>\n",
              "      <td>0</td>\n",
              "      <td>0</td>\n",
              "      <td>0</td>\n",
              "      <td>0</td>\n",
              "      <td>0</td>\n",
              "      <td>0</td>\n",
              "      <td>0</td>\n",
              "      <td>0</td>\n",
              "      <td>0</td>\n",
              "      <td>0</td>\n",
              "      <td>0</td>\n",
              "      <td>0</td>\n",
              "    </tr>\n",
              "    <tr>\n",
              "      <th>4</th>\n",
              "      <td>00000032_001.png</td>\n",
              "      <td>Cardiomegaly|Edema|Effusion</td>\n",
              "      <td>1</td>\n",
              "      <td>32</td>\n",
              "      <td>055Y</td>\n",
              "      <td>F</td>\n",
              "      <td>AP</td>\n",
              "      <td>2500</td>\n",
              "      <td>2048</td>\n",
              "      <td>0.168</td>\n",
              "      <td>0.168</td>\n",
              "      <td>Y</td>\n",
              "      <td>0</td>\n",
              "      <td>0</td>\n",
              "      <td>0</td>\n",
              "      <td>1</td>\n",
              "      <td>0</td>\n",
              "      <td>0</td>\n",
              "      <td>0</td>\n",
              "      <td>0</td>\n",
              "      <td>0</td>\n",
              "      <td>1</td>\n",
              "      <td>0</td>\n",
              "      <td>0</td>\n",
              "      <td>1</td>\n",
              "      <td>0</td>\n",
              "      <td>0</td>\n",
              "    </tr>\n",
              "  </tbody>\n",
              "</table>\n",
              "</div>"
            ],
            "text/plain": [
              "        Image Index  ... Hernia\n",
              "0  00000013_005.png  ...      0\n",
              "1  00000013_026.png  ...      0\n",
              "2  00000017_001.png  ...      0\n",
              "3  00000030_001.png  ...      0\n",
              "4  00000032_001.png  ...      0\n",
              "\n",
              "[5 rows x 27 columns]"
            ]
          },
          "metadata": {
            "tags": []
          },
          "execution_count": 12
        }
      ]
    },
    {
      "cell_type": "code",
      "metadata": {
        "id": "K7GCP9FO6pKb",
        "colab_type": "code",
        "colab": {}
      },
      "source": [
        "# load images from directory\n",
        "# save them as a list\n",
        "\n",
        "img_path = '/content/image_path/sample/images/'\n",
        "image_shape = (128,128)\n",
        "scans = []\n",
        "img_id = []\n",
        "\n",
        "for file in os.listdir(img_path):\n",
        "  picture = load_img(img_path+file, target_size=image_shape)\n",
        "  picture = img_to_array(picture)\n",
        "  scans.append(picture)\n",
        "  img_id.append(file)"
      ],
      "execution_count": 0,
      "outputs": []
    },
    {
      "cell_type": "code",
      "metadata": {
        "id": "xJm91HQOoLU3",
        "colab_type": "code",
        "colab": {}
      },
      "source": [
        "# combine image IDs from download with their labels\n",
        "\n",
        "img_id_df = pd.DataFrame(img_id, columns = ['IMG_ID'])\n",
        "image_labels = labels_df[['Image Index','No Finding','Infiltration','Atelectasis','Effusion','Nodule','Pneumothorax','Mass','Consolidation','Pleural_Thickening','Cardiomegaly','Emphysema','Fibrosis','Edema','Pneumonia','Hernia']]\n",
        "\n",
        "img_id_df = pd.merge(img_id_df, image_labels, how = 'left', left_on = ['IMG_ID'], right_on = ['Image Index'])"
      ],
      "execution_count": 0,
      "outputs": []
    },
    {
      "cell_type": "code",
      "metadata": {
        "id": "YvwEnRg5pey-",
        "colab_type": "code",
        "colab": {}
      },
      "source": [
        "# create table with just labels for model input\n",
        "\n",
        "labels = img_id_df[['No Finding','Infiltration','Atelectasis','Effusion','Nodule','Pneumothorax','Mass','Consolidation','Pleural_Thickening','Cardiomegaly','Emphysema','Fibrosis','Edema','Pneumonia','Hernia']]"
      ],
      "execution_count": 0,
      "outputs": []
    },
    {
      "cell_type": "markdown",
      "metadata": {
        "id": "eb17tGlwbaLe",
        "colab_type": "text"
      },
      "source": [
        "These blocks are the steps that stage the data for the model inputs"
      ]
    },
    {
      "cell_type": "code",
      "metadata": {
        "id": "9cxBMR3SAXuk",
        "colab_type": "code",
        "colab": {}
      },
      "source": [
        "# set up data for the model\n",
        "\n",
        "seed = 42\n",
        "\n",
        "X = np.array(scans)/255.0\n",
        "y = np.array(labels)\n",
        "\n",
        "# this is for original data\n",
        "trainX, testX, trainY, testY = train_test_split(X, y, test_size = 0.2, random_state = seed)\n",
        "\n",
        "#configure data using image data generator\n",
        "\n",
        "train_data_gen = ImageDataGenerator(\n",
        "    rescale = 1.0/255.0,\n",
        "    rotation_range = 15,\n",
        "    shear_range = 0.2,\n",
        "    zoom_range = 0.2,\n",
        "    fill_mode = 'nearest',\n",
        "    horizontal_flip = True)\n",
        "\n",
        "test_data_gen = ImageDataGenerator(\n",
        "    rescale = 1.0/255.0,\n",
        "    rotation_range = 15,\n",
        "    shear_range = 0.2,\n",
        "    zoom_range = 0.2,\n",
        "    fill_mode = 'nearest',\n",
        "    horizontal_flip = True)\n"
      ],
      "execution_count": 0,
      "outputs": []
    },
    {
      "cell_type": "code",
      "metadata": {
        "id": "_kGV1WVFPzWI",
        "colab_type": "code",
        "outputId": "1ba60665-28dc-4aef-da69-9265bbcb1cd0",
        "colab": {
          "base_uri": "https://localhost:8080/",
          "height": 51
        }
      },
      "source": [
        "# load the VGG16 network, ensuring the head FC layer sets are left\n",
        "# off\n",
        "baseModel = VGG16(weights=\"imagenet\", include_top=False,input_tensor=Input(shape=(128, 128, 3)))\n",
        "\n",
        "# construct the head of the model that will be placed on top of the\n",
        "# the base model\n",
        "headModel = baseModel.output\n",
        "headModel = AveragePooling2D(pool_size=(4, 4))(headModel)\n",
        "headModel = Flatten(name=\"flatten\")(headModel)\n",
        "headModel = Dense(128, activation=\"relu\")(headModel)\n",
        "headModel = Dropout(0.5)(headModel)\n",
        "headModel = Dense(2, activation=\"softmax\")(headModel)"
      ],
      "execution_count": 0,
      "outputs": [
        {
          "output_type": "stream",
          "text": [
            "Downloading data from https://storage.googleapis.com/tensorflow/keras-applications/vgg16/vgg16_weights_tf_dim_ordering_tf_kernels_notop.h5\n",
            "58892288/58889256 [==============================] - 1s 0us/step\n"
          ],
          "name": "stdout"
        }
      ]
    },
    {
      "cell_type": "code",
      "metadata": {
        "id": "foTtp7bVQTYe",
        "colab_type": "code",
        "colab": {}
      },
      "source": [
        "def model_picker(name):\n",
        "#\n",
        "#  \"\"\"Function allows the choice of any pretrained model contained within the \n",
        "#  Keras architecture but without the top classification layers so only the \n",
        "#  bottleneck features are retained.\n",
        "#\n",
        "#  Args: \n",
        "#      Model name (str): The name of the desired model\n",
        "#\n",
        "#  Returns: \n",
        "#      Selected model\n",
        "#  \"\"\"\n",
        "#\n",
        "  if (name == 'VGG16'):\n",
        "        model = VGG16(weights=\"imagenet\", include_top=False,input_tensor=Input(shape=(128, 128, 3)))\n",
        "        \n",
        "  elif (name == 'VGG19'):\n",
        "        model = VGG19(weights=\"imagenet\", include_top=False,input_tensor=Input(shape=(128, 128, 3)))\n",
        "        \n",
        "  elif (name == 'MobileNet'):\n",
        "        model = MobileNet(weights=\"imagenet\", include_top=False,input_tensor=Input(shape=(128, 128, 3)))\n",
        "        \n",
        "  elif (name == 'InceptionV3'):\n",
        "        model = InceptionV3(weights=\"imagenet\", include_top=False,input_tensor=Input(shape=(128, 128, 3)))\n",
        "        \n",
        "  elif (name == 'ResNet50'):\n",
        "        model = ResNet50(weights=\"imagenet\", include_top=False,input_tensor=Input(shape=(128, 128, 3)))\n",
        "        \n",
        "  elif (name == 'Xception'):\n",
        "        model = Xception(weights=\"imagenet\", include_top=False,input_tensor=Input(shape=(128, 128, 3)))\n",
        "        \n",
        "  else:\n",
        "        print(\"Specified model not available\")\n",
        "  return model"
      ],
      "execution_count": 0,
      "outputs": []
    },
    {
      "cell_type": "code",
      "metadata": {
        "id": "QAS1dpt-QWjL",
        "colab_type": "code",
        "outputId": "89352c22-a309-4d37-c53a-b566c6ebed28",
        "colab": {
          "base_uri": "https://localhost:8080/",
          "height": 1000
        }
      },
      "source": [
        "model = ['VGG16','VGG19']\n",
        "#all_models = ['VGG16','VGG19','MobileNet','InceptionV3','ResNet50','Xception']\n",
        "\n",
        "# initialize the training data augmentation object\n",
        "trainAug = ImageDataGenerator(rotation_range=15,fill_mode=\"nearest\")\n",
        "\n",
        "for model_str in model:\n",
        "    \n",
        "#    model = model_picker(model)\n",
        "    \n",
        "    # place the head FC model on top of the base model (this will become\n",
        "    # the actual model we will train)\n",
        "    \n",
        "    baseModel = model_picker(model_str)\n",
        "    \n",
        "    headModel = baseModel.output\n",
        "    headModel = AveragePooling2D(pool_size=(4, 4))(headModel)\n",
        "    headModel = Flatten(name=\"flatten\")(headModel)\n",
        "    headModel = Dense(128, activation=\"relu\")(headModel)\n",
        "    headModel = Dropout(0.5)(headModel)\n",
        "    headModel = Dense(15, activation=\"sigmoid\")(headModel)\n",
        "    \n",
        "    model = Model(inputs=baseModel.input, outputs=headModel)\n",
        "    \n",
        "    # loop over all layers in the base model and freeze them so they will\n",
        "    # *not* be updated during the first training process\n",
        "    for layer in baseModel.layers:\n",
        "        layer.trainable = False\n",
        "        \n",
        "    # compile our model\n",
        "    INIT_LR = 1e-3\n",
        "    EPOCHS = 25\n",
        "    BS = 100\n",
        "    \n",
        "    print(\"[INFO] compiling model...\"+model_str)\n",
        "    opt = Adam(lr=INIT_LR, decay=INIT_LR / EPOCHS)\n",
        "    model.compile(loss=\"binary_crossentropy\", optimizer=opt,metrics=[\"accuracy\"])\n",
        "    \n",
        "    # train the head of the network\n",
        "    print(\"[INFO] training head...\")\n",
        "    H = model.fit_generator(\n",
        "        trainAug.flow(trainX, trainY, batch_size=BS),\n",
        "        steps_per_epoch=len(trainX) // BS,\n",
        "        validation_data=(testX, testY),\n",
        "        validation_steps=len(testX) // BS,\n",
        "        epochs=EPOCHS,\n",
        "        verbose = 1)\n",
        "    \n",
        "    # make predictions on the testing set\n",
        "    print(\"[INFO] evaluating network...\")\n",
        "    predIdxs = model.predict(testX, batch_size=BS)\n",
        "    \n",
        "    \n",
        "    # for each image in the testing set we need to find the index of the\n",
        "    # label with corresponding largest predicted probability\n",
        "    predIdxs = np.argmax(predIdxs, axis=1)\n",
        "    \n",
        "    # show a nicely formatted classification report\n",
        "    #print(classification_report(testY.argmax(axis=1), predIdxs,target_names=lb.classes_))\n",
        "    \n",
        "    \n",
        "    # compute the confusion matrix and and use it to derive the raw\n",
        "    # accuracy, sensitivity, and specificity\n",
        "    \n",
        "    cm = confusion_matrix(testY.argmax(axis=1), predIdxs)\n",
        "    total = sum(sum(cm))\n",
        "    acc = (cm[0, 0] + cm[1, 1]) / total\n",
        "    sensitivity = cm[0, 0] / (cm[0, 0] + cm[0, 1])\n",
        "    specificity = cm[1, 1] / (cm[1, 0] + cm[1, 1])\n",
        "    \n",
        "    \n",
        "    # show the confusion matrix, accuracy, sensitivity, and specificity\n",
        "    print(cm)\n",
        "    print(\"acc: {:.4f}\".format(acc))\n",
        "    print(\"sensitivity: {:.4f}\".format(sensitivity))\n",
        "    print(\"specificity: {:.4f}\".format(specificity))\n",
        "    \n",
        "    # plot the training loss and accuracy\n",
        "    N = EPOCHS\n",
        "    plt.style.use(\"ggplot\")\n",
        "    plt.figure()\n",
        "    #plt.plot(np.arange(0, N), H.history[\"loss\"], label=\"train_loss\")\n",
        "    #plt.plot(np.arange(0, N), H.history[\"val_loss\"], label=\"val_loss\")\n",
        "    plt.plot(np.arange(0, N), H.history[\"accuracy\"], label=\"train_acc\")\n",
        "    plt.plot(np.arange(0, N), H.history[\"val_accuracy\"], label=\"val_acc\")\n",
        "    plt.title(\"Training Loss and Accuracy on NIH Dataset\")\n",
        "    plt.xlabel(\"Epoch #\")\n",
        "    plt.ylabel(\"Loss/Accuracy\")\n",
        "    plt.legend(loc=\"lower left\")\n",
        "    plt.savefig('plot')\n",
        "    plt.show()\n",
        "    \n",
        "    # serialize the model to disk\n",
        "    print(\"[INFO] saving NIH detector model...\")\n",
        "    model.save('covid19_model_'+model_str)"
      ],
      "execution_count": 0,
      "outputs": [
        {
          "output_type": "stream",
          "text": [
            "[INFO] compiling model...VGG16\n",
            "[INFO] training head...\n",
            "Epoch 1/25\n",
            "44/44 [==============================] - 24s 556ms/step - loss: 0.3519 - accuracy: 0.3960 - val_loss: 0.2305 - val_accuracy: 0.5098\n",
            "Epoch 2/25\n",
            "44/44 [==============================] - 24s 548ms/step - loss: 0.2454 - accuracy: 0.4991 - val_loss: 0.2240 - val_accuracy: 0.5098\n",
            "Epoch 3/25\n",
            "44/44 [==============================] - 24s 551ms/step - loss: 0.2338 - accuracy: 0.5287 - val_loss: 0.2204 - val_accuracy: 0.5098\n",
            "Epoch 4/25\n",
            "44/44 [==============================] - 24s 553ms/step - loss: 0.2242 - accuracy: 0.5420 - val_loss: 0.2195 - val_accuracy: 0.5098\n",
            "Epoch 5/25\n",
            "44/44 [==============================] - 24s 551ms/step - loss: 0.2208 - accuracy: 0.5477 - val_loss: 0.2184 - val_accuracy: 0.5098\n",
            "Epoch 6/25\n",
            "44/44 [==============================] - 24s 548ms/step - loss: 0.2184 - accuracy: 0.5497 - val_loss: 0.2166 - val_accuracy: 0.5098\n",
            "Epoch 7/25\n",
            "44/44 [==============================] - 24s 554ms/step - loss: 0.2164 - accuracy: 0.5486 - val_loss: 0.2162 - val_accuracy: 0.5098\n",
            "Epoch 8/25\n",
            "44/44 [==============================] - 24s 549ms/step - loss: 0.2138 - accuracy: 0.5509 - val_loss: 0.2149 - val_accuracy: 0.5107\n",
            "Epoch 9/25\n",
            "44/44 [==============================] - 24s 548ms/step - loss: 0.2124 - accuracy: 0.5516 - val_loss: 0.2159 - val_accuracy: 0.5107\n",
            "Epoch 10/25\n",
            "44/44 [==============================] - 24s 553ms/step - loss: 0.2124 - accuracy: 0.5500 - val_loss: 0.2136 - val_accuracy: 0.5080\n",
            "Epoch 11/25\n",
            "44/44 [==============================] - 24s 551ms/step - loss: 0.2102 - accuracy: 0.5511 - val_loss: 0.2157 - val_accuracy: 0.5107\n",
            "Epoch 12/25\n",
            "44/44 [==============================] - 24s 551ms/step - loss: 0.2087 - accuracy: 0.5516 - val_loss: 0.2131 - val_accuracy: 0.5116\n",
            "Epoch 13/25\n",
            "44/44 [==============================] - 24s 550ms/step - loss: 0.2080 - accuracy: 0.5541 - val_loss: 0.2132 - val_accuracy: 0.5107\n",
            "Epoch 14/25\n",
            "44/44 [==============================] - 24s 550ms/step - loss: 0.2078 - accuracy: 0.5511 - val_loss: 0.2132 - val_accuracy: 0.5089\n",
            "Epoch 15/25\n",
            "44/44 [==============================] - 24s 550ms/step - loss: 0.2065 - accuracy: 0.5513 - val_loss: 0.2147 - val_accuracy: 0.5089\n",
            "Epoch 16/25\n",
            "44/44 [==============================] - 24s 550ms/step - loss: 0.2068 - accuracy: 0.5538 - val_loss: 0.2136 - val_accuracy: 0.5116\n",
            "Epoch 17/25\n",
            "44/44 [==============================] - 24s 549ms/step - loss: 0.2055 - accuracy: 0.5554 - val_loss: 0.2145 - val_accuracy: 0.5116\n",
            "Epoch 18/25\n",
            "44/44 [==============================] - 24s 547ms/step - loss: 0.2059 - accuracy: 0.5541 - val_loss: 0.2130 - val_accuracy: 0.5098\n",
            "Epoch 19/25\n",
            "44/44 [==============================] - 24s 553ms/step - loss: 0.2067 - accuracy: 0.5481 - val_loss: 0.2127 - val_accuracy: 0.5080\n",
            "Epoch 20/25\n",
            "44/44 [==============================] - 24s 550ms/step - loss: 0.2046 - accuracy: 0.5538 - val_loss: 0.2140 - val_accuracy: 0.5098\n",
            "Epoch 21/25\n",
            "44/44 [==============================] - 24s 553ms/step - loss: 0.2053 - accuracy: 0.5511 - val_loss: 0.2160 - val_accuracy: 0.5098\n",
            "Epoch 22/25\n",
            "44/44 [==============================] - 24s 554ms/step - loss: 0.2055 - accuracy: 0.5490 - val_loss: 0.2119 - val_accuracy: 0.5143\n",
            "Epoch 23/25\n",
            "44/44 [==============================] - 24s 549ms/step - loss: 0.2050 - accuracy: 0.5511 - val_loss: 0.2161 - val_accuracy: 0.5107\n",
            "Epoch 24/25\n",
            "44/44 [==============================] - 24s 546ms/step - loss: 0.2037 - accuracy: 0.5543 - val_loss: 0.2127 - val_accuracy: 0.5125\n",
            "Epoch 25/25\n",
            "44/44 [==============================] - 24s 546ms/step - loss: 0.2035 - accuracy: 0.5536 - val_loss: 0.2110 - val_accuracy: 0.5107\n",
            "[INFO] evaluating network...\n",
            "[[564   6   0   2   0   0   0   0   0   0   0   0   0   0]\n",
            " [210   6   0   1   0   0   0   0   0   0   0   0   0   0]\n",
            " [ 78   1   0   0   0   0   0   0   0   0   0   0   0   0]\n",
            " [ 66   5   0   3   0   0   0   0   0   0   0   0   0   0]\n",
            " [ 36   1   0   0   0   0   0   0   0   0   0   0   0   0]\n",
            " [ 40   0   0   0   0   0   0   0   0   0   0   0   0   0]\n",
            " [ 27   0   0   1   0   0   0   0   0   0   0   0   0   0]\n",
            " [ 19   1   0   0   0   0   0   0   0   0   0   0   0   0]\n",
            " [ 15   0   0   0   0   0   0   0   0   0   0   0   0   0]\n",
            " [ 10   1   0   0   0   0   0   0   0   0   0   0   0   0]\n",
            " [ 10   0   0   0   0   0   0   0   0   0   0   0   0   0]\n",
            " [  7   0   0   0   0   0   0   0   0   0   0   0   0   0]\n",
            " [  9   0   0   0   0   0   0   0   0   0   0   0   0   0]\n",
            " [  3   0   0   0   0   0   0   0   0   0   0   0   0   0]]\n",
            "acc: 0.5080\n",
            "sensitivity: 0.9895\n",
            "specificity: 0.0278\n"
          ],
          "name": "stdout"
        },
        {
          "output_type": "display_data",
          "data": {
            "image/png": "[encoded data removed]",
            "text/plain": [
              "<Figure size 432x288 with 1 Axes>"
            ]
          },
          "metadata": {
            "tags": []
          }
        },
        {
          "output_type": "stream",
          "text": [
            "[INFO] saving NIH detector model...\n",
            "WARNING:tensorflow:From /usr/local/lib/python3.6/dist-packages/tensorflow/python/ops/resource_variable_ops.py:1817: calling BaseResourceVariable.__init__ (from tensorflow.python.ops.resource_variable_ops) with constraint is deprecated and will be removed in a future version.\n",
            "Instructions for updating:\n",
            "If using Keras pass *_constraint arguments to layers.\n",
            "INFO:tensorflow:Assets written to: covid19_model_VGG16/assets\n",
            "Downloading data from https://storage.googleapis.com/tensorflow/keras-applications/vgg19/vgg19_weights_tf_dim_ordering_tf_kernels_notop.h5\n",
            "80142336/80134624 [==============================] - 1s 0us/step\n",
            "[INFO] compiling model...VGG19\n",
            "[INFO] training head...\n",
            "Epoch 1/25\n",
            "44/44 [==============================] - 26s 590ms/step - loss: 0.3511 - accuracy: 0.3857 - val_loss: 0.2300 - val_accuracy: 0.5098\n",
            "Epoch 2/25\n",
            "44/44 [==============================] - 26s 586ms/step - loss: 0.2456 - accuracy: 0.5009 - val_loss: 0.2244 - val_accuracy: 0.5098\n",
            "Epoch 3/25\n",
            "44/44 [==============================] - 26s 587ms/step - loss: 0.2331 - accuracy: 0.5370 - val_loss: 0.2226 - val_accuracy: 0.5098\n",
            "Epoch 4/25\n",
            "44/44 [==============================] - 26s 589ms/step - loss: 0.2282 - accuracy: 0.5413 - val_loss: 0.2221 - val_accuracy: 0.5098\n",
            "Epoch 5/25\n",
            "44/44 [==============================] - 26s 590ms/step - loss: 0.2256 - accuracy: 0.5488 - val_loss: 0.2215 - val_accuracy: 0.5098\n",
            "Epoch 6/25\n",
            "44/44 [==============================] - 26s 599ms/step - loss: 0.2239 - accuracy: 0.5493 - val_loss: 0.2215 - val_accuracy: 0.5098\n",
            "Epoch 7/25\n",
            "44/44 [==============================] - 26s 586ms/step - loss: 0.2212 - accuracy: 0.5486 - val_loss: 0.2204 - val_accuracy: 0.5098\n",
            "Epoch 8/25\n",
            "44/44 [==============================] - 26s 593ms/step - loss: 0.2180 - accuracy: 0.5490 - val_loss: 0.2190 - val_accuracy: 0.5098\n",
            "Epoch 9/25\n",
            "44/44 [==============================] - 26s 586ms/step - loss: 0.2184 - accuracy: 0.5502 - val_loss: 0.2186 - val_accuracy: 0.5098\n",
            "Epoch 10/25\n",
            "44/44 [==============================] - 26s 585ms/step - loss: 0.2157 - accuracy: 0.5529 - val_loss: 0.2188 - val_accuracy: 0.5098\n",
            "Epoch 11/25\n",
            "44/44 [==============================] - 26s 585ms/step - loss: 0.2155 - accuracy: 0.5522 - val_loss: 0.2178 - val_accuracy: 0.5098\n",
            "Epoch 12/25\n",
            "44/44 [==============================] - 26s 590ms/step - loss: 0.2144 - accuracy: 0.5506 - val_loss: 0.2173 - val_accuracy: 0.5098\n",
            "Epoch 13/25\n",
            "44/44 [==============================] - 26s 591ms/step - loss: 0.2130 - accuracy: 0.5531 - val_loss: 0.2172 - val_accuracy: 0.5098\n",
            "Epoch 14/25\n",
            "44/44 [==============================] - 26s 588ms/step - loss: 0.2135 - accuracy: 0.5511 - val_loss: 0.2166 - val_accuracy: 0.5098\n",
            "Epoch 15/25\n",
            "44/44 [==============================] - 26s 589ms/step - loss: 0.2126 - accuracy: 0.5509 - val_loss: 0.2162 - val_accuracy: 0.5098\n",
            "Epoch 16/25\n",
            "44/44 [==============================] - 26s 587ms/step - loss: 0.2112 - accuracy: 0.5484 - val_loss: 0.2168 - val_accuracy: 0.5098\n",
            "Epoch 17/25\n",
            "44/44 [==============================] - 26s 587ms/step - loss: 0.2108 - accuracy: 0.5530 - val_loss: 0.2170 - val_accuracy: 0.5098\n",
            "Epoch 18/25\n",
            "44/44 [==============================] - 26s 586ms/step - loss: 0.2109 - accuracy: 0.5513 - val_loss: 0.2167 - val_accuracy: 0.5098\n",
            "Epoch 19/25\n",
            "44/44 [==============================] - 26s 586ms/step - loss: 0.2098 - accuracy: 0.5545 - val_loss: 0.2145 - val_accuracy: 0.5080\n",
            "Epoch 20/25\n",
            "44/44 [==============================] - 26s 589ms/step - loss: 0.2095 - accuracy: 0.5509 - val_loss: 0.2161 - val_accuracy: 0.5098\n",
            "Epoch 21/25\n",
            "44/44 [==============================] - 26s 584ms/step - loss: 0.2103 - accuracy: 0.5511 - val_loss: 0.2156 - val_accuracy: 0.5080\n",
            "Epoch 22/25\n",
            "44/44 [==============================] - 26s 585ms/step - loss: 0.2079 - accuracy: 0.5518 - val_loss: 0.2140 - val_accuracy: 0.5089\n",
            "Epoch 23/25\n",
            "44/44 [==============================] - 26s 586ms/step - loss: 0.2085 - accuracy: 0.5525 - val_loss: 0.2144 - val_accuracy: 0.5080\n",
            "Epoch 24/25\n",
            "44/44 [==============================] - 26s 583ms/step - loss: 0.2083 - accuracy: 0.5538 - val_loss: 0.2134 - val_accuracy: 0.5098\n",
            "Epoch 25/25\n",
            "44/44 [==============================] - 26s 584ms/step - loss: 0.2082 - accuracy: 0.5506 - val_loss: 0.2143 - val_accuracy: 0.5089\n",
            "[INFO] evaluating network...\n",
            "[[570   2   0   0   0   0   0   0   0   0   0   0   0   0]\n",
            " [216   1   0   0   0   0   0   0   0   0   0   0   0   0]\n",
            " [ 79   0   0   0   0   0   0   0   0   0   0   0   0   0]\n",
            " [ 72   2   0   0   0   0   0   0   0   0   0   0   0   0]\n",
            " [ 36   1   0   0   0   0   0   0   0   0   0   0   0   0]\n",
            " [ 40   0   0   0   0   0   0   0   0   0   0   0   0   0]\n",
            " [ 28   0   0   0   0   0   0   0   0   0   0   0   0   0]\n",
            " [ 20   0   0   0   0   0   0   0   0   0   0   0   0   0]\n",
            " [ 15   0   0   0   0   0   0   0   0   0   0   0   0   0]\n",
            " [ 11   0   0   0   0   0   0   0   0   0   0   0   0   0]\n",
            " [ 10   0   0   0   0   0   0   0   0   0   0   0   0   0]\n",
            " [  7   0   0   0   0   0   0   0   0   0   0   0   0   0]\n",
            " [  9   0   0   0   0   0   0   0   0   0   0   0   0   0]\n",
            " [  3   0   0   0   0   0   0   0   0   0   0   0   0   0]]\n",
            "acc: 0.5089\n",
            "sensitivity: 0.9965\n",
            "specificity: 0.0046\n"
          ],
          "name": "stdout"
        },
        {
          "output_type": "display_data",
          "data": {
            "image/png": "[encoded data removed]",
            "text/plain": [
              "<Figure size 432x288 with 1 Axes>"
            ]
          },
          "metadata": {
            "tags": []
          }
        },
        {
          "output_type": "stream",
          "text": [
            "[INFO] saving NIH detector model...\n",
            "INFO:tensorflow:Assets written to: covid19_model_VGG19/assets\n"
          ],
          "name": "stdout"
        }
      ]
    }
  ]
}