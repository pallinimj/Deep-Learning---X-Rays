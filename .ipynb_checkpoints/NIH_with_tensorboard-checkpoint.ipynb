{
 "cells": [
  {
   "cell_type": "markdown",
   "metadata": {
    "colab_type": "text",
    "id": "view-in-github"
   },
   "source": [
    "<a href=\"https://colab.research.google.com/github/mthomp89/NU_489_capstone/blob/develop_thompson/NIH_with_tensorboard.ipynb\" target=\"_parent\"><img src=\"https://colab.research.google.com/assets/colab-badge.svg\" alt=\"Open In Colab\"/></a>"
   ]
  },
  {
   "cell_type": "markdown",
   "metadata": {
    "colab_type": "text",
    "id": "9aTbgBY2eYg1"
   },
   "source": [
    "# **Modeling NIH Dataset**"
   ]
  },
  {
   "cell_type": "code",
   "execution_count": 0,
   "metadata": {
    "colab": {},
    "colab_type": "code",
    "id": "xuCYIULxpdMr"
   },
   "outputs": [],
   "source": [
    "!rm -rf /content/sample_data"
   ]
  },
  {
   "cell_type": "markdown",
   "metadata": {
    "colab_type": "text",
    "id": "6jtpRagreiE6"
   },
   "source": [
    "## Imports"
   ]
  },
  {
   "cell_type": "code",
   "execution_count": 0,
   "metadata": {
    "colab": {},
    "colab_type": "code",
    "id": "jZDMSRWhZemB"
   },
   "outputs": [],
   "source": [
    "# Load the TensorBoard notebook extension\n",
    "%load_ext tensorboard"
   ]
  },
  {
   "cell_type": "code",
   "execution_count": 0,
   "metadata": {
    "colab": {},
    "colab_type": "code",
    "id": "CAvG48jEuuvP"
   },
   "outputs": [],
   "source": [
    "# Load general libraries\n",
    "\n",
    "import time\n",
    "import datetime\n",
    "import numpy as np\n",
    "import pandas as pd\n",
    "import matplotlib.pyplot as plt\n",
    "import seaborn as sns\n",
    "from glob import glob\n",
    "from os import path, listdir\n",
    "import zipfile\n",
    "import warnings\n",
    "from collections import Counter\n",
    "\n",
    "warnings.filterwarnings('ignore')\n",
    "\n",
    "sns.set_style('whitegrid')\n",
    "%matplotlib inline"
   ]
  },
  {
   "cell_type": "code",
   "execution_count": 0,
   "metadata": {
    "colab": {},
    "colab_type": "code",
    "id": "_6jEegKJ8WAJ"
   },
   "outputs": [],
   "source": [
    "# Load library models\n",
    "\n",
    "from tensorflow.keras import layers, models\n",
    "import tensorflow as tf\n",
    "from tensorflow.keras.preprocessing.image import load_img, img_to_array, ImageDataGenerator\n",
    "from tensorflow.keras.models import load_model\n",
    "from tensorflow.keras.callbacks import EarlyStopping, ModelCheckpoint, CSVLogger\n",
    "from tensorflow.keras.optimizers import SGD, Adam, RMSprop\n",
    "from tensorflow.keras.utils import to_categorical\n",
    "from tensorflow.keras.callbacks import Callback, EarlyStopping\n",
    "from tensorflow.keras.callbacks import TensorBoard\n",
    "\n",
    "from sklearn.model_selection import train_test_split\n",
    "from sklearn.metrics import roc_auc_score, precision_score, recall_score, f1_score, multilabel_confusion_matrix, classification_report\n",
    "from sklearn.preprocessing import StandardScaler\n",
    "\n",
    "#from imblearn.keras import balanced_batch_generator\n",
    "#from imblearn.over_sampling import SMOTE"
   ]
  },
  {
   "cell_type": "code",
   "execution_count": 0,
   "metadata": {
    "colab": {},
    "colab_type": "code",
    "id": "-cg4ilrFoKR5"
   },
   "outputs": [],
   "source": [
    "from packaging import version\n",
    "\n",
    "#import tensorflow as tf\n",
    "#from tensorflow import keras\n",
    "\n",
    "print(\"TensorFlow version: \", tf.__version__)\n",
    "assert version.parse(tf.__version__).release[0] >= 2, \\\n",
    "    \"This notebook requires TensorFlow 2.0 or above.\"\n"
   ]
  },
  {
   "cell_type": "markdown",
   "metadata": {
    "colab_type": "text",
    "id": "oBRbWwXJfL1K"
   },
   "source": [
    "## Mount Drive and Kaggle"
   ]
  },
  {
   "cell_type": "code",
   "execution_count": 0,
   "metadata": {
    "colab": {},
    "colab_type": "code",
    "id": "HnfFhCgZy8bH"
   },
   "outputs": [],
   "source": [
    "# Mount G Drive files\n",
    "\n",
    "from google.colab import drive\n",
    "drive.mount('/content/drive')\n",
    "root_path = '/content/drive/My Drive/'"
   ]
  },
  {
   "cell_type": "code",
   "execution_count": 0,
   "metadata": {
    "colab": {},
    "colab_type": "code",
    "id": "zJY7832nyugJ"
   },
   "outputs": [],
   "source": [
    "# bring in Kaggle API\n",
    "# need to pull this file from Kaggle based on your user ID for the site\n",
    "\n",
    "from google.colab import files\n",
    "\n",
    "api = files.upload() "
   ]
  },
  {
   "cell_type": "code",
   "execution_count": 0,
   "metadata": {
    "colab": {},
    "colab_type": "code",
    "id": "bxEDSyS7yjr9"
   },
   "outputs": [],
   "source": [
    "# load Kaggle\n",
    "\n",
    "!pip install -q Kaggle"
   ]
  },
  {
   "cell_type": "code",
   "execution_count": 0,
   "metadata": {
    "colab": {},
    "colab_type": "code",
    "id": "5D9dbwbuyvyv"
   },
   "outputs": [],
   "source": [
    "# make a directory to save the .json file\n",
    "\n",
    "! mkdir =p ~/.kaggle\n",
    "! cp kaggle.json ~/.kaggle/\n",
    "! ls ~/.kaggle\n",
    "! chmod 600 ~/.kaggle/kaggle.json"
   ]
  },
  {
   "cell_type": "markdown",
   "metadata": {
    "colab_type": "text",
    "id": "QxYoqJNYfiQK"
   },
   "source": [
    " ## Load Data"
   ]
  },
  {
   "cell_type": "code",
   "execution_count": 0,
   "metadata": {
    "colab": {},
    "colab_type": "code",
    "id": "YvWj75McyxZ6"
   },
   "outputs": [],
   "source": [
    "# load Kaggle data\n",
    "%timeit\n",
    "! kaggle datasets download -d nih-chest-xrays/sample\n",
    "\n",
    "# Not enough disk space on Colab to unzip the whole dataset\n",
    "#! kaggle datasets download -d nih-chest-xrays/data"
   ]
  },
  {
   "cell_type": "code",
   "execution_count": 0,
   "metadata": {
    "colab": {},
    "colab_type": "code",
    "id": "WGIOzLnuPxfW"
   },
   "outputs": [],
   "source": [
    "# save files in .zip folder to G Drive\n",
    "\n",
    "!unzip -q sample.zip -d image_path"
   ]
  },
  {
   "cell_type": "markdown",
   "metadata": {
    "colab_type": "text",
    "id": "zixaq5uybU2U"
   },
   "source": [
    "## Curate Data"
   ]
  },
  {
   "cell_type": "code",
   "execution_count": 0,
   "metadata": {
    "colab": {},
    "colab_type": "code",
    "id": "Z9RlgIKIRT6X"
   },
   "outputs": [],
   "source": [
    "# load the label data\n",
    "\n",
    "labels_df = pd.read_csv('/content/image_path/sample_labels.csv', low_memory=False)"
   ]
  },
  {
   "cell_type": "code",
   "execution_count": 0,
   "metadata": {
    "colab": {},
    "colab_type": "code",
    "id": "1Pgrc8_S19Az"
   },
   "outputs": [],
   "source": [
    "# create Y/N field for conditions\n",
    "# the image either does or doesn't have one present\n",
    "\n",
    "def conditions(x):\n",
    "  if 'No Finding' in x:\n",
    "    return 'N'\n",
    "  return 'Y'\n",
    "\n",
    "labels_df['HasCondition'] = labels_df['Finding Labels'].map(conditions)"
   ]
  },
  {
   "cell_type": "code",
   "execution_count": 0,
   "metadata": {
    "colab": {},
    "colab_type": "code",
    "id": "-E6gwHY84BBo"
   },
   "outputs": [],
   "source": [
    "# one hot encode results\n",
    "\n",
    "labels_df_cat = pd.concat([labels_df.drop(['HasCondition'], axis=1), pd.get_dummies(labels_df['HasCondition'], prefix='Condition')], axis=1)"
   ]
  },
  {
   "cell_type": "code",
   "execution_count": 0,
   "metadata": {
    "colab": {},
    "colab_type": "code",
    "id": "4XtitkTxXQ3m"
   },
   "outputs": [],
   "source": [
    "# add one hot encoding for labels\n",
    "# used to include multiple conditions\n",
    "\n",
    "conditions = ['No Finding','Infiltration','Atelectasis','Effusion','Nodule','Pneumothorax','Mass','Consolidation','Pleural_Thickening','Cardiomegaly','Emphysema','Fibrosis','Edema','Pneumonia','Hernia']\n",
    "\n",
    "for i in conditions :\n",
    "    labels_df[i] = labels_df['Finding Labels'].apply(lambda x: 1 if i in x else 0)"
   ]
  },
  {
   "cell_type": "code",
   "execution_count": 0,
   "metadata": {
    "colab": {},
    "colab_type": "code",
    "id": "Q3VneXeu3VDV"
   },
   "outputs": [],
   "source": [
    "labels_df.head()"
   ]
  },
  {
   "cell_type": "code",
   "execution_count": 0,
   "metadata": {
    "colab": {},
    "colab_type": "code",
    "id": "K7GCP9FO6pKb"
   },
   "outputs": [],
   "source": [
    "# load images from directory\n",
    "# save them as a list\n",
    "\n",
    "img_path = '/content/image_path/sample/images/'\n",
    "image_shape = (128,128)\n",
    "scans = list()\n",
    "img_id = list()\n",
    "\n",
    "for file in listdir(img_path):\n",
    "  picture = load_img(img_path+file, target_size=image_shape)\n",
    "  picture = img_to_array(picture)\n",
    "  scans.append(picture)\n",
    "  img_id.append(file)"
   ]
  },
  {
   "cell_type": "code",
   "execution_count": 0,
   "metadata": {
    "colab": {},
    "colab_type": "code",
    "id": "xJm91HQOoLU3"
   },
   "outputs": [],
   "source": [
    "# combine image IDs from download with their labels\n",
    "\n",
    "img_id_df = pd.DataFrame(img_id, columns = ['IMG_ID'])\n",
    "image_labels = labels_df_cat[['Image Index','Condition_N','Condition_Y']]\n",
    "\n",
    "img_id_df = pd.merge(img_id_df, image_labels, how = 'left', left_on = ['IMG_ID'], right_on = ['Image Index'])"
   ]
  },
  {
   "cell_type": "code",
   "execution_count": 0,
   "metadata": {
    "colab": {},
    "colab_type": "code",
    "id": "YvwEnRg5pey-"
   },
   "outputs": [],
   "source": [
    "# create table with just labels for model input\n",
    "\n",
    "labels = img_id_df[['Condition_N','Condition_Y']]"
   ]
  },
  {
   "cell_type": "markdown",
   "metadata": {
    "colab_type": "text",
    "id": "Op6DQSV9gQoE"
   },
   "source": [
    "## Prepare Data"
   ]
  },
  {
   "cell_type": "code",
   "execution_count": 0,
   "metadata": {
    "colab": {},
    "colab_type": "code",
    "id": "i_EL-SaUgOJU"
   },
   "outputs": [],
   "source": [
    "# Clear any logs from previous runs\n",
    "!rm -rf ./logs/ "
   ]
  },
  {
   "cell_type": "code",
   "execution_count": 0,
   "metadata": {
    "colab": {},
    "colab_type": "code",
    "id": "HbvuGgag7TMu"
   },
   "outputs": [],
   "source": [
    "# convert scans and labels to arrays\n",
    "# makes it easier to load into model\n",
    "\n",
    "all_scans = np.asarray(scans)\n",
    "all_labels = np.asarray(labels)"
   ]
  },
  {
   "cell_type": "code",
   "execution_count": 0,
   "metadata": {
    "colab": {},
    "colab_type": "code",
    "id": "9cxBMR3SAXuk"
   },
   "outputs": [],
   "source": [
    "# set up data for the model\n",
    "\n",
    "seed = 42\n",
    "\n",
    "X = all_scans\n",
    "y = all_labels\n",
    "\n",
    "# this is for original data\n",
    "Xtrain, Xtest, ytrain, ytest = train_test_split(X, y, test_size = 0.2, random_state = seed)\n",
    "\n",
    "#configure data using image data generator\n",
    "\n",
    "train_data_gen = ImageDataGenerator(\n",
    "    rescale = 1.0/255.0,\n",
    "    shear_range = 0.2,\n",
    "    zoom_range = 0.2,\n",
    "    horizontal_flip = True)\n",
    "\n",
    "test_data_gen = ImageDataGenerator(\n",
    "    rescale = 1.0/255.0,\n",
    "    shear_range = 0.2,\n",
    "    zoom_range = 0.2,\n",
    "    horizontal_flip = True)\n"
   ]
  },
  {
   "cell_type": "code",
   "execution_count": 0,
   "metadata": {
    "colab": {},
    "colab_type": "code",
    "id": "9fseGzwPAwsB"
   },
   "outputs": [],
   "source": [
    "# define data for model\n",
    "\n",
    "train_samples = len(Xtrain)\n",
    "test_samples = len(Xtest)\n",
    "batch_size = 10\n",
    "\n",
    "# final staging of data\n",
    "\n",
    "train_data = train_data_gen.flow(np.array(Xtrain), ytrain, batch_size = batch_size)\n",
    "test_data = test_data_gen.flow(np.array(Xtest), ytest, batch_size = batch_size)"
   ]
  },
  {
   "cell_type": "markdown",
   "metadata": {
    "colab_type": "text",
    "id": "pacUsCXraLLY"
   },
   "source": [
    "## Model Build"
   ]
  },
  {
   "cell_type": "code",
   "execution_count": 0,
   "metadata": {
    "colab": {},
    "colab_type": "code",
    "id": "bRx3Kw9iJbbQ"
   },
   "outputs": [],
   "source": [
    "# build the model\n",
    "\n",
    "model = models.Sequential()\n",
    "model.add(layers.Conv2D(32, (3,3), activation = 'relu', input_shape = (128,128,3)))\n",
    "model.add(layers.Conv2D(32, (3,3), activation = 'relu'))\n",
    "model.add(layers.MaxPooling2D((2,2)))\n",
    "\n",
    "model.add(layers.Dropout(0.2))\n",
    "model.add(layers.Conv2D(64, (3,3), activation = 'relu'))\n",
    "model.add(layers.Conv2D(64, (3,3), activation = 'relu'))\n",
    "model.add(layers.MaxPooling2D((2,2)))\n",
    "\n",
    "model.add(layers.Dropout(0.2))\n",
    "model.add(layers.Conv2D(128, (3,3), activation = 'relu'))\n",
    "model.add(layers.Conv2D(128, (3,3), activation = 'relu'))\n",
    "model.add(layers.MaxPooling2D((2,2)))\n",
    "\n",
    "model.add(layers.Dropout(0.2))\n",
    "model.add(layers.Flatten())\n",
    "model.add(layers.Dense(128, activation = 'relu'))\n",
    "\n",
    "# final output layer\n",
    "# \n",
    "model.add(layers.Dense(2, activation = 'sigmoid'))\n",
    "\n"
   ]
  },
  {
   "cell_type": "code",
   "execution_count": 0,
   "metadata": {
    "colab": {},
    "colab_type": "code",
    "id": "FquVNghlhaaD"
   },
   "outputs": [],
   "source": [
    "# compile the model\n",
    "#opt = keras.optimizers.rmsprop(lr = 0.001)\n",
    "\n",
    "\n",
    "model.compile(optimizer = tf.keras.optimizers.RMSprop(0.001), \n",
    "              loss = 'binary_crossentropy', \n",
    "              metrics = ['accuracy'])\n",
    "\n",
    "\n",
    "# calculate steps per epoch for training and validation\n",
    "training_steps = train_samples // batch_size\n",
    "test_steps = test_samples // batch_size\n",
    "\n",
    "\n",
    "log_dir = \"logs/fit/\" + datetime.datetime.now().strftime(\"%Y%m%d-%H%M%S\")\n",
    "tensorboard_callback = tf.keras.callbacks.TensorBoard(log_dir=log_dir, histogram_freq=1)\n",
    "\n",
    "\n",
    "\n"
   ]
  },
  {
   "cell_type": "code",
   "execution_count": 0,
   "metadata": {
    "colab": {},
    "colab_type": "code",
    "id": "7LNYxQ8-qG15"
   },
   "outputs": [],
   "source": [
    "startTrainTime = time.time()\n",
    "\n",
    "# train the model\n",
    "# this model uses balanced batch generator\n",
    "\n",
    "model_train = model.fit_generator(train_data,\n",
    "                                  steps_per_epoch = training_steps,\n",
    "                                  epochs = 15,\n",
    "                                  validation_data = test_data,\n",
    "                                  validation_steps = test_steps,\n",
    "                                  callbacks = [tensorboard_callback])\n",
    "\n",
    "endTrainTime = time.time()\n",
    "trainTime = endTrainTime - startTrainTime\n",
    "print()\n",
    "print('Total Training Time (sec): {}'.format(trainTime))"
   ]
  },
  {
   "cell_type": "code",
   "execution_count": 0,
   "metadata": {
    "colab": {},
    "colab_type": "code",
    "id": "kFszOdvfKg7C"
   },
   "outputs": [],
   "source": [
    "model.summary()"
   ]
  },
  {
   "cell_type": "markdown",
   "metadata": {
    "colab_type": "text",
    "id": "YuUiRL9rjzV5"
   },
   "source": [
    "### Start TensorBoard "
   ]
  },
  {
   "cell_type": "code",
   "execution_count": 0,
   "metadata": {
    "colab": {},
    "colab_type": "code",
    "id": "N_sN3um3jzvh"
   },
   "outputs": [],
   "source": [
    "%tensorboard --logdir logs/fit"
   ]
  },
  {
   "cell_type": "markdown",
   "metadata": {
    "colab_type": "text",
    "id": "LO4fDv5xkFNV"
   },
   "source": [
    "# Evaluate Model"
   ]
  },
  {
   "cell_type": "code",
   "execution_count": 0,
   "metadata": {
    "colab": {},
    "colab_type": "code",
    "id": "6-UA0ruzgEMe"
   },
   "outputs": [],
   "source": [
    "#y_pred = model.predict(Xtest)\n",
    "#y_pred[y_pred >= 0.5] = 1\n",
    "#y_pred[y_pred < 0.5] = 0"
   ]
  },
  {
   "cell_type": "markdown",
   "metadata": {
    "colab_type": "text",
    "id": "b1x43yVVkQub"
   },
   "source": [
    "### ROC score"
   ]
  },
  {
   "cell_type": "code",
   "execution_count": 0,
   "metadata": {
    "colab": {},
    "colab_type": "code",
    "id": "0Kmm8x3KkiDi"
   },
   "outputs": [],
   "source": [
    "# ROC score\n",
    "\n",
    "#roc = roc_auc_score(ytest.astype(int), y_pred.astype(int))\n",
    "#print('ROC AUC: {:.3f}'.format(roc))"
   ]
  }
 ],
 "metadata": {
  "accelerator": "GPU",
  "colab": {
   "collapsed_sections": [],
   "include_colab_link": true,
   "name": "NIH_with_tensorboard.ipynb",
   "provenance": []
  },
  "kernelspec": {
   "display_name": "Python 3",
   "language": "python",
   "name": "python3"
  },
  "language_info": {
   "codemirror_mode": {
    "name": "ipython",
    "version": 3
   },
   "file_extension": ".py",
   "mimetype": "text/x-python",
   "name": "python",
   "nbconvert_exporter": "python",
   "pygments_lexer": "ipython3",
   "version": "3.6.9"
  },
  "toc": {
   "base_numbering": 1,
   "nav_menu": {},
   "number_sections": true,
   "sideBar": true,
   "skip_h1_title": false,
   "title_cell": "Table of Contents",
   "title_sidebar": "Contents",
   "toc_cell": false,
   "toc_position": {},
   "toc_section_display": true,
   "toc_window_display": false
  }
 },
 "nbformat": 4,
 "nbformat_minor": 1
}
