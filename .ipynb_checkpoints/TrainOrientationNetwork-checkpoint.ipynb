{
 "cells": [
  {
   "cell_type": "markdown",
   "metadata": {},
   "source": [
    "## This notebook is to train an orientation model (regression or softmax)\n",
    "\n",
    "### Note\n",
    "\n",
    "Thi snotebook is written as if it is runnin gat the root directory of this project folder.  Therefore, the code below should be used to set the path to include the root project directory when this notebook is not in the root directory\n",
    "\n",
    "```python\n",
    "    import sys\n",
    "    sys.path.insert(0, '../')\n",
    "```\n",
    "    "
   ]
  },
  {
   "cell_type": "markdown",
   "metadata": {},
   "source": [
    "### Set Path"
   ]
  },
  {
   "cell_type": "code",
   "execution_count": 1,
   "metadata": {},
   "outputs": [],
   "source": [
    "# set the relative path to the root directory\n",
    "import sys\n",
    "\n",
    "relative_root = '..\\\\'\n",
    "sys.path.insert(0, relative_root)"
   ]
  },
  {
   "cell_type": "markdown",
   "metadata": {},
   "source": [
    "### Load Tensorboard"
   ]
  },
  {
   "cell_type": "code",
   "execution_count": 2,
   "metadata": {},
   "outputs": [],
   "source": [
    "# Load the TensorBoard notebook extension\n",
    "# %load_ext tensorboard"
   ]
  },
  {
   "cell_type": "markdown",
   "metadata": {},
   "source": [
    "### Imports"
   ]
  },
  {
   "cell_type": "code",
   "execution_count": 3,
   "metadata": {},
   "outputs": [],
   "source": [
    "import os\n",
    "import io\n",
    "import time\n",
    "import random\n",
    "import itertools\n",
    "\n",
    "import matplotlib.pyplot as plt\n",
    "from copy import deepcopy\n",
    "from tkinter import *\n",
    "from tkinter import filedialog\n",
    "import tensorflow as tf\n",
    "from tensorflow.keras.models import load_model\n",
    "from tensorflow.keras.models import Sequential\n",
    "from tensorflow.keras.layers import BatchNormalization, Conv2D, MaxPooling2D, Activation, Flatten, Dropout, Dense\n",
    "from tensorflow.keras.callbacks import EarlyStopping, ModelCheckpoint, CSVLogger\n",
    "from tensorflow.keras.optimizers import SGD, Adam, RMSprop\n",
    "\n",
    "from sklearn.metrics import classification_report, confusion_matrix\n",
    "from sklearn import metrics\n",
    "\n",
    "import numpy as np\n",
    "from pathlib import Path\n",
    "from skimage.transform import resize\n",
    "from collections import deque\n",
    "\n",
    "from models.orientation import orientationModels as oM\n",
    "from utils import io_utils as iou\n",
    "\n",
    "# This is for the regresssion model\n",
    "from utils.model_utils import rope_loss as loss_func\n",
    "# from utils.model_utils import circle_loss as loss_func\n"
   ]
  },
  {
   "cell_type": "markdown",
   "metadata": {},
   "source": [
    "### Set Path Parameters"
   ]
  },
  {
   "cell_type": "code",
   "execution_count": 4,
   "metadata": {},
   "outputs": [],
   "source": [
    "loss_func_name = 'rope_loss'\n",
    "# loss_func_name = 'circle_loss'\n",
    "\n",
    "# Change dataset if required\n",
    "dataset = 'dota'\n",
    "\n",
    "usingRGB = True\n",
    "\n",
    "# Set Model Type\n",
    "# model_type = oM.SOFTMAX_TYPE\n",
    "model_type = oM.REG_TYPE\n",
    "\n",
    "# workstation specific\n",
    "train_test_set_folder = Path('D:/workspaces/darcip_2020/data/orient/' + dataset + '/' + model_type)"
   ]
  },
  {
   "cell_type": "code",
   "execution_count": 5,
   "metadata": {},
   "outputs": [],
   "source": [
    "# This notebook file may change and we use it for the summary string, so make sure the string is the same as the filename\n",
    "# I don't feel like figuring out how to extract the name of this notebook as it is running!\n",
    "notebook_name = 'TrainOrientationModel.ipynb'\n",
    "\n",
    "\n",
    "channel_id = '_8band_'\n",
    "img_channels = 8\n",
    "if usingRGB:\n",
    "    channel_id = '_rgb_'\n",
    "    img_channels = 3\n",
    "\n",
    "# setup file system to log results and save models\n",
    "timestr = time.strftime(\"%Y%m%d-%H%M%S\")\n",
    "filename = \"cnn_test_results.txt\"\n",
    "log_dir_path = ''.join([relative_root, 'results\\\\CNNtest_', timestr])\n",
    "\n",
    "\n",
    "\n",
    "# set paths to train and test files\n",
    "\n",
    "x_train_file = train_test_set_folder / ('x_train' + channel_id + model_type + '_' + dataset + '.npy')\n",
    "y_train_file = train_test_set_folder / ('y_train' + channel_id +  model_type + '_' + dataset +  '.npy')\n",
    "x_test_file = train_test_set_folder / ('x_test' + channel_id + model_type + '_' + dataset +  '.npy')\n",
    "y_test_file = train_test_set_folder / ('y_test' + channel_id + model_type + '_' + dataset +  '.npy')\n",
    "\n",
    "# Setup Model Paramters\n",
    "channels_first = False\n",
    "data_format = 'channels_first'\n",
    "if not channels_first:\n",
    "    data_format = 'channels_last'\n",
    "\n",
    "\n",
    "channels = img_channels\n",
    "height, width = (70, 70)\n",
    "patience = 50\n",
    "num_epochs = 301\n",
    "save_model_name = ''.join(['orientationModel_', \n",
    "                           dataset, '_',\n",
    "                           str(channels), 'bands_', \n",
    "                           model_type, '_', \n",
    "                           str(height), 'x', str(width), '_',\n",
    "                          str(num_epochs), '_epochs_', \n",
    "                          timestr, '.h5'])\n",
    "save_model_folder = ''.join([relative_root, 'results/saved_models/'])\n",
    "\n",
    "init_lr = 1e-2\n",
    "batch_size = 64\n",
    "img_rows = height\n",
    "img_cols = width\n",
    "momentum = 0.9\n",
    "depth = channels\n",
    "\n",
    "# fix random seed for reporducibility\n",
    "np.random.seed(7)\n",
    "\n",
    "if model_type == oM.SOFTMAX_TYPE:\n",
    "    num_classes = 360\n",
    "    class_names = [str(x) for x in range(360)] # only do this if we want to try the softmax degrees\n",
    "elif model_type == oM.REG_TYPE:\n",
    "    # This is nonsense for this model but we will enter values just to have them\n",
    "    num_classes = 1\n",
    "    class_names = [\"Degrees_Normalized\"]"
   ]
  },
  {
   "cell_type": "markdown",
   "metadata": {},
   "source": [
    "### Create Run Summary String"
   ]
  },
  {
   "cell_type": "code",
   "execution_count": 6,
   "metadata": {},
   "outputs": [
    {
     "name": "stdout",
     "output_type": "stream",
     "text": [
      "Date: 20200522-145745\n",
      "Training a regression Orientation Model:\n",
      "\tFile:\n",
      "\t\tTrainOrientationModel.ipynb\n",
      "\tRunning Directory:\n",
      "\t\tD:\\workspaces\\darcip_2020\\notebooks\n",
      "\tLog Files In Folder: \n",
      "\t\t..\\results\\CNNtest_20200522-145745\n",
      "\tTraining and Test Files: \n",
      "\t\tx_train: D:\\workspaces\\darcip_2020\\data\\orient\\dota\\regression\\x_train_rgb_regression_dota.npy\n",
      "\t\ty_train: D:\\workspaces\\darcip_2020\\data\\orient\\dota\\regression\\y_train_rgb_regression_dota.npy\n",
      "\t\tx_test: D:\\workspaces\\darcip_2020\\data\\orient\\dota\\regression\\x_test_rgb_regression_dota.npy\n",
      "\t\ty_test: D:\\workspaces\\darcip_2020\\data\\orient\\dota\\regression\\y_test_rgb_regression_dota.npy\n",
      "\tSaved Model File: \n",
      "\t\t..\\results/saved_models/orientationModel_dota_3bands_regression_70x70_301_epochs_20200522-145745.h5\n",
      "\tParameters:\n",
      "\t\tLoss Function: rope_loss\n",
      "\t\tImage (height, width): (70, 70)\n",
      "\t\tImage depth (i.e. bands): 3\n",
      "\t\tpatience: 50\n",
      "\t\tepochs: 301\n",
      "\t\tinit_lt: 0.01\n",
      "\t\tbatch_size: 64\n",
      "\t\timg_rows: 70\n",
      "\t\timg_cols: 70\n",
      "\t\tmomentum: 0.9\n",
      "\n"
     ]
    }
   ],
   "source": [
    "summ_str = ''.join(['Date: ', timestr,\n",
    "                    '\\nTraining a ', model_type, ' Orientation Model:',\n",
    "                    '\\n\\tFile:',\n",
    "                    '\\n\\t\\t', notebook_name,\n",
    "                    '\\n\\tRunning Directory:',\n",
    "                    '\\n\\t\\t', os.getcwd(),\n",
    "                    '\\n\\tLog Files In Folder: ',\n",
    "                    '\\n\\t\\t', log_dir_path,\n",
    "                    '\\n\\tTraining and Test Files: ',\n",
    "                    '\\n\\t\\tx_train: ', str(x_train_file),\n",
    "                    '\\n\\t\\ty_train: ', str(y_train_file),\n",
    "                    '\\n\\t\\tx_test: ', str(x_test_file),\n",
    "                    '\\n\\t\\ty_test: ', str(y_test_file),\n",
    "                    '\\n\\tSaved Model File: ',\n",
    "                    '\\n\\t\\t', save_model_folder, save_model_name,\n",
    "                    '\\n\\tParameters:',\n",
    "                    '\\n\\t\\tLoss Function: ', loss_func_name , \n",
    "                    '\\n\\t\\tImage (height, width): (', str(height), ', ', str(width), ')', \n",
    "                    '\\n\\t\\tImage depth (i.e. bands): ', str(depth),\n",
    "                    '\\n\\t\\tpatience: ', str(patience),\n",
    "                    '\\n\\t\\tepochs: ', str(num_epochs),\n",
    "                    '\\n\\t\\tinit_lt: ', str(init_lr),\n",
    "                    '\\n\\t\\tbatch_size: ', str(batch_size),\n",
    "                    '\\n\\t\\timg_rows: ', str(img_rows),\n",
    "                    '\\n\\t\\timg_cols: ', str(img_cols),\n",
    "                    '\\n\\t\\tmomentum: ', str(momentum),\n",
    "                    '\\n'])\n",
    "\n",
    "print(summ_str)"
   ]
  },
  {
   "cell_type": "markdown",
   "metadata": {},
   "source": [
    "### Define Custom Callaback Functions"
   ]
  },
  {
   "cell_type": "code",
   "execution_count": 7,
   "metadata": {},
   "outputs": [],
   "source": [
    "# tensorboard file writers\n",
    "tb_logs = log_dir_path + '\\\\tensorboard_logs' \n",
    "\n",
    "if model_type == oM.SOFTMAX_TYPE:\n",
    "    file_writer_cm = tf.summary.create_file_writer(tb_logs + '\\\\cm')\n",
    "\n",
    "file_writer_imgs = tf.summary.create_file_writer(tb_logs + '\\\\images')\n",
    "file_writer_thumb = tf.summary.create_file_writer(tb_logs + '\\\\thumbnails')"
   ]
  },
  {
   "cell_type": "code",
   "execution_count": 8,
   "metadata": {},
   "outputs": [],
   "source": [
    "# Note: These function suse variables set outside of the function space\n",
    "\n",
    "def plot_confusion_matrix(cm, class_names):\n",
    "    \"\"\"\n",
    "    Returns a matplotlib figure containing the plotted confusion matrix.\n",
    "\n",
    "    Args:\n",
    "    cm (array, shape = [n, n]): a confusion matrix of integer classes\n",
    "    class_names (array, shape = [n]): String names of the integer classes\n",
    "    \"\"\"\n",
    "    figure = plt.figure(figsize=(8, 8))\n",
    "    plt.imshow(cm, interpolation='nearest', cmap=plt.cm.Blues)\n",
    "    plt.title(\"Confusion matrix\")\n",
    "    plt.colorbar()\n",
    "    tick_marks = np.arange(len(class_names))\n",
    "    plt.xticks(tick_marks, class_names, rotation=45)\n",
    "    plt.yticks(tick_marks, class_names)\n",
    "\n",
    "    # Normalize the confusion matrix.\n",
    "    cm = np.around(cm.astype('float') / cm.sum(axis=1)[:, np.newaxis], decimals=2)\n",
    "\n",
    "    # Use white text if squares are dark; otherwise black.\n",
    "    threshold = cm.max() / 2.\n",
    "    for i, j in itertools.product(range(cm.shape[0]), range(cm.shape[1])):\n",
    "        color = \"white\" if cm[i, j] > threshold else \"black\"\n",
    "        plt.text(j, i, cm[i, j], horizontalalignment=\"center\", color=color)\n",
    "\n",
    "    plt.tight_layout()\n",
    "    plt.ylabel('True label')\n",
    "    plt.xlabel('Predicted label')\n",
    "    return figure\n",
    "\n",
    "def log_confusion_matrix(epoch, logs):\n",
    "    # Use the model to predict the values from the validation dataset.\n",
    "    test_pred_raw = model.predict(x_test)\n",
    "    test_pred = np.argmax(test_pred_raw, axis=1)\n",
    "\n",
    "    # Calculate the confusion matrix.\n",
    "    cm = confusion_matrix(y_test, test_pred)\n",
    "    # Log the confusion matrix as an image summary.\n",
    "    figure = plot_confusion_matrix(cm, class_names=class_names)\n",
    "    cm_image = plot_to_image(figure)\n",
    "\n",
    "    # Log the confusion matrix as an image summary.\n",
    "    with file_writer_cm.as_default():\n",
    "        tf.summary.image(\"Confusion Matrix\", cm_image, step=epoch)\n",
    "\n",
    "    \n",
    "def image_grid(image_list):\n",
    "    \"\"\"Return a 5x5 grid of the first 25 images as a matplotlib figure.\"\"\"\n",
    "    # Create a figure to contain the plot.\n",
    "    figure = plt.figure(figsize=(10,10))\n",
    "    for i in range(25):\n",
    "        # Start next subplot.\n",
    "        plt.subplot(5, 5, i + 1)\n",
    "        plt.xticks([])\n",
    "        plt.yticks([])\n",
    "        plt.grid(False)\n",
    "        plt.imshow(image_list[i], cmap=plt.cm.binary)\n",
    "\n",
    "    return figure\n",
    "\n",
    "\n",
    "def displayThumbnailGrid(image_list, epoch, max_outputs, title):\n",
    "    # Prepare the plot\n",
    "    images = []\n",
    "    split_size = 25 # how many thumbs per image\n",
    "    for i in range(0, len(image_list), split_size):\n",
    "        figure = image_grid(image_list[i:i + split_size])\n",
    "        img = plot_to_image(figure)\n",
    "        images.append(deepcopy(img))\n",
    "        \n",
    "    # Convert to image and log\n",
    "    with file_writer_thumb.as_default():\n",
    "        tf.summary.image(title, images, max_outputs=int(max_outputs/split_size), step=epoch)\n",
    "    \n",
    "    \n",
    "def display_sample_images(epoch, logs):\n",
    "    # refresh the images after every X epochs\n",
    "    X = 25\n",
    "    max_outputs = 100\n",
    "    if epoch % X == 0:\n",
    "        with file_writer_imgs.as_default():\n",
    "            training_samples = random.sample(list(x_train_load), max_outputs)\n",
    "            displayThumbnailGrid(training_samples, epoch, max_outputs, \"Sample Training Data Thumbnails\")\n",
    "\n",
    "            # Don't forget to reshape.\n",
    "            x, y, c = x_train_load[0].shape\n",
    "            images = np.reshape(training_samples, (-1, x, y, c))\n",
    "            tf.summary.image(\"Training Data Examples\", images, max_outputs=max_outputs, step=epoch)\n",
    "\n",
    "        with file_writer_imgs.as_default():\n",
    "            val_samples = random.sample(list(x_test_load), max_outputs)\n",
    "            displayThumbnailGrid(val_samples, epoch, max_outputs, \"Sample Validation Data Thumbnails\")\n",
    "            # Don't forget to reshape.\n",
    "            x, y, c = x_test_load[0].shape\n",
    "            images = np.reshape(val_samples, (-1, x, y, c))\n",
    "            tf.summary.image(\"Validation Data Examples\", images, max_outputs=max_outputs, step=epoch)\n",
    "        \n",
    "        \n",
    "def plot_to_image(figure):\n",
    "    \"\"\"Converts the matplotlib plot specified by 'figure' to a PNG image and\n",
    "    returns it. The supplied figure is closed and inaccessible after this call.\"\"\"\n",
    "    # Save the plot to a PNG in memory.\n",
    "    buf = io.BytesIO()\n",
    "    plt.savefig(buf, format='png')\n",
    "    # Closing the figure prevents it from being displayed directly inside\n",
    "    # the notebook.\n",
    "    plt.close(figure)\n",
    "    buf.seek(0)\n",
    "    # Convert PNG buffer to TF image\n",
    "    image = tf.image.decode_png(buf.getvalue(), channels=4)\n",
    "    # Add the batch dimension\n",
    "#     image = tf.expand_dims(image, 0)\n",
    "    return image\n",
    "\n",
    "\n"
   ]
  },
  {
   "cell_type": "markdown",
   "metadata": {},
   "source": [
    "### Create Directories"
   ]
  },
  {
   "cell_type": "code",
   "execution_count": 9,
   "metadata": {},
   "outputs": [],
   "source": [
    "# create the required directory in the program root\n",
    "# Note: We don't need thi sanymore since the tensorboard writer setups create the folder for us\n",
    "# os.mkdir(log_dir_path)"
   ]
  },
  {
   "cell_type": "markdown",
   "metadata": {},
   "source": [
    "### Setup Logging Support"
   ]
  },
  {
   "cell_type": "code",
   "execution_count": 10,
   "metadata": {
    "scrolled": false
   },
   "outputs": [
    {
     "name": "stdout",
     "output_type": "stream",
     "text": [
      "Date: 20200522-145745\n",
      "Training a regression Orientation Model:\n",
      "\tFile:\n",
      "\t\tTrainOrientationModel.ipynb\n",
      "\tRunning Directory:\n",
      "\t\tD:\\workspaces\\darcip_2020\\notebooks\n",
      "\tLog Files In Folder: \n",
      "\t\t..\\results\\CNNtest_20200522-145745\n",
      "\tTraining and Test Files: \n",
      "\t\tx_train: D:\\workspaces\\darcip_2020\\data\\orient\\dota\\regression\\x_train_rgb_regression_dota.npy\n",
      "\t\ty_train: D:\\workspaces\\darcip_2020\\data\\orient\\dota\\regression\\y_train_rgb_regression_dota.npy\n",
      "\t\tx_test: D:\\workspaces\\darcip_2020\\data\\orient\\dota\\regression\\x_test_rgb_regression_dota.npy\n",
      "\t\ty_test: D:\\workspaces\\darcip_2020\\data\\orient\\dota\\regression\\y_test_rgb_regression_dota.npy\n",
      "\tSaved Model File: \n",
      "\t\t..\\results/saved_models/orientationModel_dota_3bands_regression_70x70_301_epochs_20200522-145745.h5\n",
      "\tParameters:\n",
      "\t\tLoss Function: rope_loss\n",
      "\t\tImage (height, width): (70, 70)\n",
      "\t\tImage depth (i.e. bands): 3\n",
      "\t\tpatience: 50\n",
      "\t\tepochs: 301\n",
      "\t\tinit_lt: 0.01\n",
      "\t\tbatch_size: 64\n",
      "\t\timg_rows: 70\n",
      "\t\timg_cols: 70\n",
      "\t\tmomentum: 0.9\n",
      "\n",
      "\n",
      "Loaded The Training and Test Datasets\n",
      "\tx_train_load.shape = (7989, 70, 70, 3)\n",
      "\tx_test_load.shape = (2550, 70, 70, 3)\n",
      "\n",
      "\ty_train.shape = (7989, 1)\n",
      "\ty_test.shape = (2550, 1)\n",
      "\n",
      "Reshaping Train and Test Data for Depth: 3\n",
      "\tx_train.shape = (7989, 70, 70, 3)\n",
      "\tx_test.shape = (2550, 70, 70, 3)\n",
      "Train on 7989 samples, validate on 2550 samples\n",
      "Epoch 1/301\n",
      "7989/7989 [==============================] - ETA: 6:36 - loss: 0.3835 - rope_loss: 0.552 - ETA: 3:23 - loss: 0.3450 - rope_loss: 0.513 - ETA: 2:19 - loss: 0.3354 - rope_loss: 0.497 - ETA: 1:46 - loss: 0.3375 - rope_loss: 0.493 - ETA: 1:27 - loss: 0.3361 - rope_loss: 0.482 - ETA: 1:14 - loss: 0.3295 - rope_loss: 0.465 - ETA: 1:04 - loss: 0.3320 - rope_loss: 0.467 - ETA: 57s - loss: 0.3271 - rope_loss: 0.466 - ETA: 52s - loss: 0.3252 - rope_loss: 0.46 - ETA: 47s - loss: 0.3243 - rope_loss: 0.46 - ETA: 44s - loss: 0.3226 - rope_loss: 0.46 - ETA: 40s - loss: 0.3170 - rope_loss: 0.46 - ETA: 38s - loss: 0.3181 - rope_loss: 0.45 - ETA: 36s - loss: 0.3184 - rope_loss: 0.46 - ETA: 34s - loss: 0.3165 - rope_loss: 0.45 - ETA: 32s - loss: 0.3121 - rope_loss: 0.45 - ETA: 31s - loss: 0.3117 - rope_loss: 0.45 - ETA: 29s - loss: 0.3094 - rope_loss: 0.45 - ETA: 28s - loss: 0.3087 - rope_loss: 0.45 - ETA: 27s - loss: 0.3072 - rope_loss: 0.45 - ETA: 26s - loss: 0.3084 - rope_loss: 0.45 - ETA: 25s - loss: 0.3081 - rope_loss: 0.45 - ETA: 24s - loss: 0.3076 - rope_loss: 0.45 - ETA: 23s - loss: 0.3083 - rope_loss: 0.45 - ETA: 22s - loss: 0.3077 - rope_loss: 0.45 - ETA: 22s - loss: 0.3061 - rope_loss: 0.45 - ETA: 21s - loss: 0.3065 - rope_loss: 0.45 - ETA: 20s - loss: 0.3067 - rope_loss: 0.45 - ETA: 20s - loss: 0.3071 - rope_loss: 0.45 - ETA: 19s - loss: 0.3067 - rope_loss: 0.45 - ETA: 20s - loss: 0.3039 - rope_loss: 0.45 - ETA: 20s - loss: 0.3039 - rope_loss: 0.45 - ETA: 21s - loss: 0.3023 - rope_loss: 0.45 - ETA: 22s - loss: 0.3015 - rope_loss: 0.44 - ETA: 22s - loss: 0.3014 - rope_loss: 0.45 - ETA: 23s - loss: 0.3011 - rope_loss: 0.44 - ETA: 23s - loss: 0.3004 - rope_loss: 0.44 - ETA: 24s - loss: 0.3009 - rope_loss: 0.44 - ETA: 24s - loss: 0.3020 - rope_loss: 0.44 - ETA: 25s - loss: 0.3019 - rope_loss: 0.44 - ETA: 25s - loss: 0.3018 - rope_loss: 0.44 - ETA: 25s - loss: 0.3018 - rope_loss: 0.45 - ETA: 25s - loss: 0.3007 - rope_loss: 0.45 - ETA: 25s - loss: 0.2997 - rope_loss: 0.44 - ETA: 26s - loss: 0.2994 - rope_loss: 0.44 - ETA: 26s - loss: 0.2992 - rope_loss: 0.44 - ETA: 26s - loss: 0.2987 - rope_loss: 0.44 - ETA: 26s - loss: 0.2988 - rope_loss: 0.44 - ETA: 26s - loss: 0.2985 - rope_loss: 0.44 - ETA: 26s - loss: 0.2981 - rope_loss: 0.44 - ETA: 26s - loss: 0.2972 - rope_loss: 0.44 - ETA: 26s - loss: 0.2964 - rope_loss: 0.44 - ETA: 26s - loss: 0.2954 - rope_loss: 0.44 - ETA: 26s - loss: 0.2950 - rope_loss: 0.44 - ETA: 25s - loss: 0.2943 - rope_loss: 0.44 - ETA: 25s - loss: 0.2937 - rope_loss: 0.44 - ETA: 25s - loss: 0.2936 - rope_loss: 0.44 - ETA: 25s - loss: 0.2938 - rope_loss: 0.44 - ETA: 25s - loss: 0.2929 - rope_loss: 0.44 - ETA: 25s - loss: 0.2919 - rope_loss: 0.43 - ETA: 25s - loss: 0.2922 - rope_loss: 0.43 - ETA: 24s - loss: 0.2920 - rope_loss: 0.44 - ETA: 24s - loss: 0.2917 - rope_loss: 0.43 - ETA: 24s - loss: 0.2914 - rope_loss: 0.43 - ETA: 24s - loss: 0.2909 - rope_loss: 0.43 - ETA: 23s - loss: 0.2907 - rope_loss: 0.43 - ETA: 23s - loss: 0.2901 - rope_loss: 0.43 - ETA: 23s - loss: 0.2892 - rope_loss: 0.43 - ETA: 23s - loss: 0.2881 - rope_loss: 0.43 - ETA: 22s - loss: 0.2873 - rope_loss: 0.43 - ETA: 22s - loss: 0.2868 - rope_loss: 0.43 - ETA: 22s - loss: 0.2863 - rope_loss: 0.43 - ETA: 21s - loss: 0.2864 - rope_loss: 0.43 - ETA: 21s - loss: 0.2863 - rope_loss: 0.43 - ETA: 21s - loss: 0.2858 - rope_loss: 0.43 - ETA: 20s - loss: 0.2851 - rope_loss: 0.43 - ETA: 20s - loss: 0.2848 - rope_loss: 0.43 - ETA: 20s - loss: 0.2844 - rope_loss: 0.43 - ETA: 19s - loss: 0.2837 - rope_loss: 0.43 - ETA: 19s - loss: 0.2829 - rope_loss: 0.43 - ETA: 19s - loss: 0.2824 - rope_loss: 0.43 - ETA: 18s - loss: 0.2818 - rope_loss: 0.43 - ETA: 18s - loss: 0.2809 - rope_loss: 0.42 - ETA: 18s - loss: 0.2804 - rope_loss: 0.42 - ETA: 17s - loss: 0.2797 - rope_loss: 0.42 - ETA: 17s - loss: 0.2791 - rope_loss: 0.42 - ETA: 16s - loss: 0.2791 - rope_loss: 0.42 - ETA: 16s - loss: 0.2783 - rope_loss: 0.42 - ETA: 16s - loss: 0.2772 - rope_loss: 0.42 - ETA: 15s - loss: 0.2767 - rope_loss: 0.42 - ETA: 15s - loss: 0.2766 - rope_loss: 0.42 - ETA: 14s - loss: 0.2764 - rope_loss: 0.42 - ETA: 14s - loss: 0.2758 - rope_loss: 0.42 - ETA: 14s - loss: 0.2754 - rope_loss: 0.42 - ETA: 13s - loss: 0.2747 - rope_loss: 0.42 - ETA: 13s - loss: 0.2747 - rope_loss: 0.42 - ETA: 12s - loss: 0.2742 - rope_loss: 0.42 - ETA: 12s - loss: 0.2743 - rope_loss: 0.42 - ETA: 11s - loss: 0.2735 - rope_loss: 0.42 - ETA: 11s - loss: 0.2732 - rope_loss: 0.41 - ETA: 11s - loss: 0.2726 - rope_loss: 0.41 - ETA: 10s - loss: 0.2725 - rope_loss: 0.41 - ETA: 10s - loss: 0.2720 - rope_loss: 0.41 - ETA: 9s - loss: 0.2717 - rope_loss: 0.4183 - ETA: 9s - loss: 0.2712 - rope_loss: 0.417 - ETA: 8s - loss: 0.2706 - rope_loss: 0.416 - ETA: 8s - loss: 0.2706 - rope_loss: 0.416 - ETA: 7s - loss: 0.2706 - rope_loss: 0.416 - ETA: 7s - loss: 0.2701 - rope_loss: 0.416 - ETA: 7s - loss: 0.2700 - rope_loss: 0.416 - ETA: 6s - loss: 0.2696 - rope_loss: 0.415 - ETA: 6s - loss: 0.2690 - rope_loss: 0.414 - ETA: 5s - loss: 0.2688 - rope_loss: 0.414 - ETA: 5s - loss: 0.2684 - rope_loss: 0.414 - ETA: 4s - loss: 0.2680 - rope_loss: 0.414 - ETA: 4s - loss: 0.2676 - rope_loss: 0.413 - ETA: 3s - loss: 0.2670 - rope_loss: 0.413 - ETA: 3s - loss: 0.2664 - rope_loss: 0.412 - ETA: 2s - loss: 0.2659 - rope_loss: 0.411 - ETA: 2s - loss: 0.2654 - rope_loss: 0.410 - ETA: 1s - loss: 0.2649 - rope_loss: 0.410 - ETA: 1s - loss: 0.2645 - rope_loss: 0.409 - ETA: 0s - loss: 0.2643 - rope_loss: 0.409 - ETA: 0s - loss: 0.2644 - rope_loss: 0.409 - 87s 11ms/sample - loss: 0.2643 - rope_loss: 0.4095 - val_loss: 0.3072 - val_rope_loss: 0.4990\n",
      "Epoch 2/301\n"
     ]
    },
    {
     "name": "stdout",
     "output_type": "stream",
     "text": [
      "7989/7989 [==============================] - ETA: 1:11 - loss: 0.2070 - rope_loss: 0.376 - ETA: 1:10 - loss: 0.2044 - rope_loss: 0.327 - ETA: 1:10 - loss: 0.2090 - rope_loss: 0.335 - ETA: 1:09 - loss: 0.2080 - rope_loss: 0.334 - ETA: 1:08 - loss: 0.2098 - rope_loss: 0.335 - ETA: 1:07 - loss: 0.2080 - rope_loss: 0.333 - ETA: 1:07 - loss: 0.2067 - rope_loss: 0.330 - ETA: 1:06 - loss: 0.2025 - rope_loss: 0.324 - ETA: 1:05 - loss: 0.2025 - rope_loss: 0.327 - ETA: 1:05 - loss: 0.2050 - rope_loss: 0.333 - ETA: 1:04 - loss: 0.2045 - rope_loss: 0.333 - ETA: 1:04 - loss: 0.2054 - rope_loss: 0.334 - ETA: 1:03 - loss: 0.2080 - rope_loss: 0.336 - ETA: 1:02 - loss: 0.2099 - rope_loss: 0.337 - ETA: 1:02 - loss: 0.2109 - rope_loss: 0.341 - ETA: 1:01 - loss: 0.2110 - rope_loss: 0.343 - ETA: 1:01 - loss: 0.2128 - rope_loss: 0.346 - ETA: 1:00 - loss: 0.2123 - rope_loss: 0.345 - ETA: 1:00 - loss: 0.2135 - rope_loss: 0.345 - ETA: 59s - loss: 0.2150 - rope_loss: 0.349 - ETA: 59s - loss: 0.2140 - rope_loss: 0.34 - ETA: 58s - loss: 0.2136 - rope_loss: 0.34 - ETA: 58s - loss: 0.2123 - rope_loss: 0.34 - ETA: 57s - loss: 0.2129 - rope_loss: 0.34 - ETA: 56s - loss: 0.2117 - rope_loss: 0.34 - ETA: 56s - loss: 0.2111 - rope_loss: 0.34 - ETA: 55s - loss: 0.2109 - rope_loss: 0.34 - ETA: 55s - loss: 0.2105 - rope_loss: 0.33 - ETA: 54s - loss: 0.2098 - rope_loss: 0.33 - ETA: 54s - loss: 0.2093 - rope_loss: 0.33 - ETA: 53s - loss: 0.2088 - rope_loss: 0.33 - ETA: 53s - loss: 0.2079 - rope_loss: 0.33 - ETA: 52s - loss: 0.2072 - rope_loss: 0.33 - ETA: 52s - loss: 0.2075 - rope_loss: 0.33 - ETA: 51s - loss: 0.2070 - rope_loss: 0.33 - ETA: 50s - loss: 0.2075 - rope_loss: 0.33 - ETA: 50s - loss: 0.2065 - rope_loss: 0.33 - ETA: 49s - loss: 0.2069 - rope_loss: 0.33 - ETA: 49s - loss: 0.2063 - rope_loss: 0.33 - ETA: 48s - loss: 0.2067 - rope_loss: 0.33 - ETA: 47s - loss: 0.2063 - rope_loss: 0.33 - ETA: 47s - loss: 0.2064 - rope_loss: 0.33 - ETA: 46s - loss: 0.2060 - rope_loss: 0.33 - ETA: 46s - loss: 0.2059 - rope_loss: 0.33 - ETA: 45s - loss: 0.2055 - rope_loss: 0.33 - ETA: 45s - loss: 0.2054 - rope_loss: 0.33 - ETA: 44s - loss: 0.2047 - rope_loss: 0.33 - ETA: 43s - loss: 0.2037 - rope_loss: 0.33 - ETA: 43s - loss: 0.2038 - rope_loss: 0.33 - ETA: 42s - loss: 0.2035 - rope_loss: 0.32 - ETA: 42s - loss: 0.2031 - rope_loss: 0.32 - ETA: 41s - loss: 0.2030 - rope_loss: 0.32 - ETA: 41s - loss: 0.2028 - rope_loss: 0.32 - ETA: 40s - loss: 0.2026 - rope_loss: 0.32 - ETA: 39s - loss: 0.2027 - rope_loss: 0.32 - ETA: 39s - loss: 0.2029 - rope_loss: 0.32 - ETA: 38s - loss: 0.2031 - rope_loss: 0.32 - ETA: 38s - loss: 0.2026 - rope_loss: 0.32 - ETA: 37s - loss: 0.2023 - rope_loss: 0.32 - ETA: 37s - loss: 0.2012 - rope_loss: 0.32 - ETA: 36s - loss: 0.2014 - rope_loss: 0.32 - ETA: 35s - loss: 0.2019 - rope_loss: 0.32 - ETA: 35s - loss: 0.2019 - rope_loss: 0.32 - ETA: 34s - loss: 0.2019 - rope_loss: 0.32 - ETA: 34s - loss: 0.2021 - rope_loss: 0.32 - ETA: 33s - loss: 0.2017 - rope_loss: 0.32 - ETA: 33s - loss: 0.2011 - rope_loss: 0.32 - ETA: 32s - loss: 0.2006 - rope_loss: 0.32 - ETA: 31s - loss: 0.1997 - rope_loss: 0.32 - ETA: 31s - loss: 0.1990 - rope_loss: 0.32 - ETA: 30s - loss: 0.1988 - rope_loss: 0.32 - ETA: 30s - loss: 0.1985 - rope_loss: 0.32 - ETA: 29s - loss: 0.1980 - rope_loss: 0.32 - ETA: 29s - loss: 0.1977 - rope_loss: 0.32 - ETA: 28s - loss: 0.1975 - rope_loss: 0.31 - ETA: 27s - loss: 0.1971 - rope_loss: 0.31 - ETA: 27s - loss: 0.1975 - rope_loss: 0.31 - ETA: 26s - loss: 0.1972 - rope_loss: 0.31 - ETA: 26s - loss: 0.1971 - rope_loss: 0.31 - ETA: 25s - loss: 0.1965 - rope_loss: 0.31 - ETA: 25s - loss: 0.1964 - rope_loss: 0.31 - ETA: 24s - loss: 0.1964 - rope_loss: 0.31 - ETA: 23s - loss: 0.1967 - rope_loss: 0.31 - ETA: 23s - loss: 0.1966 - rope_loss: 0.31 - ETA: 22s - loss: 0.1964 - rope_loss: 0.31 - ETA: 22s - loss: 0.1962 - rope_loss: 0.31 - ETA: 21s - loss: 0.1965 - rope_loss: 0.31 - ETA: 21s - loss: 0.1964 - rope_loss: 0.31 - ETA: 20s - loss: 0.1961 - rope_loss: 0.31 - ETA: 19s - loss: 0.1956 - rope_loss: 0.31 - ETA: 19s - loss: 0.1958 - rope_loss: 0.31 - ETA: 18s - loss: 0.1958 - rope_loss: 0.31 - ETA: 18s - loss: 0.1954 - rope_loss: 0.31 - ETA: 17s - loss: 0.1954 - rope_loss: 0.31 - ETA: 17s - loss: 0.1956 - rope_loss: 0.31 - ETA: 16s - loss: 0.1958 - rope_loss: 0.31 - ETA: 15s - loss: 0.1960 - rope_loss: 0.31 - ETA: 15s - loss: 0.1959 - rope_loss: 0.31 - ETA: 14s - loss: 0.1956 - rope_loss: 0.31 - ETA: 14s - loss: 0.1956 - rope_loss: 0.31 - ETA: 13s - loss: 0.1956 - rope_loss: 0.31 - ETA: 13s - loss: 0.1954 - rope_loss: 0.31 - ETA: 12s - loss: 0.1952 - rope_loss: 0.31 - ETA: 11s - loss: 0.1950 - rope_loss: 0.31 - ETA: 11s - loss: 0.1953 - rope_loss: 0.31 - ETA: 10s - loss: 0.1953 - rope_loss: 0.31 - ETA: 10s - loss: 0.1954 - rope_loss: 0.31 - ETA: 9s - loss: 0.1955 - rope_loss: 0.3154 - ETA: 9s - loss: 0.1955 - rope_loss: 0.315 - ETA: 8s - loss: 0.1954 - rope_loss: 0.314 - ETA: 7s - loss: 0.1955 - rope_loss: 0.314 - ETA: 7s - loss: 0.1952 - rope_loss: 0.314 - ETA: 6s - loss: 0.1950 - rope_loss: 0.314 - ETA: 6s - loss: 0.1947 - rope_loss: 0.314 - ETA: 5s - loss: 0.1946 - rope_loss: 0.313 - ETA: 5s - loss: 0.1947 - rope_loss: 0.314 - ETA: 4s - loss: 0.1946 - rope_loss: 0.314 - ETA: 3s - loss: 0.1946 - rope_loss: 0.314 - ETA: 3s - loss: 0.1945 - rope_loss: 0.314 - ETA: 2s - loss: 0.1941 - rope_loss: 0.313 - ETA: 2s - loss: 0.1943 - rope_loss: 0.314 - ETA: 1s - loss: 0.1940 - rope_loss: 0.313 - ETA: 1s - loss: 0.1937 - rope_loss: 0.313 - ETA: 0s - loss: 0.1937 - rope_loss: 0.313 - 88s 11ms/sample - loss: 0.1937 - rope_loss: 0.3132 - val_loss: 0.2206 - val_rope_loss: 0.3798\n",
      "Epoch 3/301\n"
     ]
    },
    {
     "name": "stdout",
     "output_type": "stream",
     "text": [
      "7989/7989 [==============================] - ETA: 1:13 - loss: 0.1418 - rope_loss: 0.214 - ETA: 1:12 - loss: 0.1552 - rope_loss: 0.235 - ETA: 1:10 - loss: 0.1642 - rope_loss: 0.250 - ETA: 1:10 - loss: 0.1620 - rope_loss: 0.248 - ETA: 1:09 - loss: 0.1649 - rope_loss: 0.244 - ETA: 1:08 - loss: 0.1604 - rope_loss: 0.243 - ETA: 1:08 - loss: 0.1583 - rope_loss: 0.241 - ETA: 1:07 - loss: 0.1652 - rope_loss: 0.257 - ETA: 1:06 - loss: 0.1674 - rope_loss: 0.264 - ETA: 1:06 - loss: 0.1650 - rope_loss: 0.260 - ETA: 1:05 - loss: 0.1655 - rope_loss: 0.262 - ETA: 1:05 - loss: 0.1630 - rope_loss: 0.258 - ETA: 1:04 - loss: 0.1639 - rope_loss: 0.260 - ETA: 1:03 - loss: 0.1656 - rope_loss: 0.264 - ETA: 1:03 - loss: 0.1643 - rope_loss: 0.260 - ETA: 1:02 - loss: 0.1634 - rope_loss: 0.257 - ETA: 1:01 - loss: 0.1642 - rope_loss: 0.260 - ETA: 1:01 - loss: 0.1642 - rope_loss: 0.259 - ETA: 1:00 - loss: 0.1649 - rope_loss: 0.260 - ETA: 1:00 - loss: 0.1642 - rope_loss: 0.258 - ETA: 59s - loss: 0.1642 - rope_loss: 0.258 - ETA: 58s - loss: 0.1664 - rope_loss: 0.26 - ETA: 58s - loss: 0.1650 - rope_loss: 0.26 - ETA: 57s - loss: 0.1656 - rope_loss: 0.25 - ETA: 57s - loss: 0.1654 - rope_loss: 0.25 - ETA: 56s - loss: 0.1659 - rope_loss: 0.26 - ETA: 56s - loss: 0.1665 - rope_loss: 0.26 - ETA: 55s - loss: 0.1660 - rope_loss: 0.26 - ETA: 54s - loss: 0.1662 - rope_loss: 0.26 - ETA: 54s - loss: 0.1659 - rope_loss: 0.26 - ETA: 53s - loss: 0.1648 - rope_loss: 0.26 - ETA: 53s - loss: 0.1649 - rope_loss: 0.26 - ETA: 52s - loss: 0.1658 - rope_loss: 0.26 - ETA: 51s - loss: 0.1659 - rope_loss: 0.26 - ETA: 51s - loss: 0.1658 - rope_loss: 0.26 - ETA: 50s - loss: 0.1658 - rope_loss: 0.26 - ETA: 50s - loss: 0.1662 - rope_loss: 0.26 - ETA: 49s - loss: 0.1659 - rope_loss: 0.26 - ETA: 49s - loss: 0.1663 - rope_loss: 0.26 - ETA: 48s - loss: 0.1658 - rope_loss: 0.26 - ETA: 47s - loss: 0.1656 - rope_loss: 0.26 - ETA: 47s - loss: 0.1655 - rope_loss: 0.26 - ETA: 46s - loss: 0.1663 - rope_loss: 0.26 - ETA: 46s - loss: 0.1663 - rope_loss: 0.26 - ETA: 45s - loss: 0.1672 - rope_loss: 0.26 - ETA: 44s - loss: 0.1672 - rope_loss: 0.26 - ETA: 44s - loss: 0.1671 - rope_loss: 0.26 - ETA: 43s - loss: 0.1676 - rope_loss: 0.26 - ETA: 43s - loss: 0.1678 - rope_loss: 0.26 - ETA: 42s - loss: 0.1680 - rope_loss: 0.26 - ETA: 42s - loss: 0.1688 - rope_loss: 0.26 - ETA: 41s - loss: 0.1692 - rope_loss: 0.26 - ETA: 40s - loss: 0.1692 - rope_loss: 0.26 - ETA: 40s - loss: 0.1689 - rope_loss: 0.26 - ETA: 39s - loss: 0.1695 - rope_loss: 0.26 - ETA: 39s - loss: 0.1690 - rope_loss: 0.26 - ETA: 38s - loss: 0.1686 - rope_loss: 0.26 - ETA: 38s - loss: 0.1687 - rope_loss: 0.26 - ETA: 37s - loss: 0.1692 - rope_loss: 0.26 - ETA: 36s - loss: 0.1690 - rope_loss: 0.26 - ETA: 36s - loss: 0.1686 - rope_loss: 0.26 - ETA: 35s - loss: 0.1680 - rope_loss: 0.26 - ETA: 35s - loss: 0.1683 - rope_loss: 0.26 - ETA: 34s - loss: 0.1687 - rope_loss: 0.26 - ETA: 34s - loss: 0.1688 - rope_loss: 0.26 - ETA: 33s - loss: 0.1687 - rope_loss: 0.26 - ETA: 32s - loss: 0.1685 - rope_loss: 0.26 - ETA: 32s - loss: 0.1686 - rope_loss: 0.26 - ETA: 31s - loss: 0.1686 - rope_loss: 0.26 - ETA: 31s - loss: 0.1683 - rope_loss: 0.26 - ETA: 30s - loss: 0.1679 - rope_loss: 0.26 - ETA: 30s - loss: 0.1679 - rope_loss: 0.26 - ETA: 29s - loss: 0.1677 - rope_loss: 0.26 - ETA: 28s - loss: 0.1678 - rope_loss: 0.26 - ETA: 28s - loss: 0.1676 - rope_loss: 0.26 - ETA: 27s - loss: 0.1673 - rope_loss: 0.26 - ETA: 27s - loss: 0.1673 - rope_loss: 0.26 - ETA: 26s - loss: 0.1673 - rope_loss: 0.26 - ETA: 26s - loss: 0.1670 - rope_loss: 0.26 - ETA: 25s - loss: 0.1670 - rope_loss: 0.26 - ETA: 24s - loss: 0.1668 - rope_loss: 0.26 - ETA: 24s - loss: 0.1671 - rope_loss: 0.26 - ETA: 23s - loss: 0.1669 - rope_loss: 0.26 - ETA: 23s - loss: 0.1667 - rope_loss: 0.26 - ETA: 22s - loss: 0.1668 - rope_loss: 0.26 - ETA: 22s - loss: 0.1673 - rope_loss: 0.26 - ETA: 21s - loss: 0.1674 - rope_loss: 0.26 - ETA: 21s - loss: 0.1673 - rope_loss: 0.26 - ETA: 20s - loss: 0.1672 - rope_loss: 0.26 - ETA: 19s - loss: 0.1673 - rope_loss: 0.26 - ETA: 19s - loss: 0.1670 - rope_loss: 0.26 - ETA: 18s - loss: 0.1666 - rope_loss: 0.26 - ETA: 18s - loss: 0.1666 - rope_loss: 0.26 - ETA: 17s - loss: 0.1664 - rope_loss: 0.26 - ETA: 17s - loss: 0.1662 - rope_loss: 0.26 - ETA: 16s - loss: 0.1661 - rope_loss: 0.26 - ETA: 15s - loss: 0.1656 - rope_loss: 0.26 - ETA: 15s - loss: 0.1655 - rope_loss: 0.26 - ETA: 14s - loss: 0.1652 - rope_loss: 0.26 - ETA: 14s - loss: 0.1654 - rope_loss: 0.26 - ETA: 13s - loss: 0.1655 - rope_loss: 0.26 - ETA: 13s - loss: 0.1652 - rope_loss: 0.26 - ETA: 12s - loss: 0.1650 - rope_loss: 0.26 - ETA: 11s - loss: 0.1649 - rope_loss: 0.26 - ETA: 11s - loss: 0.1652 - rope_loss: 0.26 - ETA: 10s - loss: 0.1650 - rope_loss: 0.26 - ETA: 10s - loss: 0.1651 - rope_loss: 0.26 - ETA: 9s - loss: 0.1649 - rope_loss: 0.2631 - ETA: 9s - loss: 0.1647 - rope_loss: 0.262 - ETA: 8s - loss: 0.1648 - rope_loss: 0.263 - ETA: 7s - loss: 0.1647 - rope_loss: 0.262 - ETA: 7s - loss: 0.1647 - rope_loss: 0.262 - ETA: 6s - loss: 0.1642 - rope_loss: 0.261 - ETA: 6s - loss: 0.1641 - rope_loss: 0.261 - ETA: 5s - loss: 0.1641 - rope_loss: 0.261 - ETA: 5s - loss: 0.1640 - rope_loss: 0.261 - ETA: 4s - loss: 0.1641 - rope_loss: 0.261 - ETA: 3s - loss: 0.1638 - rope_loss: 0.260 - ETA: 3s - loss: 0.1637 - rope_loss: 0.260 - ETA: 2s - loss: 0.1637 - rope_loss: 0.260 - ETA: 2s - loss: 0.1637 - rope_loss: 0.261 - ETA: 1s - loss: 0.1635 - rope_loss: 0.260 - ETA: 1s - loss: 0.1633 - rope_loss: 0.260 - ETA: 0s - loss: 0.1632 - rope_loss: 0.260 - 88s 11ms/sample - loss: 0.1630 - rope_loss: 0.2601 - val_loss: 0.1868 - val_rope_loss: 0.3096\n",
      "Epoch 4/301\n"
     ]
    },
    {
     "name": "stdout",
     "output_type": "stream",
     "text": [
      "7989/7989 [==============================] - ETA: 1:11 - loss: 0.1875 - rope_loss: 0.302 - ETA: 1:10 - loss: 0.1822 - rope_loss: 0.290 - ETA: 1:10 - loss: 0.1808 - rope_loss: 0.288 - ETA: 1:09 - loss: 0.1737 - rope_loss: 0.279 - ETA: 1:09 - loss: 0.1737 - rope_loss: 0.282 - ETA: 1:09 - loss: 0.1730 - rope_loss: 0.277 - ETA: 1:08 - loss: 0.1713 - rope_loss: 0.273 - ETA: 1:07 - loss: 0.1681 - rope_loss: 0.266 - ETA: 1:07 - loss: 0.1692 - rope_loss: 0.267 - ETA: 1:06 - loss: 0.1660 - rope_loss: 0.263 - ETA: 1:06 - loss: 0.1659 - rope_loss: 0.263 - ETA: 1:05 - loss: 0.1628 - rope_loss: 0.254 - ETA: 1:04 - loss: 0.1607 - rope_loss: 0.252 - ETA: 1:04 - loss: 0.1614 - rope_loss: 0.254 - ETA: 1:03 - loss: 0.1602 - rope_loss: 0.252 - ETA: 1:02 - loss: 0.1623 - rope_loss: 0.257 - ETA: 1:02 - loss: 0.1603 - rope_loss: 0.252 - ETA: 1:01 - loss: 0.1591 - rope_loss: 0.251 - ETA: 1:01 - loss: 0.1584 - rope_loss: 0.250 - ETA: 1:00 - loss: 0.1595 - rope_loss: 0.250 - ETA: 59s - loss: 0.1587 - rope_loss: 0.247 - ETA: 59s - loss: 0.1579 - rope_loss: 0.24 - ETA: 58s - loss: 0.1578 - rope_loss: 0.24 - ETA: 58s - loss: 0.1585 - rope_loss: 0.24 - ETA: 57s - loss: 0.1577 - rope_loss: 0.24 - ETA: 56s - loss: 0.1579 - rope_loss: 0.24 - ETA: 56s - loss: 0.1574 - rope_loss: 0.24 - ETA: 55s - loss: 0.1572 - rope_loss: 0.24 - ETA: 55s - loss: 0.1561 - rope_loss: 0.24 - ETA: 54s - loss: 0.1568 - rope_loss: 0.24 - ETA: 54s - loss: 0.1570 - rope_loss: 0.24 - ETA: 53s - loss: 0.1565 - rope_loss: 0.23 - ETA: 52s - loss: 0.1561 - rope_loss: 0.23 - ETA: 52s - loss: 0.1556 - rope_loss: 0.23 - ETA: 51s - loss: 0.1550 - rope_loss: 0.23 - ETA: 51s - loss: 0.1545 - rope_loss: 0.23 - ETA: 50s - loss: 0.1551 - rope_loss: 0.23 - ETA: 49s - loss: 0.1554 - rope_loss: 0.23 - ETA: 49s - loss: 0.1547 - rope_loss: 0.23 - ETA: 48s - loss: 0.1550 - rope_loss: 0.23 - ETA: 48s - loss: 0.1553 - rope_loss: 0.23 - ETA: 47s - loss: 0.1559 - rope_loss: 0.23 - ETA: 47s - loss: 0.1554 - rope_loss: 0.23 - ETA: 46s - loss: 0.1549 - rope_loss: 0.23 - ETA: 45s - loss: 0.1551 - rope_loss: 0.23 - ETA: 45s - loss: 0.1549 - rope_loss: 0.23 - ETA: 44s - loss: 0.1547 - rope_loss: 0.23 - ETA: 44s - loss: 0.1544 - rope_loss: 0.23 - ETA: 43s - loss: 0.1540 - rope_loss: 0.23 - ETA: 42s - loss: 0.1539 - rope_loss: 0.23 - ETA: 42s - loss: 0.1540 - rope_loss: 0.23 - ETA: 41s - loss: 0.1541 - rope_loss: 0.23 - ETA: 41s - loss: 0.1537 - rope_loss: 0.23 - ETA: 40s - loss: 0.1541 - rope_loss: 0.23 - ETA: 40s - loss: 0.1538 - rope_loss: 0.23 - ETA: 39s - loss: 0.1534 - rope_loss: 0.23 - ETA: 38s - loss: 0.1535 - rope_loss: 0.23 - ETA: 38s - loss: 0.1534 - rope_loss: 0.23 - ETA: 37s - loss: 0.1533 - rope_loss: 0.23 - ETA: 37s - loss: 0.1530 - rope_loss: 0.23 - ETA: 36s - loss: 0.1532 - rope_loss: 0.23 - ETA: 36s - loss: 0.1529 - rope_loss: 0.23 - ETA: 35s - loss: 0.1530 - rope_loss: 0.23 - ETA: 34s - loss: 0.1527 - rope_loss: 0.23 - ETA: 34s - loss: 0.1525 - rope_loss: 0.23 - ETA: 33s - loss: 0.1526 - rope_loss: 0.23 - ETA: 33s - loss: 0.1527 - rope_loss: 0.23 - ETA: 32s - loss: 0.1523 - rope_loss: 0.23 - ETA: 31s - loss: 0.1521 - rope_loss: 0.23 - ETA: 31s - loss: 0.1522 - rope_loss: 0.23 - ETA: 30s - loss: 0.1523 - rope_loss: 0.23 - ETA: 30s - loss: 0.1523 - rope_loss: 0.23 - ETA: 29s - loss: 0.1525 - rope_loss: 0.23 - ETA: 29s - loss: 0.1521 - rope_loss: 0.23 - ETA: 28s - loss: 0.1517 - rope_loss: 0.23 - ETA: 27s - loss: 0.1515 - rope_loss: 0.23 - ETA: 27s - loss: 0.1516 - rope_loss: 0.23 - ETA: 26s - loss: 0.1512 - rope_loss: 0.23 - ETA: 26s - loss: 0.1509 - rope_loss: 0.23 - ETA: 25s - loss: 0.1507 - rope_loss: 0.23 - ETA: 25s - loss: 0.1508 - rope_loss: 0.23 - ETA: 24s - loss: 0.1510 - rope_loss: 0.23 - ETA: 23s - loss: 0.1512 - rope_loss: 0.23 - ETA: 23s - loss: 0.1510 - rope_loss: 0.23 - ETA: 22s - loss: 0.1511 - rope_loss: 0.23 - ETA: 22s - loss: 0.1517 - rope_loss: 0.23 - ETA: 21s - loss: 0.1515 - rope_loss: 0.23 - ETA: 21s - loss: 0.1512 - rope_loss: 0.23 - ETA: 20s - loss: 0.1510 - rope_loss: 0.23 - ETA: 19s - loss: 0.1509 - rope_loss: 0.23 - ETA: 19s - loss: 0.1504 - rope_loss: 0.23 - ETA: 18s - loss: 0.1503 - rope_loss: 0.23 - ETA: 18s - loss: 0.1502 - rope_loss: 0.23 - ETA: 17s - loss: 0.1505 - rope_loss: 0.23 - ETA: 17s - loss: 0.1502 - rope_loss: 0.23 - ETA: 16s - loss: 0.1503 - rope_loss: 0.23 - ETA: 15s - loss: 0.1502 - rope_loss: 0.23 - ETA: 15s - loss: 0.1502 - rope_loss: 0.23 - ETA: 14s - loss: 0.1502 - rope_loss: 0.23 - ETA: 14s - loss: 0.1506 - rope_loss: 0.23 - ETA: 13s - loss: 0.1507 - rope_loss: 0.23 - ETA: 13s - loss: 0.1507 - rope_loss: 0.23 - ETA: 12s - loss: 0.1509 - rope_loss: 0.23 - ETA: 11s - loss: 0.1511 - rope_loss: 0.23 - ETA: 11s - loss: 0.1508 - rope_loss: 0.23 - ETA: 10s - loss: 0.1510 - rope_loss: 0.23 - ETA: 10s - loss: 0.1507 - rope_loss: 0.23 - ETA: 9s - loss: 0.1507 - rope_loss: 0.2330 - ETA: 9s - loss: 0.1507 - rope_loss: 0.233 - ETA: 8s - loss: 0.1507 - rope_loss: 0.233 - ETA: 7s - loss: 0.1506 - rope_loss: 0.232 - ETA: 7s - loss: 0.1504 - rope_loss: 0.232 - ETA: 6s - loss: 0.1506 - rope_loss: 0.232 - ETA: 6s - loss: 0.1504 - rope_loss: 0.232 - ETA: 5s - loss: 0.1506 - rope_loss: 0.233 - ETA: 5s - loss: 0.1506 - rope_loss: 0.232 - ETA: 4s - loss: 0.1505 - rope_loss: 0.232 - ETA: 3s - loss: 0.1504 - rope_loss: 0.232 - ETA: 3s - loss: 0.1504 - rope_loss: 0.232 - ETA: 2s - loss: 0.1502 - rope_loss: 0.231 - ETA: 2s - loss: 0.1500 - rope_loss: 0.231 - ETA: 1s - loss: 0.1502 - rope_loss: 0.231 - ETA: 1s - loss: 0.1501 - rope_loss: 0.231 - ETA: 0s - loss: 0.1500 - rope_loss: 0.231 - 87s 11ms/sample - loss: 0.1499 - rope_loss: 0.2311 - val_loss: 0.1393 - val_rope_loss: 0.2140\n",
      "Epoch 5/301\n"
     ]
    },
    {
     "name": "stdout",
     "output_type": "stream",
     "text": [
      "7989/7989 [==============================] - ETA: 1:11 - loss: 0.1613 - rope_loss: 0.290 - ETA: 1:09 - loss: 0.1641 - rope_loss: 0.282 - ETA: 1:09 - loss: 0.1551 - rope_loss: 0.246 - ETA: 1:09 - loss: 0.1474 - rope_loss: 0.229 - ETA: 1:08 - loss: 0.1475 - rope_loss: 0.226 - ETA: 1:08 - loss: 0.1453 - rope_loss: 0.218 - ETA: 1:08 - loss: 0.1455 - rope_loss: 0.221 - ETA: 1:07 - loss: 0.1437 - rope_loss: 0.218 - ETA: 1:06 - loss: 0.1425 - rope_loss: 0.216 - ETA: 1:06 - loss: 0.1411 - rope_loss: 0.215 - ETA: 1:05 - loss: 0.1396 - rope_loss: 0.213 - ETA: 1:04 - loss: 0.1378 - rope_loss: 0.211 - ETA: 1:04 - loss: 0.1380 - rope_loss: 0.212 - ETA: 1:03 - loss: 0.1391 - rope_loss: 0.214 - ETA: 1:02 - loss: 0.1389 - rope_loss: 0.212 - ETA: 1:02 - loss: 0.1404 - rope_loss: 0.216 - ETA: 1:01 - loss: 0.1397 - rope_loss: 0.215 - ETA: 1:01 - loss: 0.1392 - rope_loss: 0.214 - ETA: 1:00 - loss: 0.1392 - rope_loss: 0.214 - ETA: 59s - loss: 0.1388 - rope_loss: 0.213 - ETA: 59s - loss: 0.1402 - rope_loss: 0.21 - ETA: 58s - loss: 0.1409 - rope_loss: 0.21 - ETA: 58s - loss: 0.1411 - rope_loss: 0.21 - ETA: 57s - loss: 0.1411 - rope_loss: 0.21 - ETA: 56s - loss: 0.1401 - rope_loss: 0.21 - ETA: 56s - loss: 0.1389 - rope_loss: 0.21 - ETA: 55s - loss: 0.1386 - rope_loss: 0.21 - ETA: 55s - loss: 0.1379 - rope_loss: 0.21 - ETA: 54s - loss: 0.1387 - rope_loss: 0.21 - ETA: 54s - loss: 0.1401 - rope_loss: 0.21 - ETA: 53s - loss: 0.1392 - rope_loss: 0.21 - ETA: 52s - loss: 0.1396 - rope_loss: 0.21 - ETA: 52s - loss: 0.1394 - rope_loss: 0.21 - ETA: 51s - loss: 0.1390 - rope_loss: 0.21 - ETA: 51s - loss: 0.1394 - rope_loss: 0.21 - ETA: 50s - loss: 0.1390 - rope_loss: 0.21 - ETA: 50s - loss: 0.1396 - rope_loss: 0.21 - ETA: 49s - loss: 0.1403 - rope_loss: 0.21 - ETA: 49s - loss: 0.1406 - rope_loss: 0.21 - ETA: 48s - loss: 0.1402 - rope_loss: 0.21 - ETA: 47s - loss: 0.1396 - rope_loss: 0.21 - ETA: 47s - loss: 0.1399 - rope_loss: 0.21 - ETA: 46s - loss: 0.1401 - rope_loss: 0.21 - ETA: 46s - loss: 0.1406 - rope_loss: 0.21 - ETA: 45s - loss: 0.1403 - rope_loss: 0.21 - ETA: 45s - loss: 0.1401 - rope_loss: 0.21 - ETA: 44s - loss: 0.1404 - rope_loss: 0.21 - ETA: 43s - loss: 0.1401 - rope_loss: 0.21 - ETA: 43s - loss: 0.1400 - rope_loss: 0.21 - ETA: 42s - loss: 0.1401 - rope_loss: 0.21 - ETA: 42s - loss: 0.1406 - rope_loss: 0.21 - ETA: 41s - loss: 0.1404 - rope_loss: 0.21 - ETA: 41s - loss: 0.1397 - rope_loss: 0.21 - ETA: 40s - loss: 0.1396 - rope_loss: 0.21 - ETA: 39s - loss: 0.1395 - rope_loss: 0.21 - ETA: 39s - loss: 0.1392 - rope_loss: 0.21 - ETA: 38s - loss: 0.1392 - rope_loss: 0.21 - ETA: 38s - loss: 0.1394 - rope_loss: 0.21 - ETA: 37s - loss: 0.1389 - rope_loss: 0.20 - ETA: 37s - loss: 0.1388 - rope_loss: 0.20 - ETA: 36s - loss: 0.1387 - rope_loss: 0.20 - ETA: 35s - loss: 0.1387 - rope_loss: 0.20 - ETA: 35s - loss: 0.1392 - rope_loss: 0.20 - ETA: 34s - loss: 0.1395 - rope_loss: 0.21 - ETA: 34s - loss: 0.1390 - rope_loss: 0.20 - ETA: 33s - loss: 0.1395 - rope_loss: 0.21 - ETA: 32s - loss: 0.1397 - rope_loss: 0.21 - ETA: 32s - loss: 0.1400 - rope_loss: 0.21 - ETA: 31s - loss: 0.1400 - rope_loss: 0.21 - ETA: 31s - loss: 0.1399 - rope_loss: 0.21 - ETA: 30s - loss: 0.1397 - rope_loss: 0.21 - ETA: 30s - loss: 0.1392 - rope_loss: 0.20 - ETA: 29s - loss: 0.1389 - rope_loss: 0.20 - ETA: 29s - loss: 0.1391 - rope_loss: 0.20 - ETA: 28s - loss: 0.1388 - rope_loss: 0.20 - ETA: 27s - loss: 0.1392 - rope_loss: 0.20 - ETA: 27s - loss: 0.1391 - rope_loss: 0.20 - ETA: 26s - loss: 0.1390 - rope_loss: 0.20 - ETA: 26s - loss: 0.1389 - rope_loss: 0.20 - ETA: 25s - loss: 0.1388 - rope_loss: 0.20 - ETA: 24s - loss: 0.1385 - rope_loss: 0.20 - ETA: 24s - loss: 0.1383 - rope_loss: 0.20 - ETA: 23s - loss: 0.1383 - rope_loss: 0.20 - ETA: 23s - loss: 0.1382 - rope_loss: 0.20 - ETA: 22s - loss: 0.1384 - rope_loss: 0.20 - ETA: 22s - loss: 0.1385 - rope_loss: 0.20 - ETA: 21s - loss: 0.1389 - rope_loss: 0.20 - ETA: 20s - loss: 0.1387 - rope_loss: 0.20 - ETA: 20s - loss: 0.1390 - rope_loss: 0.20 - ETA: 19s - loss: 0.1391 - rope_loss: 0.20 - ETA: 19s - loss: 0.1390 - rope_loss: 0.20 - ETA: 18s - loss: 0.1390 - rope_loss: 0.20 - ETA: 18s - loss: 0.1388 - rope_loss: 0.20 - ETA: 17s - loss: 0.1388 - rope_loss: 0.20 - ETA: 17s - loss: 0.1388 - rope_loss: 0.20 - ETA: 16s - loss: 0.1388 - rope_loss: 0.20 - ETA: 15s - loss: 0.1389 - rope_loss: 0.20 - ETA: 15s - loss: 0.1390 - rope_loss: 0.20 - ETA: 14s - loss: 0.1392 - rope_loss: 0.20 - ETA: 14s - loss: 0.1395 - rope_loss: 0.20 - ETA: 13s - loss: 0.1396 - rope_loss: 0.21 - ETA: 13s - loss: 0.1394 - rope_loss: 0.20 - ETA: 12s - loss: 0.1395 - rope_loss: 0.20 - ETA: 11s - loss: 0.1396 - rope_loss: 0.21 - ETA: 11s - loss: 0.1396 - rope_loss: 0.21 - ETA: 10s - loss: 0.1396 - rope_loss: 0.21 - ETA: 10s - loss: 0.1397 - rope_loss: 0.21 - ETA: 9s - loss: 0.1394 - rope_loss: 0.2099 - ETA: 9s - loss: 0.1393 - rope_loss: 0.209 - ETA: 8s - loss: 0.1395 - rope_loss: 0.210 - ETA: 7s - loss: 0.1396 - rope_loss: 0.210 - ETA: 7s - loss: 0.1394 - rope_loss: 0.209 - ETA: 6s - loss: 0.1392 - rope_loss: 0.209 - ETA: 6s - loss: 0.1392 - rope_loss: 0.209 - ETA: 5s - loss: 0.1393 - rope_loss: 0.209 - ETA: 5s - loss: 0.1395 - rope_loss: 0.210 - ETA: 4s - loss: 0.1394 - rope_loss: 0.209 - ETA: 3s - loss: 0.1395 - rope_loss: 0.210 - ETA: 3s - loss: 0.1395 - rope_loss: 0.210 - ETA: 2s - loss: 0.1396 - rope_loss: 0.210 - ETA: 2s - loss: 0.1396 - rope_loss: 0.210 - ETA: 1s - loss: 0.1398 - rope_loss: 0.210 - ETA: 1s - loss: 0.1398 - rope_loss: 0.210 - ETA: 0s - loss: 0.1398 - rope_loss: 0.210 - 87s 11ms/sample - loss: 0.1399 - rope_loss: 0.2107 - val_loss: 0.1307 - val_rope_loss: 0.1861\n",
      "Epoch 6/301\n"
     ]
    },
    {
     "name": "stdout",
     "output_type": "stream",
     "text": [
      "7989/7989 [==============================] - ETA: 1:12 - loss: 0.1454 - rope_loss: 0.211 - ETA: 1:11 - loss: 0.1342 - rope_loss: 0.196 - ETA: 1:10 - loss: 0.1272 - rope_loss: 0.176 - ETA: 1:10 - loss: 0.1317 - rope_loss: 0.186 - ETA: 1:08 - loss: 0.1304 - rope_loss: 0.183 - ETA: 1:08 - loss: 0.1382 - rope_loss: 0.185 - ETA: 1:08 - loss: 0.1333 - rope_loss: 0.180 - ETA: 1:07 - loss: 0.1325 - rope_loss: 0.181 - ETA: 1:06 - loss: 0.1310 - rope_loss: 0.180 - ETA: 1:06 - loss: 0.1305 - rope_loss: 0.182 - ETA: 1:05 - loss: 0.1299 - rope_loss: 0.181 - ETA: 1:05 - loss: 0.1277 - rope_loss: 0.179 - ETA: 1:04 - loss: 0.1256 - rope_loss: 0.174 - ETA: 1:04 - loss: 0.1255 - rope_loss: 0.176 - ETA: 1:03 - loss: 0.1262 - rope_loss: 0.178 - ETA: 1:02 - loss: 0.1267 - rope_loss: 0.180 - ETA: 1:02 - loss: 0.1266 - rope_loss: 0.179 - ETA: 1:01 - loss: 0.1276 - rope_loss: 0.182 - ETA: 1:00 - loss: 0.1285 - rope_loss: 0.183 - ETA: 1:00 - loss: 0.1308 - rope_loss: 0.189 - ETA: 59s - loss: 0.1301 - rope_loss: 0.189 - ETA: 59s - loss: 0.1302 - rope_loss: 0.19 - ETA: 58s - loss: 0.1305 - rope_loss: 0.19 - ETA: 57s - loss: 0.1306 - rope_loss: 0.19 - ETA: 57s - loss: 0.1300 - rope_loss: 0.19 - ETA: 56s - loss: 0.1304 - rope_loss: 0.19 - ETA: 56s - loss: 0.1312 - rope_loss: 0.19 - ETA: 55s - loss: 0.1321 - rope_loss: 0.19 - ETA: 54s - loss: 0.1318 - rope_loss: 0.19 - ETA: 54s - loss: 0.1310 - rope_loss: 0.19 - ETA: 53s - loss: 0.1317 - rope_loss: 0.19 - ETA: 53s - loss: 0.1309 - rope_loss: 0.19 - ETA: 52s - loss: 0.1309 - rope_loss: 0.19 - ETA: 52s - loss: 0.1301 - rope_loss: 0.19 - ETA: 51s - loss: 0.1297 - rope_loss: 0.19 - ETA: 50s - loss: 0.1302 - rope_loss: 0.19 - ETA: 50s - loss: 0.1301 - rope_loss: 0.19 - ETA: 49s - loss: 0.1303 - rope_loss: 0.19 - ETA: 49s - loss: 0.1291 - rope_loss: 0.19 - ETA: 48s - loss: 0.1294 - rope_loss: 0.19 - ETA: 48s - loss: 0.1300 - rope_loss: 0.19 - ETA: 47s - loss: 0.1308 - rope_loss: 0.19 - ETA: 46s - loss: 0.1303 - rope_loss: 0.19 - ETA: 46s - loss: 0.1308 - rope_loss: 0.19 - ETA: 45s - loss: 0.1310 - rope_loss: 0.19 - ETA: 45s - loss: 0.1306 - rope_loss: 0.19 - ETA: 44s - loss: 0.1308 - rope_loss: 0.19 - ETA: 44s - loss: 0.1308 - rope_loss: 0.19 - ETA: 43s - loss: 0.1311 - rope_loss: 0.19 - ETA: 42s - loss: 0.1312 - rope_loss: 0.19 - ETA: 42s - loss: 0.1310 - rope_loss: 0.19 - ETA: 41s - loss: 0.1310 - rope_loss: 0.19 - ETA: 41s - loss: 0.1310 - rope_loss: 0.19 - ETA: 40s - loss: 0.1306 - rope_loss: 0.19 - ETA: 40s - loss: 0.1309 - rope_loss: 0.19 - ETA: 39s - loss: 0.1305 - rope_loss: 0.19 - ETA: 38s - loss: 0.1306 - rope_loss: 0.19 - ETA: 38s - loss: 0.1303 - rope_loss: 0.19 - ETA: 37s - loss: 0.1307 - rope_loss: 0.19 - ETA: 37s - loss: 0.1310 - rope_loss: 0.19 - ETA: 36s - loss: 0.1311 - rope_loss: 0.19 - ETA: 35s - loss: 0.1310 - rope_loss: 0.19 - ETA: 35s - loss: 0.1310 - rope_loss: 0.19 - ETA: 34s - loss: 0.1309 - rope_loss: 0.19 - ETA: 34s - loss: 0.1312 - rope_loss: 0.19 - ETA: 33s - loss: 0.1310 - rope_loss: 0.19 - ETA: 33s - loss: 0.1313 - rope_loss: 0.19 - ETA: 32s - loss: 0.1313 - rope_loss: 0.19 - ETA: 31s - loss: 0.1314 - rope_loss: 0.19 - ETA: 31s - loss: 0.1317 - rope_loss: 0.19 - ETA: 30s - loss: 0.1317 - rope_loss: 0.19 - ETA: 30s - loss: 0.1319 - rope_loss: 0.19 - ETA: 29s - loss: 0.1320 - rope_loss: 0.19 - ETA: 29s - loss: 0.1320 - rope_loss: 0.19 - ETA: 28s - loss: 0.1319 - rope_loss: 0.19 - ETA: 27s - loss: 0.1320 - rope_loss: 0.19 - ETA: 27s - loss: 0.1322 - rope_loss: 0.19 - ETA: 26s - loss: 0.1320 - rope_loss: 0.19 - ETA: 26s - loss: 0.1319 - rope_loss: 0.19 - ETA: 25s - loss: 0.1317 - rope_loss: 0.19 - ETA: 25s - loss: 0.1316 - rope_loss: 0.19 - ETA: 24s - loss: 0.1311 - rope_loss: 0.19 - ETA: 23s - loss: 0.1311 - rope_loss: 0.19 - ETA: 23s - loss: 0.1311 - rope_loss: 0.19 - ETA: 22s - loss: 0.1312 - rope_loss: 0.19 - ETA: 22s - loss: 0.1312 - rope_loss: 0.19 - ETA: 21s - loss: 0.1310 - rope_loss: 0.19 - ETA: 21s - loss: 0.1312 - rope_loss: 0.19 - ETA: 20s - loss: 0.1316 - rope_loss: 0.19 - ETA: 19s - loss: 0.1314 - rope_loss: 0.19 - ETA: 19s - loss: 0.1313 - rope_loss: 0.19 - ETA: 18s - loss: 0.1311 - rope_loss: 0.19 - ETA: 18s - loss: 0.1311 - rope_loss: 0.19 - ETA: 17s - loss: 0.1312 - rope_loss: 0.19 - ETA: 17s - loss: 0.1312 - rope_loss: 0.19 - ETA: 16s - loss: 0.1311 - rope_loss: 0.19 - ETA: 15s - loss: 0.1312 - rope_loss: 0.19 - ETA: 15s - loss: 0.1311 - rope_loss: 0.19 - ETA: 14s - loss: 0.1311 - rope_loss: 0.19 - ETA: 14s - loss: 0.1308 - rope_loss: 0.19 - ETA: 13s - loss: 0.1308 - rope_loss: 0.19 - ETA: 13s - loss: 0.1308 - rope_loss: 0.19 - ETA: 12s - loss: 0.1307 - rope_loss: 0.19 - ETA: 11s - loss: 0.1308 - rope_loss: 0.19 - ETA: 11s - loss: 0.1305 - rope_loss: 0.19 - ETA: 10s - loss: 0.1307 - rope_loss: 0.19 - ETA: 10s - loss: 0.1306 - rope_loss: 0.19 - ETA: 9s - loss: 0.1306 - rope_loss: 0.1909 - ETA: 9s - loss: 0.1307 - rope_loss: 0.191 - ETA: 8s - loss: 0.1305 - rope_loss: 0.190 - ETA: 7s - loss: 0.1306 - rope_loss: 0.190 - ETA: 7s - loss: 0.1304 - rope_loss: 0.190 - ETA: 6s - loss: 0.1304 - rope_loss: 0.190 - ETA: 6s - loss: 0.1304 - rope_loss: 0.190 - ETA: 5s - loss: 0.1306 - rope_loss: 0.190 - ETA: 5s - loss: 0.1307 - rope_loss: 0.190 - ETA: 4s - loss: 0.1308 - rope_loss: 0.190 - ETA: 3s - loss: 0.1307 - rope_loss: 0.190 - ETA: 3s - loss: 0.1306 - rope_loss: 0.190 - ETA: 2s - loss: 0.1306 - rope_loss: 0.190 - ETA: 2s - loss: 0.1306 - rope_loss: 0.190 - ETA: 1s - loss: 0.1306 - rope_loss: 0.190 - ETA: 1s - loss: 0.1306 - rope_loss: 0.190 - ETA: 0s - loss: 0.1304 - rope_loss: 0.190 - 87s 11ms/sample - loss: 0.1304 - rope_loss: 0.1902 - val_loss: 0.1157 - val_rope_loss: 0.1635\n",
      "Epoch 7/301\n"
     ]
    },
    {
     "name": "stdout",
     "output_type": "stream",
     "text": [
      "7989/7989 [==============================] - ETA: 1:10 - loss: 0.1176 - rope_loss: 0.178 - ETA: 1:09 - loss: 0.1272 - rope_loss: 0.181 - ETA: 1:09 - loss: 0.1327 - rope_loss: 0.188 - ETA: 1:09 - loss: 0.1330 - rope_loss: 0.188 - ETA: 1:08 - loss: 0.1283 - rope_loss: 0.180 - ETA: 1:08 - loss: 0.1288 - rope_loss: 0.185 - ETA: 1:07 - loss: 0.1277 - rope_loss: 0.184 - ETA: 1:07 - loss: 0.1261 - rope_loss: 0.182 - ETA: 1:06 - loss: 0.1243 - rope_loss: 0.179 - ETA: 1:06 - loss: 0.1241 - rope_loss: 0.179 - ETA: 1:05 - loss: 0.1218 - rope_loss: 0.175 - ETA: 1:04 - loss: 0.1232 - rope_loss: 0.179 - ETA: 1:04 - loss: 0.1220 - rope_loss: 0.178 - ETA: 1:03 - loss: 0.1205 - rope_loss: 0.176 - ETA: 1:03 - loss: 0.1191 - rope_loss: 0.172 - ETA: 1:02 - loss: 0.1209 - rope_loss: 0.176 - ETA: 1:01 - loss: 0.1224 - rope_loss: 0.178 - ETA: 1:01 - loss: 0.1229 - rope_loss: 0.180 - ETA: 1:00 - loss: 0.1231 - rope_loss: 0.181 - ETA: 59s - loss: 0.1238 - rope_loss: 0.183 - ETA: 59s - loss: 0.1236 - rope_loss: 0.18 - ETA: 58s - loss: 0.1246 - rope_loss: 0.18 - ETA: 58s - loss: 0.1243 - rope_loss: 0.18 - ETA: 57s - loss: 0.1242 - rope_loss: 0.18 - ETA: 57s - loss: 0.1246 - rope_loss: 0.18 - ETA: 56s - loss: 0.1248 - rope_loss: 0.18 - ETA: 55s - loss: 0.1251 - rope_loss: 0.18 - ETA: 55s - loss: 0.1251 - rope_loss: 0.18 - ETA: 54s - loss: 0.1253 - rope_loss: 0.18 - ETA: 54s - loss: 0.1250 - rope_loss: 0.18 - ETA: 53s - loss: 0.1253 - rope_loss: 0.18 - ETA: 52s - loss: 0.1247 - rope_loss: 0.18 - ETA: 52s - loss: 0.1248 - rope_loss: 0.18 - ETA: 51s - loss: 0.1238 - rope_loss: 0.17 - ETA: 51s - loss: 0.1236 - rope_loss: 0.17 - ETA: 50s - loss: 0.1238 - rope_loss: 0.17 - ETA: 50s - loss: 0.1241 - rope_loss: 0.17 - ETA: 49s - loss: 0.1241 - rope_loss: 0.17 - ETA: 48s - loss: 0.1239 - rope_loss: 0.17 - ETA: 48s - loss: 0.1245 - rope_loss: 0.18 - ETA: 47s - loss: 0.1248 - rope_loss: 0.18 - ETA: 47s - loss: 0.1242 - rope_loss: 0.18 - ETA: 46s - loss: 0.1242 - rope_loss: 0.17 - ETA: 46s - loss: 0.1242 - rope_loss: 0.18 - ETA: 45s - loss: 0.1247 - rope_loss: 0.18 - ETA: 44s - loss: 0.1249 - rope_loss: 0.18 - ETA: 44s - loss: 0.1254 - rope_loss: 0.18 - ETA: 43s - loss: 0.1258 - rope_loss: 0.18 - ETA: 43s - loss: 0.1258 - rope_loss: 0.18 - ETA: 42s - loss: 0.1251 - rope_loss: 0.18 - ETA: 42s - loss: 0.1247 - rope_loss: 0.17 - ETA: 41s - loss: 0.1247 - rope_loss: 0.18 - ETA: 40s - loss: 0.1243 - rope_loss: 0.17 - ETA: 40s - loss: 0.1244 - rope_loss: 0.17 - ETA: 39s - loss: 0.1238 - rope_loss: 0.17 - ETA: 39s - loss: 0.1234 - rope_loss: 0.17 - ETA: 38s - loss: 0.1234 - rope_loss: 0.17 - ETA: 38s - loss: 0.1234 - rope_loss: 0.17 - ETA: 37s - loss: 0.1239 - rope_loss: 0.17 - ETA: 36s - loss: 0.1242 - rope_loss: 0.17 - ETA: 36s - loss: 0.1241 - rope_loss: 0.17 - ETA: 35s - loss: 0.1240 - rope_loss: 0.17 - ETA: 35s - loss: 0.1243 - rope_loss: 0.17 - ETA: 34s - loss: 0.1244 - rope_loss: 0.17 - ETA: 34s - loss: 0.1245 - rope_loss: 0.17 - ETA: 33s - loss: 0.1244 - rope_loss: 0.17 - ETA: 32s - loss: 0.1249 - rope_loss: 0.17 - ETA: 32s - loss: 0.1249 - rope_loss: 0.17 - ETA: 31s - loss: 0.1250 - rope_loss: 0.17 - ETA: 31s - loss: 0.1251 - rope_loss: 0.17 - ETA: 30s - loss: 0.1254 - rope_loss: 0.17 - ETA: 30s - loss: 0.1255 - rope_loss: 0.17 - ETA: 29s - loss: 0.1258 - rope_loss: 0.17 - ETA: 28s - loss: 0.1254 - rope_loss: 0.17 - ETA: 28s - loss: 0.1253 - rope_loss: 0.17 - ETA: 27s - loss: 0.1255 - rope_loss: 0.17 - ETA: 27s - loss: 0.1256 - rope_loss: 0.17 - ETA: 26s - loss: 0.1255 - rope_loss: 0.17 - ETA: 26s - loss: 0.1257 - rope_loss: 0.17 - ETA: 25s - loss: 0.1256 - rope_loss: 0.17 - ETA: 24s - loss: 0.1254 - rope_loss: 0.17 - ETA: 24s - loss: 0.1254 - rope_loss: 0.17 - ETA: 23s - loss: 0.1255 - rope_loss: 0.18 - ETA: 23s - loss: 0.1255 - rope_loss: 0.18 - ETA: 22s - loss: 0.1255 - rope_loss: 0.18 - ETA: 22s - loss: 0.1253 - rope_loss: 0.18 - ETA: 21s - loss: 0.1251 - rope_loss: 0.17 - ETA: 20s - loss: 0.1251 - rope_loss: 0.18 - ETA: 20s - loss: 0.1248 - rope_loss: 0.17 - ETA: 19s - loss: 0.1246 - rope_loss: 0.17 - ETA: 19s - loss: 0.1246 - rope_loss: 0.17 - ETA: 18s - loss: 0.1247 - rope_loss: 0.17 - ETA: 18s - loss: 0.1247 - rope_loss: 0.17 - ETA: 17s - loss: 0.1247 - rope_loss: 0.17 - ETA: 17s - loss: 0.1245 - rope_loss: 0.17 - ETA: 16s - loss: 0.1244 - rope_loss: 0.17 - ETA: 15s - loss: 0.1242 - rope_loss: 0.17 - ETA: 15s - loss: 0.1243 - rope_loss: 0.17 - ETA: 14s - loss: 0.1243 - rope_loss: 0.17 - ETA: 14s - loss: 0.1244 - rope_loss: 0.17 - ETA: 13s - loss: 0.1245 - rope_loss: 0.17 - ETA: 13s - loss: 0.1246 - rope_loss: 0.18 - ETA: 12s - loss: 0.1247 - rope_loss: 0.18 - ETA: 11s - loss: 0.1246 - rope_loss: 0.18 - ETA: 11s - loss: 0.1245 - rope_loss: 0.18 - ETA: 10s - loss: 0.1246 - rope_loss: 0.18 - ETA: 10s - loss: 0.1246 - rope_loss: 0.18 - ETA: 9s - loss: 0.1246 - rope_loss: 0.1807 - ETA: 9s - loss: 0.1247 - rope_loss: 0.180 - ETA: 8s - loss: 0.1247 - rope_loss: 0.180 - ETA: 7s - loss: 0.1246 - rope_loss: 0.180 - ETA: 7s - loss: 0.1248 - rope_loss: 0.181 - ETA: 6s - loss: 0.1249 - rope_loss: 0.181 - ETA: 6s - loss: 0.1250 - rope_loss: 0.181 - ETA: 5s - loss: 0.1252 - rope_loss: 0.181 - ETA: 5s - loss: 0.1254 - rope_loss: 0.182 - ETA: 4s - loss: 0.1254 - rope_loss: 0.182 - ETA: 3s - loss: 0.1257 - rope_loss: 0.182 - ETA: 3s - loss: 0.1258 - rope_loss: 0.182 - ETA: 2s - loss: 0.1262 - rope_loss: 0.183 - ETA: 2s - loss: 0.1261 - rope_loss: 0.183 - ETA: 1s - loss: 0.1263 - rope_loss: 0.183 - ETA: 1s - loss: 0.1261 - rope_loss: 0.183 - ETA: 0s - loss: 0.1261 - rope_loss: 0.183 - 87s 11ms/sample - loss: 0.1261 - rope_loss: 0.1830 - val_loss: 0.1147 - val_rope_loss: 0.1551\n",
      "Epoch 8/301\n"
     ]
    },
    {
     "name": "stdout",
     "output_type": "stream",
     "text": [
      "7989/7989 [==============================] - ETA: 1:11 - loss: 0.1340 - rope_loss: 0.200 - ETA: 1:10 - loss: 0.1314 - rope_loss: 0.197 - ETA: 1:10 - loss: 0.1357 - rope_loss: 0.215 - ETA: 1:09 - loss: 0.1306 - rope_loss: 0.205 - ETA: 1:09 - loss: 0.1306 - rope_loss: 0.201 - ETA: 1:08 - loss: 0.1291 - rope_loss: 0.195 - ETA: 1:07 - loss: 0.1270 - rope_loss: 0.192 - ETA: 1:06 - loss: 0.1221 - rope_loss: 0.182 - ETA: 1:06 - loss: 0.1225 - rope_loss: 0.184 - ETA: 1:05 - loss: 0.1188 - rope_loss: 0.176 - ETA: 1:04 - loss: 0.1195 - rope_loss: 0.177 - ETA: 1:04 - loss: 0.1206 - rope_loss: 0.175 - ETA: 1:03 - loss: 0.1209 - rope_loss: 0.176 - ETA: 1:03 - loss: 0.1203 - rope_loss: 0.175 - ETA: 1:02 - loss: 0.1201 - rope_loss: 0.173 - ETA: 1:02 - loss: 0.1210 - rope_loss: 0.174 - ETA: 1:01 - loss: 0.1196 - rope_loss: 0.171 - ETA: 1:00 - loss: 0.1200 - rope_loss: 0.172 - ETA: 1:00 - loss: 0.1191 - rope_loss: 0.170 - ETA: 59s - loss: 0.1191 - rope_loss: 0.171 - ETA: 59s - loss: 0.1204 - rope_loss: 0.17 - ETA: 58s - loss: 0.1216 - rope_loss: 0.17 - ETA: 58s - loss: 0.1223 - rope_loss: 0.17 - ETA: 57s - loss: 0.1216 - rope_loss: 0.17 - ETA: 56s - loss: 0.1210 - rope_loss: 0.17 - ETA: 56s - loss: 0.1209 - rope_loss: 0.17 - ETA: 55s - loss: 0.1211 - rope_loss: 0.17 - ETA: 55s - loss: 0.1217 - rope_loss: 0.17 - ETA: 54s - loss: 0.1220 - rope_loss: 0.17 - ETA: 54s - loss: 0.1213 - rope_loss: 0.17 - ETA: 53s - loss: 0.1209 - rope_loss: 0.17 - ETA: 52s - loss: 0.1201 - rope_loss: 0.17 - ETA: 52s - loss: 0.1204 - rope_loss: 0.17 - ETA: 51s - loss: 0.1197 - rope_loss: 0.17 - ETA: 51s - loss: 0.1201 - rope_loss: 0.17 - ETA: 50s - loss: 0.1209 - rope_loss: 0.17 - ETA: 50s - loss: 0.1207 - rope_loss: 0.17 - ETA: 49s - loss: 0.1201 - rope_loss: 0.17 - ETA: 49s - loss: 0.1198 - rope_loss: 0.17 - ETA: 48s - loss: 0.1194 - rope_loss: 0.16 - ETA: 47s - loss: 0.1202 - rope_loss: 0.17 - ETA: 47s - loss: 0.1200 - rope_loss: 0.17 - ETA: 46s - loss: 0.1193 - rope_loss: 0.17 - ETA: 46s - loss: 0.1191 - rope_loss: 0.17 - ETA: 45s - loss: 0.1183 - rope_loss: 0.16 - ETA: 44s - loss: 0.1186 - rope_loss: 0.16 - ETA: 44s - loss: 0.1194 - rope_loss: 0.17 - ETA: 43s - loss: 0.1203 - rope_loss: 0.17 - ETA: 43s - loss: 0.1206 - rope_loss: 0.17 - ETA: 42s - loss: 0.1200 - rope_loss: 0.17 - ETA: 42s - loss: 0.1197 - rope_loss: 0.17 - ETA: 41s - loss: 0.1195 - rope_loss: 0.17 - ETA: 40s - loss: 0.1197 - rope_loss: 0.17 - ETA: 40s - loss: 0.1198 - rope_loss: 0.17 - ETA: 39s - loss: 0.1198 - rope_loss: 0.17 - ETA: 39s - loss: 0.1198 - rope_loss: 0.17 - ETA: 38s - loss: 0.1200 - rope_loss: 0.17 - ETA: 38s - loss: 0.1201 - rope_loss: 0.17 - ETA: 37s - loss: 0.1202 - rope_loss: 0.17 - ETA: 37s - loss: 0.1204 - rope_loss: 0.17 - ETA: 36s - loss: 0.1206 - rope_loss: 0.17 - ETA: 35s - loss: 0.1203 - rope_loss: 0.17 - ETA: 35s - loss: 0.1208 - rope_loss: 0.17 - ETA: 34s - loss: 0.1209 - rope_loss: 0.17 - ETA: 34s - loss: 0.1209 - rope_loss: 0.17 - ETA: 33s - loss: 0.1207 - rope_loss: 0.17 - ETA: 32s - loss: 0.1205 - rope_loss: 0.17 - ETA: 32s - loss: 0.1205 - rope_loss: 0.17 - ETA: 31s - loss: 0.1204 - rope_loss: 0.17 - ETA: 31s - loss: 0.1202 - rope_loss: 0.17 - ETA: 30s - loss: 0.1205 - rope_loss: 0.17 - ETA: 30s - loss: 0.1206 - rope_loss: 0.17 - ETA: 29s - loss: 0.1205 - rope_loss: 0.17 - ETA: 29s - loss: 0.1209 - rope_loss: 0.17 - ETA: 28s - loss: 0.1210 - rope_loss: 0.17 - ETA: 27s - loss: 0.1206 - rope_loss: 0.17 - ETA: 27s - loss: 0.1203 - rope_loss: 0.17 - ETA: 26s - loss: 0.1205 - rope_loss: 0.17 - ETA: 26s - loss: 0.1202 - rope_loss: 0.17 - ETA: 25s - loss: 0.1204 - rope_loss: 0.17 - ETA: 24s - loss: 0.1207 - rope_loss: 0.17 - ETA: 24s - loss: 0.1209 - rope_loss: 0.17 - ETA: 23s - loss: 0.1209 - rope_loss: 0.17 - ETA: 23s - loss: 0.1207 - rope_loss: 0.17 - ETA: 22s - loss: 0.1208 - rope_loss: 0.17 - ETA: 22s - loss: 0.1210 - rope_loss: 0.17 - ETA: 21s - loss: 0.1210 - rope_loss: 0.17 - ETA: 20s - loss: 0.1211 - rope_loss: 0.17 - ETA: 20s - loss: 0.1211 - rope_loss: 0.17 - ETA: 19s - loss: 0.1211 - rope_loss: 0.17 - ETA: 19s - loss: 0.1208 - rope_loss: 0.17 - ETA: 18s - loss: 0.1206 - rope_loss: 0.17 - ETA: 18s - loss: 0.1206 - rope_loss: 0.17 - ETA: 17s - loss: 0.1204 - rope_loss: 0.17 - ETA: 16s - loss: 0.1205 - rope_loss: 0.17 - ETA: 16s - loss: 0.1204 - rope_loss: 0.17 - ETA: 15s - loss: 0.1203 - rope_loss: 0.17 - ETA: 15s - loss: 0.1204 - rope_loss: 0.17 - ETA: 14s - loss: 0.1201 - rope_loss: 0.17 - ETA: 14s - loss: 0.1199 - rope_loss: 0.17 - ETA: 13s - loss: 0.1201 - rope_loss: 0.17 - ETA: 13s - loss: 0.1201 - rope_loss: 0.17 - ETA: 12s - loss: 0.1201 - rope_loss: 0.17 - ETA: 11s - loss: 0.1205 - rope_loss: 0.17 - ETA: 11s - loss: 0.1202 - rope_loss: 0.17 - ETA: 10s - loss: 0.1202 - rope_loss: 0.17 - ETA: 10s - loss: 0.1200 - rope_loss: 0.17 - ETA: 9s - loss: 0.1198 - rope_loss: 0.1697 - ETA: 9s - loss: 0.1199 - rope_loss: 0.170 - ETA: 8s - loss: 0.1197 - rope_loss: 0.169 - ETA: 7s - loss: 0.1198 - rope_loss: 0.170 - ETA: 7s - loss: 0.1197 - rope_loss: 0.169 - ETA: 6s - loss: 0.1198 - rope_loss: 0.169 - ETA: 6s - loss: 0.1200 - rope_loss: 0.170 - ETA: 5s - loss: 0.1199 - rope_loss: 0.170 - ETA: 5s - loss: 0.1199 - rope_loss: 0.170 - ETA: 4s - loss: 0.1200 - rope_loss: 0.170 - ETA: 3s - loss: 0.1202 - rope_loss: 0.170 - ETA: 3s - loss: 0.1200 - rope_loss: 0.170 - ETA: 2s - loss: 0.1201 - rope_loss: 0.170 - ETA: 2s - loss: 0.1199 - rope_loss: 0.170 - ETA: 1s - loss: 0.1199 - rope_loss: 0.169 - ETA: 1s - loss: 0.1200 - rope_loss: 0.169 - ETA: 0s - loss: 0.1201 - rope_loss: 0.170 - 87s 11ms/sample - loss: 0.1202 - rope_loss: 0.1702 - val_loss: 0.1197 - val_rope_loss: 0.1724\n",
      "Epoch 9/301\n"
     ]
    },
    {
     "name": "stdout",
     "output_type": "stream",
     "text": [
      "7989/7989 [==============================] - ETA: 1:07 - loss: 0.1180 - rope_loss: 0.145 - ETA: 1:09 - loss: 0.1066 - rope_loss: 0.136 - ETA: 1:09 - loss: 0.1211 - rope_loss: 0.156 - ETA: 1:08 - loss: 0.1223 - rope_loss: 0.164 - ETA: 1:08 - loss: 0.1177 - rope_loss: 0.161 - ETA: 1:08 - loss: 0.1163 - rope_loss: 0.158 - ETA: 1:07 - loss: 0.1189 - rope_loss: 0.165 - ETA: 1:07 - loss: 0.1221 - rope_loss: 0.172 - ETA: 1:06 - loss: 0.1215 - rope_loss: 0.171 - ETA: 1:05 - loss: 0.1209 - rope_loss: 0.168 - ETA: 1:05 - loss: 0.1192 - rope_loss: 0.167 - ETA: 1:04 - loss: 0.1203 - rope_loss: 0.170 - ETA: 1:03 - loss: 0.1201 - rope_loss: 0.170 - ETA: 1:03 - loss: 0.1199 - rope_loss: 0.171 - ETA: 1:02 - loss: 0.1192 - rope_loss: 0.168 - ETA: 1:02 - loss: 0.1177 - rope_loss: 0.165 - ETA: 1:01 - loss: 0.1172 - rope_loss: 0.165 - ETA: 1:01 - loss: 0.1168 - rope_loss: 0.164 - ETA: 1:00 - loss: 0.1158 - rope_loss: 0.162 - ETA: 59s - loss: 0.1150 - rope_loss: 0.161 - ETA: 59s - loss: 0.1138 - rope_loss: 0.15 - ETA: 58s - loss: 0.1150 - rope_loss: 0.16 - ETA: 58s - loss: 0.1155 - rope_loss: 0.16 - ETA: 57s - loss: 0.1152 - rope_loss: 0.16 - ETA: 56s - loss: 0.1150 - rope_loss: 0.16 - ETA: 56s - loss: 0.1159 - rope_loss: 0.15 - ETA: 55s - loss: 0.1151 - rope_loss: 0.15 - ETA: 55s - loss: 0.1145 - rope_loss: 0.15 - ETA: 54s - loss: 0.1151 - rope_loss: 0.15 - ETA: 54s - loss: 0.1155 - rope_loss: 0.16 - ETA: 53s - loss: 0.1144 - rope_loss: 0.15 - ETA: 53s - loss: 0.1154 - rope_loss: 0.15 - ETA: 52s - loss: 0.1155 - rope_loss: 0.15 - ETA: 51s - loss: 0.1156 - rope_loss: 0.15 - ETA: 51s - loss: 0.1155 - rope_loss: 0.15 - ETA: 50s - loss: 0.1151 - rope_loss: 0.15 - ETA: 50s - loss: 0.1147 - rope_loss: 0.15 - ETA: 49s - loss: 0.1140 - rope_loss: 0.15 - ETA: 48s - loss: 0.1139 - rope_loss: 0.15 - ETA: 48s - loss: 0.1133 - rope_loss: 0.15 - ETA: 47s - loss: 0.1138 - rope_loss: 0.15 - ETA: 47s - loss: 0.1135 - rope_loss: 0.15 - ETA: 46s - loss: 0.1133 - rope_loss: 0.15 - ETA: 46s - loss: 0.1135 - rope_loss: 0.15 - ETA: 45s - loss: 0.1133 - rope_loss: 0.15 - ETA: 44s - loss: 0.1130 - rope_loss: 0.15 - ETA: 44s - loss: 0.1132 - rope_loss: 0.15 - ETA: 43s - loss: 0.1134 - rope_loss: 0.15 - ETA: 43s - loss: 0.1136 - rope_loss: 0.15 - ETA: 42s - loss: 0.1146 - rope_loss: 0.15 - ETA: 42s - loss: 0.1147 - rope_loss: 0.15 - ETA: 41s - loss: 0.1151 - rope_loss: 0.15 - ETA: 40s - loss: 0.1148 - rope_loss: 0.15 - ETA: 40s - loss: 0.1154 - rope_loss: 0.15 - ETA: 39s - loss: 0.1151 - rope_loss: 0.15 - ETA: 39s - loss: 0.1150 - rope_loss: 0.15 - ETA: 38s - loss: 0.1155 - rope_loss: 0.15 - ETA: 38s - loss: 0.1154 - rope_loss: 0.15 - ETA: 37s - loss: 0.1151 - rope_loss: 0.15 - ETA: 36s - loss: 0.1154 - rope_loss: 0.15 - ETA: 36s - loss: 0.1159 - rope_loss: 0.15 - ETA: 35s - loss: 0.1163 - rope_loss: 0.15 - ETA: 35s - loss: 0.1168 - rope_loss: 0.15 - ETA: 34s - loss: 0.1166 - rope_loss: 0.15 - ETA: 34s - loss: 0.1163 - rope_loss: 0.15 - ETA: 33s - loss: 0.1166 - rope_loss: 0.15 - ETA: 33s - loss: 0.1169 - rope_loss: 0.15 - ETA: 32s - loss: 0.1172 - rope_loss: 0.15 - ETA: 31s - loss: 0.1169 - rope_loss: 0.15 - ETA: 31s - loss: 0.1173 - rope_loss: 0.15 - ETA: 30s - loss: 0.1173 - rope_loss: 0.15 - ETA: 30s - loss: 0.1174 - rope_loss: 0.16 - ETA: 29s - loss: 0.1175 - rope_loss: 0.16 - ETA: 29s - loss: 0.1173 - rope_loss: 0.16 - ETA: 28s - loss: 0.1176 - rope_loss: 0.16 - ETA: 27s - loss: 0.1175 - rope_loss: 0.16 - ETA: 27s - loss: 0.1175 - rope_loss: 0.16 - ETA: 26s - loss: 0.1173 - rope_loss: 0.16 - ETA: 26s - loss: 0.1173 - rope_loss: 0.16 - ETA: 25s - loss: 0.1172 - rope_loss: 0.16 - ETA: 25s - loss: 0.1173 - rope_loss: 0.16 - ETA: 24s - loss: 0.1174 - rope_loss: 0.16 - ETA: 23s - loss: 0.1174 - rope_loss: 0.16 - ETA: 23s - loss: 0.1173 - rope_loss: 0.16 - ETA: 22s - loss: 0.1173 - rope_loss: 0.15 - ETA: 22s - loss: 0.1171 - rope_loss: 0.15 - ETA: 21s - loss: 0.1172 - rope_loss: 0.15 - ETA: 21s - loss: 0.1176 - rope_loss: 0.16 - ETA: 20s - loss: 0.1174 - rope_loss: 0.16 - ETA: 19s - loss: 0.1175 - rope_loss: 0.16 - ETA: 19s - loss: 0.1178 - rope_loss: 0.16 - ETA: 18s - loss: 0.1179 - rope_loss: 0.16 - ETA: 18s - loss: 0.1180 - rope_loss: 0.16 - ETA: 17s - loss: 0.1182 - rope_loss: 0.16 - ETA: 17s - loss: 0.1182 - rope_loss: 0.16 - ETA: 16s - loss: 0.1184 - rope_loss: 0.16 - ETA: 15s - loss: 0.1183 - rope_loss: 0.16 - ETA: 15s - loss: 0.1184 - rope_loss: 0.16 - ETA: 14s - loss: 0.1182 - rope_loss: 0.16 - ETA: 14s - loss: 0.1182 - rope_loss: 0.16 - ETA: 13s - loss: 0.1183 - rope_loss: 0.16 - ETA: 13s - loss: 0.1182 - rope_loss: 0.16 - ETA: 12s - loss: 0.1182 - rope_loss: 0.16 - ETA: 11s - loss: 0.1183 - rope_loss: 0.16 - ETA: 11s - loss: 0.1183 - rope_loss: 0.16 - ETA: 10s - loss: 0.1183 - rope_loss: 0.16 - ETA: 10s - loss: 0.1184 - rope_loss: 0.16 - ETA: 9s - loss: 0.1185 - rope_loss: 0.1629 - ETA: 9s - loss: 0.1184 - rope_loss: 0.162 - ETA: 8s - loss: 0.1184 - rope_loss: 0.162 - ETA: 7s - loss: 0.1186 - rope_loss: 0.162 - ETA: 7s - loss: 0.1185 - rope_loss: 0.162 - ETA: 6s - loss: 0.1184 - rope_loss: 0.162 - ETA: 6s - loss: 0.1186 - rope_loss: 0.162 - ETA: 5s - loss: 0.1185 - rope_loss: 0.162 - ETA: 5s - loss: 0.1185 - rope_loss: 0.162 - ETA: 4s - loss: 0.1184 - rope_loss: 0.162 - ETA: 3s - loss: 0.1183 - rope_loss: 0.162 - ETA: 3s - loss: 0.1183 - rope_loss: 0.162 - ETA: 2s - loss: 0.1185 - rope_loss: 0.162 - ETA: 2s - loss: 0.1188 - rope_loss: 0.163 - ETA: 1s - loss: 0.1188 - rope_loss: 0.163 - ETA: 1s - loss: 0.1188 - rope_loss: 0.163 - ETA: 0s - loss: 0.1185 - rope_loss: 0.162 - 87s 11ms/sample - loss: 0.1185 - rope_loss: 0.1621 - val_loss: 0.1171 - val_rope_loss: 0.1623\n",
      "Epoch 10/301\n"
     ]
    },
    {
     "name": "stdout",
     "output_type": "stream",
     "text": [
      "7989/7989 [==============================] - ETA: 1:11 - loss: 0.1109 - rope_loss: 0.162 - ETA: 1:09 - loss: 0.1050 - rope_loss: 0.138 - ETA: 1:09 - loss: 0.1056 - rope_loss: 0.141 - ETA: 1:08 - loss: 0.1075 - rope_loss: 0.143 - ETA: 1:08 - loss: 0.1116 - rope_loss: 0.145 - ETA: 1:07 - loss: 0.1120 - rope_loss: 0.151 - ETA: 1:06 - loss: 0.1118 - rope_loss: 0.152 - ETA: 1:06 - loss: 0.1132 - rope_loss: 0.151 - ETA: 1:05 - loss: 0.1150 - rope_loss: 0.156 - ETA: 1:05 - loss: 0.1140 - rope_loss: 0.151 - ETA: 1:04 - loss: 0.1142 - rope_loss: 0.149 - ETA: 1:04 - loss: 0.1128 - rope_loss: 0.147 - ETA: 1:03 - loss: 0.1133 - rope_loss: 0.149 - ETA: 1:03 - loss: 0.1122 - rope_loss: 0.148 - ETA: 1:02 - loss: 0.1120 - rope_loss: 0.146 - ETA: 1:01 - loss: 0.1141 - rope_loss: 0.151 - ETA: 1:01 - loss: 0.1153 - rope_loss: 0.153 - ETA: 1:00 - loss: 0.1157 - rope_loss: 0.154 - ETA: 1:00 - loss: 0.1160 - rope_loss: 0.155 - ETA: 59s - loss: 0.1158 - rope_loss: 0.155 - ETA: 59s - loss: 0.1160 - rope_loss: 0.15 - ETA: 58s - loss: 0.1154 - rope_loss: 0.15 - ETA: 57s - loss: 0.1155 - rope_loss: 0.15 - ETA: 57s - loss: 0.1149 - rope_loss: 0.15 - ETA: 56s - loss: 0.1149 - rope_loss: 0.15 - ETA: 56s - loss: 0.1144 - rope_loss: 0.15 - ETA: 55s - loss: 0.1144 - rope_loss: 0.15 - ETA: 55s - loss: 0.1141 - rope_loss: 0.15 - ETA: 54s - loss: 0.1138 - rope_loss: 0.15 - ETA: 53s - loss: 0.1139 - rope_loss: 0.15 - ETA: 53s - loss: 0.1141 - rope_loss: 0.15 - ETA: 52s - loss: 0.1151 - rope_loss: 0.15 - ETA: 52s - loss: 0.1143 - rope_loss: 0.15 - ETA: 51s - loss: 0.1141 - rope_loss: 0.15 - ETA: 51s - loss: 0.1142 - rope_loss: 0.15 - ETA: 50s - loss: 0.1139 - rope_loss: 0.15 - ETA: 49s - loss: 0.1144 - rope_loss: 0.15 - ETA: 49s - loss: 0.1153 - rope_loss: 0.15 - ETA: 48s - loss: 0.1151 - rope_loss: 0.15 - ETA: 48s - loss: 0.1144 - rope_loss: 0.15 - ETA: 47s - loss: 0.1140 - rope_loss: 0.15 - ETA: 47s - loss: 0.1149 - rope_loss: 0.15 - ETA: 46s - loss: 0.1147 - rope_loss: 0.15 - ETA: 45s - loss: 0.1141 - rope_loss: 0.15 - ETA: 45s - loss: 0.1144 - rope_loss: 0.15 - ETA: 44s - loss: 0.1141 - rope_loss: 0.15 - ETA: 44s - loss: 0.1133 - rope_loss: 0.15 - ETA: 43s - loss: 0.1137 - rope_loss: 0.15 - ETA: 43s - loss: 0.1132 - rope_loss: 0.15 - ETA: 42s - loss: 0.1131 - rope_loss: 0.15 - ETA: 41s - loss: 0.1134 - rope_loss: 0.15 - ETA: 41s - loss: 0.1133 - rope_loss: 0.15 - ETA: 40s - loss: 0.1136 - rope_loss: 0.15 - ETA: 40s - loss: 0.1137 - rope_loss: 0.15 - ETA: 39s - loss: 0.1138 - rope_loss: 0.15 - ETA: 39s - loss: 0.1139 - rope_loss: 0.15 - ETA: 38s - loss: 0.1136 - rope_loss: 0.15 - ETA: 38s - loss: 0.1138 - rope_loss: 0.15 - ETA: 37s - loss: 0.1138 - rope_loss: 0.15 - ETA: 36s - loss: 0.1138 - rope_loss: 0.15 - ETA: 36s - loss: 0.1142 - rope_loss: 0.15 - ETA: 35s - loss: 0.1139 - rope_loss: 0.15 - ETA: 35s - loss: 0.1137 - rope_loss: 0.15 - ETA: 34s - loss: 0.1134 - rope_loss: 0.15 - ETA: 34s - loss: 0.1137 - rope_loss: 0.15 - ETA: 33s - loss: 0.1138 - rope_loss: 0.15 - ETA: 32s - loss: 0.1139 - rope_loss: 0.15 - ETA: 32s - loss: 0.1138 - rope_loss: 0.15 - ETA: 31s - loss: 0.1135 - rope_loss: 0.15 - ETA: 31s - loss: 0.1135 - rope_loss: 0.15 - ETA: 30s - loss: 0.1133 - rope_loss: 0.15 - ETA: 30s - loss: 0.1129 - rope_loss: 0.15 - ETA: 29s - loss: 0.1127 - rope_loss: 0.15 - ETA: 29s - loss: 0.1122 - rope_loss: 0.15 - ETA: 28s - loss: 0.1124 - rope_loss: 0.15 - ETA: 27s - loss: 0.1126 - rope_loss: 0.15 - ETA: 27s - loss: 0.1127 - rope_loss: 0.15 - ETA: 26s - loss: 0.1128 - rope_loss: 0.15 - ETA: 26s - loss: 0.1128 - rope_loss: 0.15 - ETA: 25s - loss: 0.1130 - rope_loss: 0.15 - ETA: 25s - loss: 0.1128 - rope_loss: 0.15 - ETA: 24s - loss: 0.1126 - rope_loss: 0.15 - ETA: 23s - loss: 0.1123 - rope_loss: 0.15 - ETA: 23s - loss: 0.1120 - rope_loss: 0.15 - ETA: 22s - loss: 0.1120 - rope_loss: 0.15 - ETA: 22s - loss: 0.1121 - rope_loss: 0.15 - ETA: 21s - loss: 0.1123 - rope_loss: 0.15 - ETA: 21s - loss: 0.1122 - rope_loss: 0.15 - ETA: 20s - loss: 0.1126 - rope_loss: 0.15 - ETA: 19s - loss: 0.1126 - rope_loss: 0.15 - ETA: 19s - loss: 0.1125 - rope_loss: 0.15 - ETA: 18s - loss: 0.1123 - rope_loss: 0.15 - ETA: 18s - loss: 0.1123 - rope_loss: 0.15 - ETA: 17s - loss: 0.1123 - rope_loss: 0.15 - ETA: 17s - loss: 0.1122 - rope_loss: 0.15 - ETA: 16s - loss: 0.1121 - rope_loss: 0.15 - ETA: 15s - loss: 0.1119 - rope_loss: 0.14 - ETA: 15s - loss: 0.1118 - rope_loss: 0.14 - ETA: 14s - loss: 0.1118 - rope_loss: 0.14 - ETA: 14s - loss: 0.1121 - rope_loss: 0.15 - ETA: 13s - loss: 0.1120 - rope_loss: 0.14 - ETA: 13s - loss: 0.1124 - rope_loss: 0.15 - ETA: 12s - loss: 0.1121 - rope_loss: 0.14 - ETA: 11s - loss: 0.1120 - rope_loss: 0.14 - ETA: 11s - loss: 0.1119 - rope_loss: 0.14 - ETA: 10s - loss: 0.1122 - rope_loss: 0.14 - ETA: 10s - loss: 0.1121 - rope_loss: 0.14 - ETA: 9s - loss: 0.1121 - rope_loss: 0.1498 - ETA: 9s - loss: 0.1119 - rope_loss: 0.149 - ETA: 8s - loss: 0.1121 - rope_loss: 0.149 - ETA: 7s - loss: 0.1121 - rope_loss: 0.149 - ETA: 7s - loss: 0.1119 - rope_loss: 0.149 - ETA: 6s - loss: 0.1118 - rope_loss: 0.148 - ETA: 6s - loss: 0.1119 - rope_loss: 0.149 - ETA: 5s - loss: 0.1119 - rope_loss: 0.149 - ETA: 5s - loss: 0.1120 - rope_loss: 0.149 - ETA: 4s - loss: 0.1118 - rope_loss: 0.149 - ETA: 3s - loss: 0.1119 - rope_loss: 0.149 - ETA: 3s - loss: 0.1120 - rope_loss: 0.149 - ETA: 2s - loss: 0.1120 - rope_loss: 0.149 - ETA: 2s - loss: 0.1120 - rope_loss: 0.149 - ETA: 1s - loss: 0.1120 - rope_loss: 0.149 - ETA: 1s - loss: 0.1119 - rope_loss: 0.149 - ETA: 0s - loss: 0.1121 - rope_loss: 0.150 - 87s 11ms/sample - loss: 0.1122 - rope_loss: 0.1502 - val_loss: 0.1184 - val_rope_loss: 0.1683\n",
      "Epoch 11/301\n"
     ]
    },
    {
     "name": "stdout",
     "output_type": "stream",
     "text": [
      "7989/7989 [==============================] - ETA: 1:10 - loss: 0.1062 - rope_loss: 0.133 - ETA: 1:10 - loss: 0.0925 - rope_loss: 0.112 - ETA: 1:10 - loss: 0.0951 - rope_loss: 0.123 - ETA: 1:10 - loss: 0.0997 - rope_loss: 0.134 - ETA: 1:08 - loss: 0.1016 - rope_loss: 0.140 - ETA: 1:08 - loss: 0.1095 - rope_loss: 0.156 - ETA: 1:07 - loss: 0.1107 - rope_loss: 0.156 - ETA: 1:06 - loss: 0.1108 - rope_loss: 0.158 - ETA: 1:06 - loss: 0.1109 - rope_loss: 0.155 - ETA: 1:05 - loss: 0.1095 - rope_loss: 0.151 - ETA: 1:05 - loss: 0.1091 - rope_loss: 0.150 - ETA: 1:04 - loss: 0.1092 - rope_loss: 0.151 - ETA: 1:03 - loss: 0.1099 - rope_loss: 0.151 - ETA: 1:03 - loss: 0.1098 - rope_loss: 0.152 - ETA: 1:02 - loss: 0.1098 - rope_loss: 0.152 - ETA: 1:02 - loss: 0.1100 - rope_loss: 0.152 - ETA: 1:01 - loss: 0.1091 - rope_loss: 0.151 - ETA: 1:00 - loss: 0.1084 - rope_loss: 0.149 - ETA: 1:00 - loss: 0.1092 - rope_loss: 0.151 - ETA: 59s - loss: 0.1099 - rope_loss: 0.153 - ETA: 59s - loss: 0.1114 - rope_loss: 0.15 - ETA: 58s - loss: 0.1108 - rope_loss: 0.15 - ETA: 58s - loss: 0.1094 - rope_loss: 0.15 - ETA: 57s - loss: 0.1094 - rope_loss: 0.15 - ETA: 56s - loss: 0.1090 - rope_loss: 0.15 - ETA: 56s - loss: 0.1094 - rope_loss: 0.15 - ETA: 55s - loss: 0.1095 - rope_loss: 0.15 - ETA: 55s - loss: 0.1094 - rope_loss: 0.15 - ETA: 54s - loss: 0.1102 - rope_loss: 0.15 - ETA: 54s - loss: 0.1102 - rope_loss: 0.15 - ETA: 53s - loss: 0.1104 - rope_loss: 0.15 - ETA: 53s - loss: 0.1106 - rope_loss: 0.15 - ETA: 52s - loss: 0.1112 - rope_loss: 0.15 - ETA: 51s - loss: 0.1115 - rope_loss: 0.15 - ETA: 51s - loss: 0.1119 - rope_loss: 0.15 - ETA: 50s - loss: 0.1117 - rope_loss: 0.15 - ETA: 50s - loss: 0.1114 - rope_loss: 0.15 - ETA: 49s - loss: 0.1110 - rope_loss: 0.15 - ETA: 49s - loss: 0.1111 - rope_loss: 0.15 - ETA: 48s - loss: 0.1111 - rope_loss: 0.15 - ETA: 47s - loss: 0.1107 - rope_loss: 0.15 - ETA: 47s - loss: 0.1100 - rope_loss: 0.15 - ETA: 46s - loss: 0.1098 - rope_loss: 0.15 - ETA: 46s - loss: 0.1099 - rope_loss: 0.15 - ETA: 45s - loss: 0.1099 - rope_loss: 0.15 - ETA: 45s - loss: 0.1093 - rope_loss: 0.14 - ETA: 44s - loss: 0.1093 - rope_loss: 0.14 - ETA: 43s - loss: 0.1091 - rope_loss: 0.14 - ETA: 43s - loss: 0.1086 - rope_loss: 0.14 - ETA: 42s - loss: 0.1084 - rope_loss: 0.14 - ETA: 42s - loss: 0.1081 - rope_loss: 0.14 - ETA: 41s - loss: 0.1086 - rope_loss: 0.14 - ETA: 41s - loss: 0.1089 - rope_loss: 0.14 - ETA: 40s - loss: 0.1091 - rope_loss: 0.14 - ETA: 40s - loss: 0.1089 - rope_loss: 0.14 - ETA: 39s - loss: 0.1089 - rope_loss: 0.14 - ETA: 38s - loss: 0.1088 - rope_loss: 0.14 - ETA: 38s - loss: 0.1089 - rope_loss: 0.14 - ETA: 37s - loss: 0.1087 - rope_loss: 0.14 - ETA: 37s - loss: 0.1086 - rope_loss: 0.14 - ETA: 36s - loss: 0.1084 - rope_loss: 0.14 - ETA: 35s - loss: 0.1080 - rope_loss: 0.14 - ETA: 35s - loss: 0.1078 - rope_loss: 0.14 - ETA: 34s - loss: 0.1078 - rope_loss: 0.14 - ETA: 34s - loss: 0.1080 - rope_loss: 0.14 - ETA: 33s - loss: 0.1083 - rope_loss: 0.14 - ETA: 33s - loss: 0.1085 - rope_loss: 0.14 - ETA: 32s - loss: 0.1086 - rope_loss: 0.14 - ETA: 31s - loss: 0.1087 - rope_loss: 0.14 - ETA: 31s - loss: 0.1088 - rope_loss: 0.14 - ETA: 30s - loss: 0.1091 - rope_loss: 0.14 - ETA: 30s - loss: 0.1092 - rope_loss: 0.14 - ETA: 29s - loss: 0.1090 - rope_loss: 0.14 - ETA: 29s - loss: 0.1090 - rope_loss: 0.14 - ETA: 28s - loss: 0.1093 - rope_loss: 0.14 - ETA: 27s - loss: 0.1096 - rope_loss: 0.14 - ETA: 27s - loss: 0.1095 - rope_loss: 0.14 - ETA: 26s - loss: 0.1096 - rope_loss: 0.14 - ETA: 26s - loss: 0.1096 - rope_loss: 0.14 - ETA: 25s - loss: 0.1094 - rope_loss: 0.14 - ETA: 25s - loss: 0.1092 - rope_loss: 0.14 - ETA: 24s - loss: 0.1090 - rope_loss: 0.14 - ETA: 23s - loss: 0.1094 - rope_loss: 0.14 - ETA: 23s - loss: 0.1094 - rope_loss: 0.14 - ETA: 22s - loss: 0.1095 - rope_loss: 0.14 - ETA: 22s - loss: 0.1099 - rope_loss: 0.14 - ETA: 21s - loss: 0.1100 - rope_loss: 0.14 - ETA: 21s - loss: 0.1101 - rope_loss: 0.14 - ETA: 20s - loss: 0.1103 - rope_loss: 0.15 - ETA: 19s - loss: 0.1102 - rope_loss: 0.15 - ETA: 19s - loss: 0.1102 - rope_loss: 0.15 - ETA: 18s - loss: 0.1103 - rope_loss: 0.15 - ETA: 18s - loss: 0.1106 - rope_loss: 0.15 - ETA: 17s - loss: 0.1106 - rope_loss: 0.15 - ETA: 17s - loss: 0.1105 - rope_loss: 0.15 - ETA: 16s - loss: 0.1104 - rope_loss: 0.15 - ETA: 15s - loss: 0.1102 - rope_loss: 0.15 - ETA: 15s - loss: 0.1101 - rope_loss: 0.15 - ETA: 14s - loss: 0.1099 - rope_loss: 0.15 - ETA: 14s - loss: 0.1099 - rope_loss: 0.15 - ETA: 13s - loss: 0.1099 - rope_loss: 0.15 - ETA: 13s - loss: 0.1099 - rope_loss: 0.14 - ETA: 12s - loss: 0.1098 - rope_loss: 0.14 - ETA: 11s - loss: 0.1099 - rope_loss: 0.14 - ETA: 11s - loss: 0.1101 - rope_loss: 0.15 - ETA: 10s - loss: 0.1100 - rope_loss: 0.14 - ETA: 10s - loss: 0.1098 - rope_loss: 0.14 - ETA: 9s - loss: 0.1099 - rope_loss: 0.1497 - ETA: 9s - loss: 0.1101 - rope_loss: 0.150 - ETA: 8s - loss: 0.1099 - rope_loss: 0.149 - ETA: 7s - loss: 0.1101 - rope_loss: 0.149 - ETA: 7s - loss: 0.1099 - rope_loss: 0.149 - ETA: 6s - loss: 0.1099 - rope_loss: 0.149 - ETA: 6s - loss: 0.1098 - rope_loss: 0.149 - ETA: 5s - loss: 0.1096 - rope_loss: 0.149 - ETA: 5s - loss: 0.1095 - rope_loss: 0.149 - ETA: 4s - loss: 0.1094 - rope_loss: 0.148 - ETA: 3s - loss: 0.1093 - rope_loss: 0.148 - ETA: 3s - loss: 0.1093 - rope_loss: 0.148 - ETA: 2s - loss: 0.1092 - rope_loss: 0.148 - ETA: 2s - loss: 0.1093 - rope_loss: 0.148 - ETA: 1s - loss: 0.1094 - rope_loss: 0.148 - ETA: 1s - loss: 0.1095 - rope_loss: 0.148 - ETA: 0s - loss: 0.1096 - rope_loss: 0.148 - 87s 11ms/sample - loss: 0.1094 - rope_loss: 0.1482 - val_loss: 0.1149 - val_rope_loss: 0.1587\n",
      "Epoch 12/301\n"
     ]
    },
    {
     "name": "stdout",
     "output_type": "stream",
     "text": [
      "7989/7989 [==============================] - ETA: 1:11 - loss: 0.0970 - rope_loss: 0.131 - ETA: 1:10 - loss: 0.0971 - rope_loss: 0.133 - ETA: 1:10 - loss: 0.1006 - rope_loss: 0.141 - ETA: 1:09 - loss: 0.1020 - rope_loss: 0.144 - ETA: 1:09 - loss: 0.1091 - rope_loss: 0.156 - ETA: 1:08 - loss: 0.1049 - rope_loss: 0.146 - ETA: 1:07 - loss: 0.1056 - rope_loss: 0.150 - ETA: 1:07 - loss: 0.1035 - rope_loss: 0.144 - ETA: 1:06 - loss: 0.1042 - rope_loss: 0.139 - ETA: 1:06 - loss: 0.1016 - rope_loss: 0.134 - ETA: 1:05 - loss: 0.1026 - rope_loss: 0.136 - ETA: 1:05 - loss: 0.1026 - rope_loss: 0.136 - ETA: 1:04 - loss: 0.1040 - rope_loss: 0.141 - ETA: 1:03 - loss: 0.1033 - rope_loss: 0.139 - ETA: 1:02 - loss: 0.1031 - rope_loss: 0.138 - ETA: 1:02 - loss: 0.1025 - rope_loss: 0.136 - ETA: 1:01 - loss: 0.1044 - rope_loss: 0.139 - ETA: 1:01 - loss: 0.1050 - rope_loss: 0.141 - ETA: 1:00 - loss: 0.1044 - rope_loss: 0.139 - ETA: 59s - loss: 0.1041 - rope_loss: 0.139 - ETA: 59s - loss: 0.1058 - rope_loss: 0.14 - ETA: 58s - loss: 0.1068 - rope_loss: 0.14 - ETA: 58s - loss: 0.1066 - rope_loss: 0.14 - ETA: 57s - loss: 0.1066 - rope_loss: 0.14 - ETA: 57s - loss: 0.1069 - rope_loss: 0.14 - ETA: 56s - loss: 0.1067 - rope_loss: 0.14 - ETA: 55s - loss: 0.1074 - rope_loss: 0.14 - ETA: 55s - loss: 0.1070 - rope_loss: 0.14 - ETA: 54s - loss: 0.1084 - rope_loss: 0.14 - ETA: 54s - loss: 0.1099 - rope_loss: 0.14 - ETA: 53s - loss: 0.1094 - rope_loss: 0.14 - ETA: 52s - loss: 0.1094 - rope_loss: 0.14 - ETA: 52s - loss: 0.1098 - rope_loss: 0.14 - ETA: 51s - loss: 0.1097 - rope_loss: 0.14 - ETA: 51s - loss: 0.1099 - rope_loss: 0.14 - ETA: 50s - loss: 0.1106 - rope_loss: 0.15 - ETA: 50s - loss: 0.1110 - rope_loss: 0.15 - ETA: 49s - loss: 0.1110 - rope_loss: 0.15 - ETA: 48s - loss: 0.1111 - rope_loss: 0.14 - ETA: 48s - loss: 0.1105 - rope_loss: 0.14 - ETA: 47s - loss: 0.1106 - rope_loss: 0.14 - ETA: 47s - loss: 0.1107 - rope_loss: 0.14 - ETA: 46s - loss: 0.1110 - rope_loss: 0.14 - ETA: 46s - loss: 0.1110 - rope_loss: 0.14 - ETA: 45s - loss: 0.1106 - rope_loss: 0.14 - ETA: 44s - loss: 0.1103 - rope_loss: 0.14 - ETA: 44s - loss: 0.1107 - rope_loss: 0.14 - ETA: 43s - loss: 0.1106 - rope_loss: 0.14 - ETA: 43s - loss: 0.1100 - rope_loss: 0.14 - ETA: 42s - loss: 0.1101 - rope_loss: 0.14 - ETA: 42s - loss: 0.1104 - rope_loss: 0.14 - ETA: 41s - loss: 0.1102 - rope_loss: 0.14 - ETA: 40s - loss: 0.1101 - rope_loss: 0.14 - ETA: 40s - loss: 0.1104 - rope_loss: 0.14 - ETA: 39s - loss: 0.1104 - rope_loss: 0.14 - ETA: 39s - loss: 0.1105 - rope_loss: 0.14 - ETA: 38s - loss: 0.1109 - rope_loss: 0.14 - ETA: 38s - loss: 0.1112 - rope_loss: 0.15 - ETA: 37s - loss: 0.1109 - rope_loss: 0.14 - ETA: 36s - loss: 0.1105 - rope_loss: 0.14 - ETA: 36s - loss: 0.1110 - rope_loss: 0.14 - ETA: 35s - loss: 0.1109 - rope_loss: 0.14 - ETA: 35s - loss: 0.1109 - rope_loss: 0.14 - ETA: 34s - loss: 0.1112 - rope_loss: 0.14 - ETA: 34s - loss: 0.1109 - rope_loss: 0.14 - ETA: 33s - loss: 0.1104 - rope_loss: 0.14 - ETA: 32s - loss: 0.1102 - rope_loss: 0.14 - ETA: 32s - loss: 0.1100 - rope_loss: 0.14 - ETA: 31s - loss: 0.1101 - rope_loss: 0.14 - ETA: 31s - loss: 0.1101 - rope_loss: 0.14 - ETA: 30s - loss: 0.1101 - rope_loss: 0.14 - ETA: 30s - loss: 0.1101 - rope_loss: 0.14 - ETA: 29s - loss: 0.1098 - rope_loss: 0.14 - ETA: 28s - loss: 0.1096 - rope_loss: 0.14 - ETA: 28s - loss: 0.1097 - rope_loss: 0.14 - ETA: 27s - loss: 0.1097 - rope_loss: 0.14 - ETA: 27s - loss: 0.1099 - rope_loss: 0.14 - ETA: 26s - loss: 0.1099 - rope_loss: 0.14 - ETA: 26s - loss: 0.1101 - rope_loss: 0.14 - ETA: 25s - loss: 0.1106 - rope_loss: 0.14 - ETA: 24s - loss: 0.1107 - rope_loss: 0.14 - ETA: 24s - loss: 0.1106 - rope_loss: 0.14 - ETA: 23s - loss: 0.1102 - rope_loss: 0.14 - ETA: 23s - loss: 0.1103 - rope_loss: 0.14 - ETA: 22s - loss: 0.1099 - rope_loss: 0.14 - ETA: 22s - loss: 0.1099 - rope_loss: 0.14 - ETA: 21s - loss: 0.1097 - rope_loss: 0.14 - ETA: 20s - loss: 0.1098 - rope_loss: 0.14 - ETA: 20s - loss: 0.1101 - rope_loss: 0.14 - ETA: 19s - loss: 0.1097 - rope_loss: 0.14 - ETA: 19s - loss: 0.1095 - rope_loss: 0.14 - ETA: 18s - loss: 0.1094 - rope_loss: 0.14 - ETA: 18s - loss: 0.1092 - rope_loss: 0.14 - ETA: 17s - loss: 0.1090 - rope_loss: 0.14 - ETA: 16s - loss: 0.1089 - rope_loss: 0.14 - ETA: 16s - loss: 0.1090 - rope_loss: 0.14 - ETA: 15s - loss: 0.1091 - rope_loss: 0.14 - ETA: 15s - loss: 0.1089 - rope_loss: 0.14 - ETA: 14s - loss: 0.1093 - rope_loss: 0.14 - ETA: 14s - loss: 0.1091 - rope_loss: 0.14 - ETA: 13s - loss: 0.1089 - rope_loss: 0.14 - ETA: 13s - loss: 0.1088 - rope_loss: 0.14 - ETA: 12s - loss: 0.1088 - rope_loss: 0.14 - ETA: 11s - loss: 0.1089 - rope_loss: 0.14 - ETA: 11s - loss: 0.1090 - rope_loss: 0.14 - ETA: 10s - loss: 0.1090 - rope_loss: 0.14 - ETA: 10s - loss: 0.1087 - rope_loss: 0.14 - ETA: 9s - loss: 0.1086 - rope_loss: 0.1447 - ETA: 9s - loss: 0.1086 - rope_loss: 0.144 - ETA: 8s - loss: 0.1086 - rope_loss: 0.145 - ETA: 7s - loss: 0.1087 - rope_loss: 0.145 - ETA: 7s - loss: 0.1088 - rope_loss: 0.145 - ETA: 6s - loss: 0.1087 - rope_loss: 0.145 - ETA: 6s - loss: 0.1089 - rope_loss: 0.145 - ETA: 5s - loss: 0.1088 - rope_loss: 0.145 - ETA: 5s - loss: 0.1089 - rope_loss: 0.145 - ETA: 4s - loss: 0.1090 - rope_loss: 0.145 - ETA: 3s - loss: 0.1089 - rope_loss: 0.145 - ETA: 3s - loss: 0.1088 - rope_loss: 0.145 - ETA: 2s - loss: 0.1086 - rope_loss: 0.145 - ETA: 2s - loss: 0.1087 - rope_loss: 0.145 - ETA: 1s - loss: 0.1085 - rope_loss: 0.145 - ETA: 1s - loss: 0.1087 - rope_loss: 0.145 - ETA: 0s - loss: 0.1085 - rope_loss: 0.145 - 87s 11ms/sample - loss: 0.1085 - rope_loss: 0.1451 - val_loss: 0.1263 - val_rope_loss: 0.1802\n",
      "Epoch 13/301\n"
     ]
    },
    {
     "name": "stdout",
     "output_type": "stream",
     "text": [
      "7989/7989 [==============================] - ETA: 1:09 - loss: 0.0799 - rope_loss: 0.098 - ETA: 1:09 - loss: 0.0858 - rope_loss: 0.112 - ETA: 1:09 - loss: 0.0989 - rope_loss: 0.130 - ETA: 1:09 - loss: 0.1084 - rope_loss: 0.139 - ETA: 1:08 - loss: 0.1031 - rope_loss: 0.132 - ETA: 1:08 - loss: 0.1081 - rope_loss: 0.143 - ETA: 1:07 - loss: 0.1064 - rope_loss: 0.140 - ETA: 1:06 - loss: 0.1098 - rope_loss: 0.144 - ETA: 1:06 - loss: 0.1098 - rope_loss: 0.146 - ETA: 1:05 - loss: 0.1104 - rope_loss: 0.148 - ETA: 1:04 - loss: 0.1093 - rope_loss: 0.146 - ETA: 1:04 - loss: 0.1083 - rope_loss: 0.145 - ETA: 1:03 - loss: 0.1087 - rope_loss: 0.147 - ETA: 1:03 - loss: 0.1080 - rope_loss: 0.146 - ETA: 1:02 - loss: 0.1068 - rope_loss: 0.144 - ETA: 1:02 - loss: 0.1073 - rope_loss: 0.143 - ETA: 1:01 - loss: 0.1082 - rope_loss: 0.144 - ETA: 1:00 - loss: 0.1097 - rope_loss: 0.148 - ETA: 1:00 - loss: 0.1081 - rope_loss: 0.145 - ETA: 59s - loss: 0.1069 - rope_loss: 0.143 - ETA: 59s - loss: 0.1063 - rope_loss: 0.14 - ETA: 58s - loss: 0.1072 - rope_loss: 0.14 - ETA: 58s - loss: 0.1065 - rope_loss: 0.14 - ETA: 57s - loss: 0.1057 - rope_loss: 0.14 - ETA: 56s - loss: 0.1062 - rope_loss: 0.14 - ETA: 56s - loss: 0.1062 - rope_loss: 0.14 - ETA: 55s - loss: 0.1060 - rope_loss: 0.14 - ETA: 55s - loss: 0.1054 - rope_loss: 0.14 - ETA: 54s - loss: 0.1050 - rope_loss: 0.14 - ETA: 54s - loss: 0.1049 - rope_loss: 0.14 - ETA: 53s - loss: 0.1050 - rope_loss: 0.13 - ETA: 53s - loss: 0.1052 - rope_loss: 0.14 - ETA: 52s - loss: 0.1051 - rope_loss: 0.13 - ETA: 51s - loss: 0.1050 - rope_loss: 0.13 - ETA: 51s - loss: 0.1050 - rope_loss: 0.13 - ETA: 50s - loss: 0.1052 - rope_loss: 0.13 - ETA: 50s - loss: 0.1059 - rope_loss: 0.13 - ETA: 49s - loss: 0.1055 - rope_loss: 0.13 - ETA: 48s - loss: 0.1055 - rope_loss: 0.13 - ETA: 48s - loss: 0.1056 - rope_loss: 0.13 - ETA: 47s - loss: 0.1059 - rope_loss: 0.13 - ETA: 47s - loss: 0.1057 - rope_loss: 0.13 - ETA: 46s - loss: 0.1053 - rope_loss: 0.13 - ETA: 46s - loss: 0.1055 - rope_loss: 0.13 - ETA: 45s - loss: 0.1061 - rope_loss: 0.14 - ETA: 45s - loss: 0.1064 - rope_loss: 0.14 - ETA: 44s - loss: 0.1065 - rope_loss: 0.14 - ETA: 43s - loss: 0.1070 - rope_loss: 0.14 - ETA: 43s - loss: 0.1069 - rope_loss: 0.14 - ETA: 42s - loss: 0.1064 - rope_loss: 0.14 - ETA: 42s - loss: 0.1070 - rope_loss: 0.14 - ETA: 41s - loss: 0.1066 - rope_loss: 0.14 - ETA: 41s - loss: 0.1068 - rope_loss: 0.14 - ETA: 40s - loss: 0.1070 - rope_loss: 0.14 - ETA: 39s - loss: 0.1066 - rope_loss: 0.14 - ETA: 39s - loss: 0.1064 - rope_loss: 0.14 - ETA: 38s - loss: 0.1065 - rope_loss: 0.14 - ETA: 38s - loss: 0.1064 - rope_loss: 0.14 - ETA: 37s - loss: 0.1061 - rope_loss: 0.14 - ETA: 37s - loss: 0.1060 - rope_loss: 0.14 - ETA: 36s - loss: 0.1056 - rope_loss: 0.13 - ETA: 35s - loss: 0.1056 - rope_loss: 0.13 - ETA: 35s - loss: 0.1057 - rope_loss: 0.13 - ETA: 34s - loss: 0.1056 - rope_loss: 0.13 - ETA: 34s - loss: 0.1055 - rope_loss: 0.13 - ETA: 33s - loss: 0.1055 - rope_loss: 0.13 - ETA: 33s - loss: 0.1055 - rope_loss: 0.13 - ETA: 32s - loss: 0.1053 - rope_loss: 0.13 - ETA: 31s - loss: 0.1049 - rope_loss: 0.13 - ETA: 31s - loss: 0.1048 - rope_loss: 0.13 - ETA: 30s - loss: 0.1047 - rope_loss: 0.13 - ETA: 30s - loss: 0.1047 - rope_loss: 0.13 - ETA: 29s - loss: 0.1042 - rope_loss: 0.13 - ETA: 29s - loss: 0.1043 - rope_loss: 0.13 - ETA: 28s - loss: 0.1042 - rope_loss: 0.13 - ETA: 27s - loss: 0.1044 - rope_loss: 0.13 - ETA: 27s - loss: 0.1043 - rope_loss: 0.13 - ETA: 26s - loss: 0.1043 - rope_loss: 0.13 - ETA: 26s - loss: 0.1040 - rope_loss: 0.13 - ETA: 25s - loss: 0.1037 - rope_loss: 0.13 - ETA: 24s - loss: 0.1039 - rope_loss: 0.13 - ETA: 24s - loss: 0.1038 - rope_loss: 0.13 - ETA: 23s - loss: 0.1038 - rope_loss: 0.13 - ETA: 23s - loss: 0.1039 - rope_loss: 0.13 - ETA: 22s - loss: 0.1035 - rope_loss: 0.13 - ETA: 22s - loss: 0.1032 - rope_loss: 0.13 - ETA: 21s - loss: 0.1033 - rope_loss: 0.13 - ETA: 21s - loss: 0.1034 - rope_loss: 0.13 - ETA: 20s - loss: 0.1034 - rope_loss: 0.13 - ETA: 19s - loss: 0.1035 - rope_loss: 0.13 - ETA: 19s - loss: 0.1035 - rope_loss: 0.13 - ETA: 18s - loss: 0.1037 - rope_loss: 0.13 - ETA: 18s - loss: 0.1037 - rope_loss: 0.13 - ETA: 17s - loss: 0.1034 - rope_loss: 0.13 - ETA: 17s - loss: 0.1035 - rope_loss: 0.13 - ETA: 16s - loss: 0.1032 - rope_loss: 0.13 - ETA: 15s - loss: 0.1033 - rope_loss: 0.13 - ETA: 15s - loss: 0.1034 - rope_loss: 0.13 - ETA: 14s - loss: 0.1034 - rope_loss: 0.13 - ETA: 14s - loss: 0.1036 - rope_loss: 0.13 - ETA: 13s - loss: 0.1038 - rope_loss: 0.13 - ETA: 13s - loss: 0.1041 - rope_loss: 0.13 - ETA: 12s - loss: 0.1038 - rope_loss: 0.13 - ETA: 11s - loss: 0.1038 - rope_loss: 0.13 - ETA: 11s - loss: 0.1035 - rope_loss: 0.13 - ETA: 10s - loss: 0.1032 - rope_loss: 0.13 - ETA: 10s - loss: 0.1030 - rope_loss: 0.13 - ETA: 9s - loss: 0.1031 - rope_loss: 0.1342 - ETA: 9s - loss: 0.1030 - rope_loss: 0.134 - ETA: 8s - loss: 0.1031 - rope_loss: 0.134 - ETA: 7s - loss: 0.1032 - rope_loss: 0.134 - ETA: 7s - loss: 0.1033 - rope_loss: 0.134 - ETA: 6s - loss: 0.1035 - rope_loss: 0.134 - ETA: 6s - loss: 0.1034 - rope_loss: 0.134 - ETA: 5s - loss: 0.1032 - rope_loss: 0.134 - ETA: 5s - loss: 0.1030 - rope_loss: 0.134 - ETA: 4s - loss: 0.1031 - rope_loss: 0.133 - ETA: 3s - loss: 0.1030 - rope_loss: 0.133 - ETA: 3s - loss: 0.1029 - rope_loss: 0.133 - ETA: 2s - loss: 0.1030 - rope_loss: 0.133 - ETA: 2s - loss: 0.1030 - rope_loss: 0.133 - ETA: 1s - loss: 0.1030 - rope_loss: 0.133 - ETA: 1s - loss: 0.1029 - rope_loss: 0.133 - ETA: 0s - loss: 0.1029 - rope_loss: 0.133 - 87s 11ms/sample - loss: 0.1029 - rope_loss: 0.1332 - val_loss: 0.1041 - val_rope_loss: 0.1390\n",
      "Epoch 14/301\n"
     ]
    },
    {
     "name": "stdout",
     "output_type": "stream",
     "text": [
      "7989/7989 [==============================] - ETA: 1:09 - loss: 0.1131 - rope_loss: 0.171 - ETA: 1:09 - loss: 0.1128 - rope_loss: 0.167 - ETA: 1:08 - loss: 0.1137 - rope_loss: 0.164 - ETA: 1:08 - loss: 0.1100 - rope_loss: 0.155 - ETA: 1:08 - loss: 0.1117 - rope_loss: 0.160 - ETA: 1:07 - loss: 0.1094 - rope_loss: 0.152 - ETA: 1:07 - loss: 0.1074 - rope_loss: 0.147 - ETA: 1:06 - loss: 0.1093 - rope_loss: 0.152 - ETA: 1:05 - loss: 0.1077 - rope_loss: 0.149 - ETA: 1:05 - loss: 0.1079 - rope_loss: 0.151 - ETA: 1:04 - loss: 0.1072 - rope_loss: 0.146 - ETA: 1:04 - loss: 0.1082 - rope_loss: 0.149 - ETA: 1:03 - loss: 0.1084 - rope_loss: 0.149 - ETA: 1:03 - loss: 0.1090 - rope_loss: 0.149 - ETA: 1:02 - loss: 0.1093 - rope_loss: 0.148 - ETA: 1:01 - loss: 0.1092 - rope_loss: 0.148 - ETA: 1:01 - loss: 0.1086 - rope_loss: 0.148 - ETA: 1:00 - loss: 0.1079 - rope_loss: 0.147 - ETA: 1:00 - loss: 0.1062 - rope_loss: 0.144 - ETA: 59s - loss: 0.1052 - rope_loss: 0.140 - ETA: 59s - loss: 0.1048 - rope_loss: 0.13 - ETA: 58s - loss: 0.1044 - rope_loss: 0.13 - ETA: 58s - loss: 0.1035 - rope_loss: 0.13 - ETA: 57s - loss: 0.1033 - rope_loss: 0.13 - ETA: 56s - loss: 0.1031 - rope_loss: 0.13 - ETA: 56s - loss: 0.1033 - rope_loss: 0.13 - ETA: 55s - loss: 0.1037 - rope_loss: 0.13 - ETA: 55s - loss: 0.1034 - rope_loss: 0.13 - ETA: 54s - loss: 0.1033 - rope_loss: 0.13 - ETA: 53s - loss: 0.1033 - rope_loss: 0.13 - ETA: 53s - loss: 0.1026 - rope_loss: 0.13 - ETA: 52s - loss: 0.1028 - rope_loss: 0.13 - ETA: 52s - loss: 0.1033 - rope_loss: 0.13 - ETA: 51s - loss: 0.1039 - rope_loss: 0.13 - ETA: 50s - loss: 0.1029 - rope_loss: 0.13 - ETA: 50s - loss: 0.1030 - rope_loss: 0.13 - ETA: 49s - loss: 0.1027 - rope_loss: 0.13 - ETA: 49s - loss: 0.1029 - rope_loss: 0.13 - ETA: 48s - loss: 0.1024 - rope_loss: 0.13 - ETA: 48s - loss: 0.1021 - rope_loss: 0.13 - ETA: 47s - loss: 0.1019 - rope_loss: 0.13 - ETA: 46s - loss: 0.1020 - rope_loss: 0.13 - ETA: 46s - loss: 0.1023 - rope_loss: 0.13 - ETA: 45s - loss: 0.1024 - rope_loss: 0.13 - ETA: 45s - loss: 0.1023 - rope_loss: 0.13 - ETA: 44s - loss: 0.1028 - rope_loss: 0.13 - ETA: 44s - loss: 0.1027 - rope_loss: 0.13 - ETA: 43s - loss: 0.1028 - rope_loss: 0.13 - ETA: 42s - loss: 0.1027 - rope_loss: 0.13 - ETA: 42s - loss: 0.1023 - rope_loss: 0.13 - ETA: 41s - loss: 0.1026 - rope_loss: 0.13 - ETA: 41s - loss: 0.1027 - rope_loss: 0.13 - ETA: 40s - loss: 0.1028 - rope_loss: 0.13 - ETA: 40s - loss: 0.1027 - rope_loss: 0.13 - ETA: 39s - loss: 0.1026 - rope_loss: 0.13 - ETA: 39s - loss: 0.1025 - rope_loss: 0.13 - ETA: 38s - loss: 0.1024 - rope_loss: 0.13 - ETA: 37s - loss: 0.1022 - rope_loss: 0.13 - ETA: 37s - loss: 0.1019 - rope_loss: 0.13 - ETA: 36s - loss: 0.1016 - rope_loss: 0.12 - ETA: 36s - loss: 0.1022 - rope_loss: 0.13 - ETA: 35s - loss: 0.1023 - rope_loss: 0.13 - ETA: 35s - loss: 0.1023 - rope_loss: 0.13 - ETA: 34s - loss: 0.1021 - rope_loss: 0.13 - ETA: 33s - loss: 0.1018 - rope_loss: 0.12 - ETA: 33s - loss: 0.1018 - rope_loss: 0.12 - ETA: 32s - loss: 0.1017 - rope_loss: 0.12 - ETA: 32s - loss: 0.1014 - rope_loss: 0.12 - ETA: 31s - loss: 0.1014 - rope_loss: 0.12 - ETA: 31s - loss: 0.1013 - rope_loss: 0.12 - ETA: 30s - loss: 0.1013 - rope_loss: 0.12 - ETA: 29s - loss: 0.1015 - rope_loss: 0.12 - ETA: 29s - loss: 0.1013 - rope_loss: 0.12 - ETA: 28s - loss: 0.1011 - rope_loss: 0.12 - ETA: 28s - loss: 0.1015 - rope_loss: 0.12 - ETA: 27s - loss: 0.1015 - rope_loss: 0.12 - ETA: 27s - loss: 0.1017 - rope_loss: 0.13 - ETA: 26s - loss: 0.1015 - rope_loss: 0.13 - ETA: 26s - loss: 0.1017 - rope_loss: 0.13 - ETA: 25s - loss: 0.1016 - rope_loss: 0.12 - ETA: 24s - loss: 0.1018 - rope_loss: 0.13 - ETA: 24s - loss: 0.1017 - rope_loss: 0.13 - ETA: 23s - loss: 0.1017 - rope_loss: 0.13 - ETA: 23s - loss: 0.1017 - rope_loss: 0.13 - ETA: 22s - loss: 0.1014 - rope_loss: 0.12 - ETA: 22s - loss: 0.1015 - rope_loss: 0.12 - ETA: 21s - loss: 0.1016 - rope_loss: 0.12 - ETA: 20s - loss: 0.1018 - rope_loss: 0.13 - ETA: 20s - loss: 0.1020 - rope_loss: 0.13 - ETA: 19s - loss: 0.1021 - rope_loss: 0.13 - ETA: 19s - loss: 0.1018 - rope_loss: 0.13 - ETA: 18s - loss: 0.1019 - rope_loss: 0.13 - ETA: 18s - loss: 0.1018 - rope_loss: 0.13 - ETA: 17s - loss: 0.1016 - rope_loss: 0.12 - ETA: 16s - loss: 0.1017 - rope_loss: 0.13 - ETA: 16s - loss: 0.1018 - rope_loss: 0.13 - ETA: 15s - loss: 0.1019 - rope_loss: 0.13 - ETA: 15s - loss: 0.1019 - rope_loss: 0.13 - ETA: 14s - loss: 0.1020 - rope_loss: 0.13 - ETA: 14s - loss: 0.1021 - rope_loss: 0.13 - ETA: 13s - loss: 0.1022 - rope_loss: 0.13 - ETA: 12s - loss: 0.1019 - rope_loss: 0.13 - ETA: 12s - loss: 0.1022 - rope_loss: 0.13 - ETA: 11s - loss: 0.1023 - rope_loss: 0.13 - ETA: 11s - loss: 0.1022 - rope_loss: 0.13 - ETA: 10s - loss: 0.1022 - rope_loss: 0.13 - ETA: 10s - loss: 0.1021 - rope_loss: 0.13 - ETA: 9s - loss: 0.1020 - rope_loss: 0.1314 - ETA: 8s - loss: 0.1020 - rope_loss: 0.131 - ETA: 8s - loss: 0.1020 - rope_loss: 0.131 - ETA: 7s - loss: 0.1020 - rope_loss: 0.131 - ETA: 7s - loss: 0.1022 - rope_loss: 0.131 - ETA: 6s - loss: 0.1022 - rope_loss: 0.131 - ETA: 6s - loss: 0.1021 - rope_loss: 0.131 - ETA: 5s - loss: 0.1018 - rope_loss: 0.130 - ETA: 5s - loss: 0.1020 - rope_loss: 0.131 - ETA: 4s - loss: 0.1018 - rope_loss: 0.130 - ETA: 3s - loss: 0.1017 - rope_loss: 0.130 - ETA: 3s - loss: 0.1016 - rope_loss: 0.130 - ETA: 2s - loss: 0.1017 - rope_loss: 0.130 - ETA: 2s - loss: 0.1018 - rope_loss: 0.130 - ETA: 1s - loss: 0.1016 - rope_loss: 0.130 - ETA: 1s - loss: 0.1017 - rope_loss: 0.130 - ETA: 0s - loss: 0.1015 - rope_loss: 0.129 - 87s 11ms/sample - loss: 0.1014 - rope_loss: 0.1296 - val_loss: 0.1040 - val_rope_loss: 0.1442\n",
      "Epoch 15/301\n"
     ]
    },
    {
     "name": "stdout",
     "output_type": "stream",
     "text": [
      "7989/7989 [==============================] - ETA: 1:13 - loss: 0.1056 - rope_loss: 0.118 - ETA: 1:12 - loss: 0.1005 - rope_loss: 0.124 - ETA: 1:11 - loss: 0.0962 - rope_loss: 0.122 - ETA: 1:11 - loss: 0.0966 - rope_loss: 0.122 - ETA: 1:09 - loss: 0.0947 - rope_loss: 0.117 - ETA: 1:09 - loss: 0.0972 - rope_loss: 0.115 - ETA: 1:08 - loss: 0.0961 - rope_loss: 0.113 - ETA: 1:07 - loss: 0.0983 - rope_loss: 0.115 - ETA: 1:07 - loss: 0.0968 - rope_loss: 0.112 - ETA: 1:06 - loss: 0.0963 - rope_loss: 0.113 - ETA: 1:05 - loss: 0.0961 - rope_loss: 0.114 - ETA: 1:04 - loss: 0.0962 - rope_loss: 0.115 - ETA: 1:04 - loss: 0.0967 - rope_loss: 0.117 - ETA: 1:03 - loss: 0.0975 - rope_loss: 0.119 - ETA: 1:03 - loss: 0.0960 - rope_loss: 0.117 - ETA: 1:02 - loss: 0.0957 - rope_loss: 0.115 - ETA: 1:01 - loss: 0.0952 - rope_loss: 0.114 - ETA: 1:01 - loss: 0.0943 - rope_loss: 0.113 - ETA: 1:00 - loss: 0.0957 - rope_loss: 0.113 - ETA: 1:00 - loss: 0.0963 - rope_loss: 0.115 - ETA: 59s - loss: 0.0971 - rope_loss: 0.116 - ETA: 59s - loss: 0.0973 - rope_loss: 0.11 - ETA: 58s - loss: 0.0972 - rope_loss: 0.11 - ETA: 57s - loss: 0.0973 - rope_loss: 0.11 - ETA: 57s - loss: 0.0984 - rope_loss: 0.12 - ETA: 56s - loss: 0.0982 - rope_loss: 0.11 - ETA: 56s - loss: 0.0982 - rope_loss: 0.12 - ETA: 55s - loss: 0.0977 - rope_loss: 0.11 - ETA: 54s - loss: 0.0976 - rope_loss: 0.12 - ETA: 54s - loss: 0.0977 - rope_loss: 0.12 - ETA: 53s - loss: 0.0983 - rope_loss: 0.12 - ETA: 53s - loss: 0.0993 - rope_loss: 0.12 - ETA: 52s - loss: 0.0989 - rope_loss: 0.12 - ETA: 52s - loss: 0.0988 - rope_loss: 0.12 - ETA: 51s - loss: 0.0988 - rope_loss: 0.12 - ETA: 50s - loss: 0.0987 - rope_loss: 0.12 - ETA: 50s - loss: 0.0988 - rope_loss: 0.12 - ETA: 49s - loss: 0.0990 - rope_loss: 0.12 - ETA: 49s - loss: 0.0991 - rope_loss: 0.12 - ETA: 48s - loss: 0.0991 - rope_loss: 0.12 - ETA: 48s - loss: 0.0992 - rope_loss: 0.12 - ETA: 47s - loss: 0.0985 - rope_loss: 0.12 - ETA: 46s - loss: 0.0992 - rope_loss: 0.12 - ETA: 46s - loss: 0.0992 - rope_loss: 0.12 - ETA: 45s - loss: 0.0989 - rope_loss: 0.12 - ETA: 45s - loss: 0.0989 - rope_loss: 0.12 - ETA: 44s - loss: 0.0988 - rope_loss: 0.12 - ETA: 43s - loss: 0.0991 - rope_loss: 0.12 - ETA: 43s - loss: 0.0995 - rope_loss: 0.12 - ETA: 42s - loss: 0.0994 - rope_loss: 0.12 - ETA: 42s - loss: 0.0988 - rope_loss: 0.12 - ETA: 41s - loss: 0.0992 - rope_loss: 0.12 - ETA: 41s - loss: 0.0997 - rope_loss: 0.12 - ETA: 40s - loss: 0.1000 - rope_loss: 0.12 - ETA: 39s - loss: 0.1000 - rope_loss: 0.12 - ETA: 39s - loss: 0.0997 - rope_loss: 0.12 - ETA: 38s - loss: 0.0995 - rope_loss: 0.12 - ETA: 38s - loss: 0.0996 - rope_loss: 0.12 - ETA: 37s - loss: 0.0999 - rope_loss: 0.12 - ETA: 37s - loss: 0.0999 - rope_loss: 0.12 - ETA: 36s - loss: 0.0998 - rope_loss: 0.12 - ETA: 35s - loss: 0.0998 - rope_loss: 0.12 - ETA: 35s - loss: 0.0994 - rope_loss: 0.12 - ETA: 34s - loss: 0.0993 - rope_loss: 0.12 - ETA: 34s - loss: 0.0992 - rope_loss: 0.12 - ETA: 33s - loss: 0.0988 - rope_loss: 0.12 - ETA: 32s - loss: 0.0987 - rope_loss: 0.12 - ETA: 32s - loss: 0.0988 - rope_loss: 0.12 - ETA: 31s - loss: 0.0990 - rope_loss: 0.12 - ETA: 31s - loss: 0.0991 - rope_loss: 0.12 - ETA: 30s - loss: 0.0990 - rope_loss: 0.12 - ETA: 30s - loss: 0.0992 - rope_loss: 0.12 - ETA: 29s - loss: 0.0991 - rope_loss: 0.12 - ETA: 28s - loss: 0.0990 - rope_loss: 0.12 - ETA: 28s - loss: 0.0990 - rope_loss: 0.12 - ETA: 27s - loss: 0.0988 - rope_loss: 0.12 - ETA: 27s - loss: 0.0989 - rope_loss: 0.12 - ETA: 26s - loss: 0.0986 - rope_loss: 0.12 - ETA: 26s - loss: 0.0985 - rope_loss: 0.12 - ETA: 25s - loss: 0.0986 - rope_loss: 0.12 - ETA: 24s - loss: 0.0987 - rope_loss: 0.12 - ETA: 24s - loss: 0.0990 - rope_loss: 0.12 - ETA: 23s - loss: 0.0990 - rope_loss: 0.12 - ETA: 23s - loss: 0.0991 - rope_loss: 0.12 - ETA: 22s - loss: 0.0989 - rope_loss: 0.12 - ETA: 22s - loss: 0.0988 - rope_loss: 0.12 - ETA: 21s - loss: 0.0991 - rope_loss: 0.12 - ETA: 20s - loss: 0.0993 - rope_loss: 0.12 - ETA: 20s - loss: 0.0996 - rope_loss: 0.12 - ETA: 19s - loss: 0.0995 - rope_loss: 0.12 - ETA: 19s - loss: 0.0994 - rope_loss: 0.12 - ETA: 18s - loss: 0.0994 - rope_loss: 0.12 - ETA: 18s - loss: 0.0995 - rope_loss: 0.12 - ETA: 17s - loss: 0.0995 - rope_loss: 0.12 - ETA: 17s - loss: 0.0995 - rope_loss: 0.12 - ETA: 16s - loss: 0.0993 - rope_loss: 0.12 - ETA: 15s - loss: 0.0993 - rope_loss: 0.12 - ETA: 15s - loss: 0.0991 - rope_loss: 0.12 - ETA: 14s - loss: 0.0991 - rope_loss: 0.12 - ETA: 14s - loss: 0.0994 - rope_loss: 0.12 - ETA: 13s - loss: 0.0996 - rope_loss: 0.12 - ETA: 13s - loss: 0.0996 - rope_loss: 0.12 - ETA: 12s - loss: 0.0996 - rope_loss: 0.12 - ETA: 11s - loss: 0.0997 - rope_loss: 0.12 - ETA: 11s - loss: 0.0997 - rope_loss: 0.12 - ETA: 10s - loss: 0.1000 - rope_loss: 0.12 - ETA: 10s - loss: 0.1000 - rope_loss: 0.12 - ETA: 9s - loss: 0.0999 - rope_loss: 0.1254 - ETA: 9s - loss: 0.0999 - rope_loss: 0.125 - ETA: 8s - loss: 0.1000 - rope_loss: 0.125 - ETA: 7s - loss: 0.1000 - rope_loss: 0.125 - ETA: 7s - loss: 0.1001 - rope_loss: 0.126 - ETA: 6s - loss: 0.0999 - rope_loss: 0.125 - ETA: 6s - loss: 0.1003 - rope_loss: 0.126 - ETA: 5s - loss: 0.1004 - rope_loss: 0.126 - ETA: 5s - loss: 0.1005 - rope_loss: 0.127 - ETA: 4s - loss: 0.1003 - rope_loss: 0.126 - ETA: 3s - loss: 0.1005 - rope_loss: 0.127 - ETA: 3s - loss: 0.1007 - rope_loss: 0.127 - ETA: 2s - loss: 0.1007 - rope_loss: 0.127 - ETA: 2s - loss: 0.1006 - rope_loss: 0.127 - ETA: 1s - loss: 0.1007 - rope_loss: 0.127 - ETA: 1s - loss: 0.1005 - rope_loss: 0.127 - ETA: 0s - loss: 0.1005 - rope_loss: 0.127 - 87s 11ms/sample - loss: 0.1004 - rope_loss: 0.1272 - val_loss: 0.1250 - val_rope_loss: 0.1731\n",
      "Epoch 16/301\n"
     ]
    },
    {
     "name": "stdout",
     "output_type": "stream",
     "text": [
      "7989/7989 [==============================] - ETA: 1:08 - loss: 0.1236 - rope_loss: 0.146 - ETA: 1:09 - loss: 0.1096 - rope_loss: 0.133 - ETA: 1:08 - loss: 0.1021 - rope_loss: 0.125 - ETA: 1:07 - loss: 0.1002 - rope_loss: 0.127 - ETA: 1:07 - loss: 0.1008 - rope_loss: 0.129 - ETA: 1:07 - loss: 0.1009 - rope_loss: 0.130 - ETA: 1:06 - loss: 0.1058 - rope_loss: 0.133 - ETA: 1:05 - loss: 0.1062 - rope_loss: 0.137 - ETA: 1:05 - loss: 0.1066 - rope_loss: 0.139 - ETA: 1:04 - loss: 0.1088 - rope_loss: 0.140 - ETA: 1:04 - loss: 0.1102 - rope_loss: 0.139 - ETA: 1:03 - loss: 0.1087 - rope_loss: 0.138 - ETA: 1:03 - loss: 0.1066 - rope_loss: 0.135 - ETA: 1:03 - loss: 0.1061 - rope_loss: 0.134 - ETA: 1:02 - loss: 0.1042 - rope_loss: 0.131 - ETA: 1:01 - loss: 0.1027 - rope_loss: 0.129 - ETA: 1:01 - loss: 0.1020 - rope_loss: 0.128 - ETA: 1:00 - loss: 0.1015 - rope_loss: 0.128 - ETA: 1:00 - loss: 0.1023 - rope_loss: 0.128 - ETA: 59s - loss: 0.1016 - rope_loss: 0.127 - ETA: 59s - loss: 0.1018 - rope_loss: 0.12 - ETA: 58s - loss: 0.1024 - rope_loss: 0.12 - ETA: 58s - loss: 0.1033 - rope_loss: 0.12 - ETA: 57s - loss: 0.1025 - rope_loss: 0.12 - ETA: 56s - loss: 0.1025 - rope_loss: 0.12 - ETA: 56s - loss: 0.1015 - rope_loss: 0.12 - ETA: 55s - loss: 0.1022 - rope_loss: 0.12 - ETA: 55s - loss: 0.1021 - rope_loss: 0.12 - ETA: 54s - loss: 0.1020 - rope_loss: 0.12 - ETA: 54s - loss: 0.1020 - rope_loss: 0.12 - ETA: 53s - loss: 0.1030 - rope_loss: 0.12 - ETA: 52s - loss: 0.1028 - rope_loss: 0.12 - ETA: 52s - loss: 0.1025 - rope_loss: 0.12 - ETA: 51s - loss: 0.1024 - rope_loss: 0.12 - ETA: 51s - loss: 0.1021 - rope_loss: 0.12 - ETA: 50s - loss: 0.1022 - rope_loss: 0.12 - ETA: 50s - loss: 0.1024 - rope_loss: 0.12 - ETA: 49s - loss: 0.1022 - rope_loss: 0.12 - ETA: 48s - loss: 0.1024 - rope_loss: 0.12 - ETA: 48s - loss: 0.1023 - rope_loss: 0.12 - ETA: 47s - loss: 0.1019 - rope_loss: 0.12 - ETA: 47s - loss: 0.1023 - rope_loss: 0.12 - ETA: 46s - loss: 0.1021 - rope_loss: 0.12 - ETA: 46s - loss: 0.1020 - rope_loss: 0.12 - ETA: 45s - loss: 0.1022 - rope_loss: 0.12 - ETA: 44s - loss: 0.1019 - rope_loss: 0.12 - ETA: 44s - loss: 0.1013 - rope_loss: 0.12 - ETA: 43s - loss: 0.1011 - rope_loss: 0.12 - ETA: 43s - loss: 0.1009 - rope_loss: 0.12 - ETA: 42s - loss: 0.1016 - rope_loss: 0.12 - ETA: 42s - loss: 0.1022 - rope_loss: 0.12 - ETA: 41s - loss: 0.1023 - rope_loss: 0.12 - ETA: 40s - loss: 0.1024 - rope_loss: 0.12 - ETA: 40s - loss: 0.1029 - rope_loss: 0.12 - ETA: 39s - loss: 0.1023 - rope_loss: 0.12 - ETA: 39s - loss: 0.1022 - rope_loss: 0.12 - ETA: 38s - loss: 0.1020 - rope_loss: 0.12 - ETA: 38s - loss: 0.1014 - rope_loss: 0.12 - ETA: 37s - loss: 0.1016 - rope_loss: 0.12 - ETA: 36s - loss: 0.1023 - rope_loss: 0.12 - ETA: 36s - loss: 0.1022 - rope_loss: 0.12 - ETA: 35s - loss: 0.1022 - rope_loss: 0.12 - ETA: 35s - loss: 0.1022 - rope_loss: 0.12 - ETA: 34s - loss: 0.1021 - rope_loss: 0.12 - ETA: 34s - loss: 0.1021 - rope_loss: 0.12 - ETA: 33s - loss: 0.1021 - rope_loss: 0.12 - ETA: 32s - loss: 0.1021 - rope_loss: 0.12 - ETA: 32s - loss: 0.1027 - rope_loss: 0.12 - ETA: 31s - loss: 0.1032 - rope_loss: 0.12 - ETA: 31s - loss: 0.1031 - rope_loss: 0.12 - ETA: 30s - loss: 0.1032 - rope_loss: 0.12 - ETA: 30s - loss: 0.1030 - rope_loss: 0.12 - ETA: 29s - loss: 0.1026 - rope_loss: 0.12 - ETA: 28s - loss: 0.1023 - rope_loss: 0.12 - ETA: 28s - loss: 0.1022 - rope_loss: 0.12 - ETA: 27s - loss: 0.1024 - rope_loss: 0.12 - ETA: 27s - loss: 0.1026 - rope_loss: 0.12 - ETA: 26s - loss: 0.1026 - rope_loss: 0.12 - ETA: 26s - loss: 0.1024 - rope_loss: 0.12 - ETA: 25s - loss: 0.1021 - rope_loss: 0.12 - ETA: 24s - loss: 0.1020 - rope_loss: 0.12 - ETA: 24s - loss: 0.1015 - rope_loss: 0.12 - ETA: 23s - loss: 0.1015 - rope_loss: 0.12 - ETA: 23s - loss: 0.1014 - rope_loss: 0.12 - ETA: 22s - loss: 0.1014 - rope_loss: 0.12 - ETA: 22s - loss: 0.1012 - rope_loss: 0.12 - ETA: 21s - loss: 0.1012 - rope_loss: 0.12 - ETA: 20s - loss: 0.1011 - rope_loss: 0.12 - ETA: 20s - loss: 0.1011 - rope_loss: 0.12 - ETA: 19s - loss: 0.1011 - rope_loss: 0.12 - ETA: 19s - loss: 0.1012 - rope_loss: 0.12 - ETA: 18s - loss: 0.1011 - rope_loss: 0.12 - ETA: 18s - loss: 0.1012 - rope_loss: 0.12 - ETA: 17s - loss: 0.1011 - rope_loss: 0.12 - ETA: 16s - loss: 0.1009 - rope_loss: 0.12 - ETA: 16s - loss: 0.1010 - rope_loss: 0.12 - ETA: 15s - loss: 0.1010 - rope_loss: 0.12 - ETA: 15s - loss: 0.1011 - rope_loss: 0.12 - ETA: 14s - loss: 0.1009 - rope_loss: 0.12 - ETA: 14s - loss: 0.1008 - rope_loss: 0.12 - ETA: 13s - loss: 0.1007 - rope_loss: 0.12 - ETA: 13s - loss: 0.1004 - rope_loss: 0.12 - ETA: 12s - loss: 0.1004 - rope_loss: 0.12 - ETA: 11s - loss: 0.1002 - rope_loss: 0.12 - ETA: 11s - loss: 0.1001 - rope_loss: 0.12 - ETA: 10s - loss: 0.1002 - rope_loss: 0.12 - ETA: 10s - loss: 0.1005 - rope_loss: 0.12 - ETA: 9s - loss: 0.1005 - rope_loss: 0.1260 - ETA: 9s - loss: 0.1003 - rope_loss: 0.125 - ETA: 8s - loss: 0.1002 - rope_loss: 0.125 - ETA: 7s - loss: 0.1000 - rope_loss: 0.125 - ETA: 7s - loss: 0.0999 - rope_loss: 0.125 - ETA: 6s - loss: 0.0998 - rope_loss: 0.124 - ETA: 6s - loss: 0.0997 - rope_loss: 0.124 - ETA: 5s - loss: 0.0996 - rope_loss: 0.124 - ETA: 5s - loss: 0.0995 - rope_loss: 0.124 - ETA: 4s - loss: 0.0994 - rope_loss: 0.124 - ETA: 3s - loss: 0.0994 - rope_loss: 0.124 - ETA: 3s - loss: 0.0992 - rope_loss: 0.123 - ETA: 2s - loss: 0.0990 - rope_loss: 0.123 - ETA: 2s - loss: 0.0990 - rope_loss: 0.123 - ETA: 1s - loss: 0.0990 - rope_loss: 0.123 - ETA: 1s - loss: 0.0991 - rope_loss: 0.123 - ETA: 0s - loss: 0.0991 - rope_loss: 0.123 - 88s 11ms/sample - loss: 0.0990 - rope_loss: 0.1230 - val_loss: 0.1004 - val_rope_loss: 0.1283\n",
      "Epoch 17/301\n"
     ]
    },
    {
     "name": "stdout",
     "output_type": "stream",
     "text": [
      "7989/7989 [==============================] - ETA: 1:09 - loss: 0.0919 - rope_loss: 0.124 - ETA: 1:08 - loss: 0.0881 - rope_loss: 0.099 - ETA: 1:09 - loss: 0.0894 - rope_loss: 0.105 - ETA: 1:08 - loss: 0.0906 - rope_loss: 0.104 - ETA: 1:07 - loss: 0.0942 - rope_loss: 0.114 - ETA: 1:06 - loss: 0.0967 - rope_loss: 0.121 - ETA: 1:06 - loss: 0.0948 - rope_loss: 0.120 - ETA: 1:06 - loss: 0.0923 - rope_loss: 0.116 - ETA: 1:05 - loss: 0.0940 - rope_loss: 0.120 - ETA: 1:05 - loss: 0.0957 - rope_loss: 0.124 - ETA: 1:04 - loss: 0.0941 - rope_loss: 0.121 - ETA: 1:04 - loss: 0.0963 - rope_loss: 0.124 - ETA: 1:03 - loss: 0.0956 - rope_loss: 0.124 - ETA: 1:03 - loss: 0.0951 - rope_loss: 0.123 - ETA: 1:02 - loss: 0.0958 - rope_loss: 0.124 - ETA: 1:01 - loss: 0.0944 - rope_loss: 0.122 - ETA: 1:01 - loss: 0.0940 - rope_loss: 0.121 - ETA: 1:00 - loss: 0.0950 - rope_loss: 0.123 - ETA: 59s - loss: 0.0942 - rope_loss: 0.121 - ETA: 59s - loss: 0.0938 - rope_loss: 0.12 - ETA: 58s - loss: 0.0940 - rope_loss: 0.12 - ETA: 58s - loss: 0.0942 - rope_loss: 0.12 - ETA: 57s - loss: 0.0933 - rope_loss: 0.12 - ETA: 57s - loss: 0.0931 - rope_loss: 0.12 - ETA: 56s - loss: 0.0935 - rope_loss: 0.12 - ETA: 55s - loss: 0.0938 - rope_loss: 0.12 - ETA: 55s - loss: 0.0953 - rope_loss: 0.12 - ETA: 54s - loss: 0.0956 - rope_loss: 0.12 - ETA: 54s - loss: 0.0964 - rope_loss: 0.12 - ETA: 53s - loss: 0.0962 - rope_loss: 0.12 - ETA: 53s - loss: 0.0960 - rope_loss: 0.12 - ETA: 52s - loss: 0.0961 - rope_loss: 0.12 - ETA: 52s - loss: 0.0960 - rope_loss: 0.12 - ETA: 51s - loss: 0.0959 - rope_loss: 0.12 - ETA: 51s - loss: 0.0957 - rope_loss: 0.12 - ETA: 50s - loss: 0.0954 - rope_loss: 0.12 - ETA: 49s - loss: 0.0948 - rope_loss: 0.12 - ETA: 49s - loss: 0.0943 - rope_loss: 0.11 - ETA: 48s - loss: 0.0951 - rope_loss: 0.11 - ETA: 48s - loss: 0.0951 - rope_loss: 0.11 - ETA: 47s - loss: 0.0958 - rope_loss: 0.12 - ETA: 47s - loss: 0.0958 - rope_loss: 0.11 - ETA: 46s - loss: 0.0955 - rope_loss: 0.11 - ETA: 45s - loss: 0.0954 - rope_loss: 0.11 - ETA: 45s - loss: 0.0960 - rope_loss: 0.11 - ETA: 44s - loss: 0.0962 - rope_loss: 0.12 - ETA: 44s - loss: 0.0962 - rope_loss: 0.12 - ETA: 43s - loss: 0.0960 - rope_loss: 0.12 - ETA: 43s - loss: 0.0959 - rope_loss: 0.12 - ETA: 42s - loss: 0.0957 - rope_loss: 0.11 - ETA: 42s - loss: 0.0952 - rope_loss: 0.11 - ETA: 41s - loss: 0.0957 - rope_loss: 0.12 - ETA: 40s - loss: 0.0958 - rope_loss: 0.11 - ETA: 40s - loss: 0.0957 - rope_loss: 0.11 - ETA: 39s - loss: 0.0956 - rope_loss: 0.11 - ETA: 39s - loss: 0.0957 - rope_loss: 0.11 - ETA: 38s - loss: 0.0956 - rope_loss: 0.11 - ETA: 38s - loss: 0.0953 - rope_loss: 0.11 - ETA: 37s - loss: 0.0952 - rope_loss: 0.11 - ETA: 36s - loss: 0.0952 - rope_loss: 0.11 - ETA: 36s - loss: 0.0954 - rope_loss: 0.11 - ETA: 35s - loss: 0.0957 - rope_loss: 0.11 - ETA: 35s - loss: 0.0956 - rope_loss: 0.11 - ETA: 34s - loss: 0.0959 - rope_loss: 0.11 - ETA: 34s - loss: 0.0958 - rope_loss: 0.11 - ETA: 33s - loss: 0.0956 - rope_loss: 0.11 - ETA: 32s - loss: 0.0955 - rope_loss: 0.11 - ETA: 32s - loss: 0.0954 - rope_loss: 0.11 - ETA: 31s - loss: 0.0951 - rope_loss: 0.11 - ETA: 31s - loss: 0.0949 - rope_loss: 0.11 - ETA: 30s - loss: 0.0946 - rope_loss: 0.11 - ETA: 30s - loss: 0.0949 - rope_loss: 0.11 - ETA: 29s - loss: 0.0953 - rope_loss: 0.11 - ETA: 28s - loss: 0.0954 - rope_loss: 0.11 - ETA: 28s - loss: 0.0953 - rope_loss: 0.11 - ETA: 27s - loss: 0.0954 - rope_loss: 0.11 - ETA: 27s - loss: 0.0955 - rope_loss: 0.11 - ETA: 26s - loss: 0.0956 - rope_loss: 0.11 - ETA: 26s - loss: 0.0955 - rope_loss: 0.11 - ETA: 25s - loss: 0.0954 - rope_loss: 0.11 - ETA: 25s - loss: 0.0951 - rope_loss: 0.11 - ETA: 24s - loss: 0.0948 - rope_loss: 0.11 - ETA: 23s - loss: 0.0949 - rope_loss: 0.11 - ETA: 23s - loss: 0.0949 - rope_loss: 0.11 - ETA: 22s - loss: 0.0948 - rope_loss: 0.11 - ETA: 22s - loss: 0.0948 - rope_loss: 0.11 - ETA: 21s - loss: 0.0947 - rope_loss: 0.11 - ETA: 21s - loss: 0.0947 - rope_loss: 0.11 - ETA: 20s - loss: 0.0944 - rope_loss: 0.11 - ETA: 19s - loss: 0.0946 - rope_loss: 0.11 - ETA: 19s - loss: 0.0947 - rope_loss: 0.11 - ETA: 18s - loss: 0.0947 - rope_loss: 0.11 - ETA: 18s - loss: 0.0950 - rope_loss: 0.11 - ETA: 17s - loss: 0.0948 - rope_loss: 0.11 - ETA: 17s - loss: 0.0949 - rope_loss: 0.11 - ETA: 16s - loss: 0.0950 - rope_loss: 0.11 - ETA: 15s - loss: 0.0949 - rope_loss: 0.11 - ETA: 15s - loss: 0.0950 - rope_loss: 0.11 - ETA: 14s - loss: 0.0949 - rope_loss: 0.11 - ETA: 14s - loss: 0.0950 - rope_loss: 0.11 - ETA: 13s - loss: 0.0949 - rope_loss: 0.11 - ETA: 13s - loss: 0.0950 - rope_loss: 0.11 - ETA: 12s - loss: 0.0949 - rope_loss: 0.11 - ETA: 11s - loss: 0.0949 - rope_loss: 0.11 - ETA: 11s - loss: 0.0949 - rope_loss: 0.11 - ETA: 10s - loss: 0.0953 - rope_loss: 0.11 - ETA: 10s - loss: 0.0952 - rope_loss: 0.11 - ETA: 9s - loss: 0.0953 - rope_loss: 0.1186 - ETA: 9s - loss: 0.0955 - rope_loss: 0.119 - ETA: 8s - loss: 0.0955 - rope_loss: 0.119 - ETA: 7s - loss: 0.0953 - rope_loss: 0.118 - ETA: 7s - loss: 0.0955 - rope_loss: 0.118 - ETA: 6s - loss: 0.0958 - rope_loss: 0.118 - ETA: 6s - loss: 0.0957 - rope_loss: 0.118 - ETA: 5s - loss: 0.0956 - rope_loss: 0.118 - ETA: 5s - loss: 0.0957 - rope_loss: 0.119 - ETA: 4s - loss: 0.0957 - rope_loss: 0.119 - ETA: 3s - loss: 0.0957 - rope_loss: 0.119 - ETA: 3s - loss: 0.0957 - rope_loss: 0.119 - ETA: 2s - loss: 0.0957 - rope_loss: 0.119 - ETA: 2s - loss: 0.0955 - rope_loss: 0.118 - ETA: 1s - loss: 0.0953 - rope_loss: 0.118 - ETA: 1s - loss: 0.0954 - rope_loss: 0.118 - ETA: 0s - loss: 0.0956 - rope_loss: 0.119 - 88s 11ms/sample - loss: 0.0957 - rope_loss: 0.1190 - val_loss: 0.1069 - val_rope_loss: 0.1433\n",
      "Epoch 18/301\n"
     ]
    },
    {
     "name": "stdout",
     "output_type": "stream",
     "text": [
      "7989/7989 [==============================] - ETA: 1:11 - loss: 0.0847 - rope_loss: 0.106 - ETA: 1:10 - loss: 0.0791 - rope_loss: 0.093 - ETA: 1:08 - loss: 0.0780 - rope_loss: 0.093 - ETA: 1:08 - loss: 0.0756 - rope_loss: 0.087 - ETA: 1:07 - loss: 0.0811 - rope_loss: 0.098 - ETA: 1:07 - loss: 0.0804 - rope_loss: 0.097 - ETA: 1:06 - loss: 0.0822 - rope_loss: 0.099 - ETA: 1:06 - loss: 0.0842 - rope_loss: 0.105 - ETA: 1:05 - loss: 0.0841 - rope_loss: 0.105 - ETA: 1:04 - loss: 0.0846 - rope_loss: 0.105 - ETA: 1:04 - loss: 0.0869 - rope_loss: 0.108 - ETA: 1:03 - loss: 0.0866 - rope_loss: 0.108 - ETA: 1:03 - loss: 0.0861 - rope_loss: 0.106 - ETA: 1:02 - loss: 0.0860 - rope_loss: 0.106 - ETA: 1:01 - loss: 0.0862 - rope_loss: 0.106 - ETA: 1:01 - loss: 0.0873 - rope_loss: 0.107 - ETA: 1:00 - loss: 0.0902 - rope_loss: 0.114 - ETA: 1:00 - loss: 0.0908 - rope_loss: 0.114 - ETA: 59s - loss: 0.0905 - rope_loss: 0.113 - ETA: 59s - loss: 0.0917 - rope_loss: 0.11 - ETA: 58s - loss: 0.0911 - rope_loss: 0.11 - ETA: 57s - loss: 0.0918 - rope_loss: 0.11 - ETA: 57s - loss: 0.0925 - rope_loss: 0.11 - ETA: 56s - loss: 0.0933 - rope_loss: 0.11 - ETA: 56s - loss: 0.0934 - rope_loss: 0.11 - ETA: 55s - loss: 0.0935 - rope_loss: 0.11 - ETA: 55s - loss: 0.0927 - rope_loss: 0.11 - ETA: 54s - loss: 0.0925 - rope_loss: 0.11 - ETA: 53s - loss: 0.0921 - rope_loss: 0.11 - ETA: 53s - loss: 0.0916 - rope_loss: 0.11 - ETA: 52s - loss: 0.0910 - rope_loss: 0.11 - ETA: 52s - loss: 0.0906 - rope_loss: 0.11 - ETA: 51s - loss: 0.0902 - rope_loss: 0.11 - ETA: 51s - loss: 0.0913 - rope_loss: 0.11 - ETA: 50s - loss: 0.0922 - rope_loss: 0.11 - ETA: 50s - loss: 0.0921 - rope_loss: 0.11 - ETA: 49s - loss: 0.0920 - rope_loss: 0.11 - ETA: 48s - loss: 0.0921 - rope_loss: 0.11 - ETA: 48s - loss: 0.0916 - rope_loss: 0.11 - ETA: 47s - loss: 0.0914 - rope_loss: 0.11 - ETA: 47s - loss: 0.0916 - rope_loss: 0.11 - ETA: 46s - loss: 0.0921 - rope_loss: 0.11 - ETA: 46s - loss: 0.0929 - rope_loss: 0.11 - ETA: 45s - loss: 0.0931 - rope_loss: 0.11 - ETA: 45s - loss: 0.0937 - rope_loss: 0.11 - ETA: 44s - loss: 0.0935 - rope_loss: 0.11 - ETA: 43s - loss: 0.0933 - rope_loss: 0.11 - ETA: 43s - loss: 0.0937 - rope_loss: 0.12 - ETA: 42s - loss: 0.0934 - rope_loss: 0.11 - ETA: 42s - loss: 0.0937 - rope_loss: 0.11 - ETA: 41s - loss: 0.0935 - rope_loss: 0.11 - ETA: 41s - loss: 0.0930 - rope_loss: 0.11 - ETA: 40s - loss: 0.0929 - rope_loss: 0.11 - ETA: 40s - loss: 0.0928 - rope_loss: 0.11 - ETA: 39s - loss: 0.0930 - rope_loss: 0.11 - ETA: 38s - loss: 0.0930 - rope_loss: 0.11 - ETA: 38s - loss: 0.0935 - rope_loss: 0.11 - ETA: 37s - loss: 0.0934 - rope_loss: 0.11 - ETA: 37s - loss: 0.0938 - rope_loss: 0.11 - ETA: 36s - loss: 0.0938 - rope_loss: 0.11 - ETA: 36s - loss: 0.0934 - rope_loss: 0.11 - ETA: 35s - loss: 0.0935 - rope_loss: 0.11 - ETA: 35s - loss: 0.0933 - rope_loss: 0.11 - ETA: 34s - loss: 0.0932 - rope_loss: 0.11 - ETA: 33s - loss: 0.0933 - rope_loss: 0.11 - ETA: 33s - loss: 0.0932 - rope_loss: 0.11 - ETA: 32s - loss: 0.0932 - rope_loss: 0.11 - ETA: 32s - loss: 0.0935 - rope_loss: 0.11 - ETA: 31s - loss: 0.0936 - rope_loss: 0.11 - ETA: 31s - loss: 0.0940 - rope_loss: 0.11 - ETA: 30s - loss: 0.0945 - rope_loss: 0.11 - ETA: 29s - loss: 0.0944 - rope_loss: 0.11 - ETA: 29s - loss: 0.0948 - rope_loss: 0.11 - ETA: 28s - loss: 0.0947 - rope_loss: 0.11 - ETA: 28s - loss: 0.0950 - rope_loss: 0.11 - ETA: 27s - loss: 0.0949 - rope_loss: 0.11 - ETA: 27s - loss: 0.0950 - rope_loss: 0.11 - ETA: 26s - loss: 0.0949 - rope_loss: 0.11 - ETA: 25s - loss: 0.0948 - rope_loss: 0.11 - ETA: 25s - loss: 0.0948 - rope_loss: 0.11 - ETA: 24s - loss: 0.0947 - rope_loss: 0.11 - ETA: 24s - loss: 0.0947 - rope_loss: 0.11 - ETA: 23s - loss: 0.0948 - rope_loss: 0.11 - ETA: 23s - loss: 0.0945 - rope_loss: 0.11 - ETA: 22s - loss: 0.0943 - rope_loss: 0.11 - ETA: 22s - loss: 0.0943 - rope_loss: 0.11 - ETA: 21s - loss: 0.0942 - rope_loss: 0.11 - ETA: 20s - loss: 0.0942 - rope_loss: 0.11 - ETA: 20s - loss: 0.0941 - rope_loss: 0.11 - ETA: 19s - loss: 0.0942 - rope_loss: 0.11 - ETA: 19s - loss: 0.0944 - rope_loss: 0.11 - ETA: 18s - loss: 0.0945 - rope_loss: 0.11 - ETA: 18s - loss: 0.0945 - rope_loss: 0.11 - ETA: 17s - loss: 0.0946 - rope_loss: 0.11 - ETA: 17s - loss: 0.0945 - rope_loss: 0.11 - ETA: 16s - loss: 0.0948 - rope_loss: 0.11 - ETA: 15s - loss: 0.0949 - rope_loss: 0.11 - ETA: 15s - loss: 0.0950 - rope_loss: 0.11 - ETA: 14s - loss: 0.0949 - rope_loss: 0.11 - ETA: 14s - loss: 0.0950 - rope_loss: 0.11 - ETA: 13s - loss: 0.0949 - rope_loss: 0.11 - ETA: 13s - loss: 0.0949 - rope_loss: 0.11 - ETA: 12s - loss: 0.0948 - rope_loss: 0.11 - ETA: 11s - loss: 0.0946 - rope_loss: 0.11 - ETA: 11s - loss: 0.0948 - rope_loss: 0.11 - ETA: 10s - loss: 0.0947 - rope_loss: 0.11 - ETA: 10s - loss: 0.0945 - rope_loss: 0.11 - ETA: 9s - loss: 0.0944 - rope_loss: 0.1171 - ETA: 9s - loss: 0.0944 - rope_loss: 0.117 - ETA: 8s - loss: 0.0945 - rope_loss: 0.117 - ETA: 7s - loss: 0.0944 - rope_loss: 0.117 - ETA: 7s - loss: 0.0949 - rope_loss: 0.118 - ETA: 6s - loss: 0.0948 - rope_loss: 0.118 - ETA: 6s - loss: 0.0949 - rope_loss: 0.118 - ETA: 5s - loss: 0.0950 - rope_loss: 0.118 - ETA: 5s - loss: 0.0949 - rope_loss: 0.118 - ETA: 4s - loss: 0.0948 - rope_loss: 0.118 - ETA: 3s - loss: 0.0947 - rope_loss: 0.118 - ETA: 3s - loss: 0.0945 - rope_loss: 0.117 - ETA: 2s - loss: 0.0945 - rope_loss: 0.117 - ETA: 2s - loss: 0.0945 - rope_loss: 0.117 - ETA: 1s - loss: 0.0945 - rope_loss: 0.117 - ETA: 1s - loss: 0.0945 - rope_loss: 0.117 - ETA: 0s - loss: 0.0947 - rope_loss: 0.117 - 87s 11ms/sample - loss: 0.0948 - rope_loss: 0.1177 - val_loss: 0.1116 - val_rope_loss: 0.1471\n",
      "Epoch 19/301\n"
     ]
    },
    {
     "name": "stdout",
     "output_type": "stream",
     "text": [
      "7989/7989 [==============================] - ETA: 1:12 - loss: 0.1145 - rope_loss: 0.123 - ETA: 1:10 - loss: 0.0999 - rope_loss: 0.107 - ETA: 1:09 - loss: 0.0911 - rope_loss: 0.101 - ETA: 1:08 - loss: 0.0871 - rope_loss: 0.099 - ETA: 1:07 - loss: 0.0851 - rope_loss: 0.097 - ETA: 1:06 - loss: 0.0911 - rope_loss: 0.107 - ETA: 1:06 - loss: 0.0906 - rope_loss: 0.103 - ETA: 1:05 - loss: 0.0900 - rope_loss: 0.104 - ETA: 1:04 - loss: 0.0888 - rope_loss: 0.103 - ETA: 1:04 - loss: 0.0886 - rope_loss: 0.104 - ETA: 1:03 - loss: 0.0883 - rope_loss: 0.101 - ETA: 1:03 - loss: 0.0879 - rope_loss: 0.102 - ETA: 1:02 - loss: 0.0866 - rope_loss: 0.100 - ETA: 1:02 - loss: 0.0866 - rope_loss: 0.099 - ETA: 1:01 - loss: 0.0868 - rope_loss: 0.098 - ETA: 1:01 - loss: 0.0862 - rope_loss: 0.098 - ETA: 1:00 - loss: 0.0880 - rope_loss: 0.101 - ETA: 59s - loss: 0.0885 - rope_loss: 0.103 - ETA: 59s - loss: 0.0908 - rope_loss: 0.10 - ETA: 58s - loss: 0.0893 - rope_loss: 0.10 - ETA: 58s - loss: 0.0896 - rope_loss: 0.10 - ETA: 57s - loss: 0.0898 - rope_loss: 0.10 - ETA: 57s - loss: 0.0902 - rope_loss: 0.10 - ETA: 56s - loss: 0.0908 - rope_loss: 0.10 - ETA: 55s - loss: 0.0906 - rope_loss: 0.10 - ETA: 55s - loss: 0.0898 - rope_loss: 0.10 - ETA: 54s - loss: 0.0914 - rope_loss: 0.10 - ETA: 54s - loss: 0.0915 - rope_loss: 0.10 - ETA: 53s - loss: 0.0910 - rope_loss: 0.10 - ETA: 53s - loss: 0.0914 - rope_loss: 0.10 - ETA: 52s - loss: 0.0924 - rope_loss: 0.10 - ETA: 52s - loss: 0.0917 - rope_loss: 0.10 - ETA: 51s - loss: 0.0914 - rope_loss: 0.10 - ETA: 51s - loss: 0.0915 - rope_loss: 0.10 - ETA: 50s - loss: 0.0913 - rope_loss: 0.10 - ETA: 49s - loss: 0.0912 - rope_loss: 0.10 - ETA: 49s - loss: 0.0913 - rope_loss: 0.10 - ETA: 48s - loss: 0.0914 - rope_loss: 0.10 - ETA: 48s - loss: 0.0923 - rope_loss: 0.10 - ETA: 47s - loss: 0.0924 - rope_loss: 0.10 - ETA: 47s - loss: 0.0926 - rope_loss: 0.10 - ETA: 46s - loss: 0.0924 - rope_loss: 0.10 - ETA: 46s - loss: 0.0920 - rope_loss: 0.10 - ETA: 45s - loss: 0.0915 - rope_loss: 0.10 - ETA: 45s - loss: 0.0920 - rope_loss: 0.10 - ETA: 44s - loss: 0.0924 - rope_loss: 0.11 - ETA: 43s - loss: 0.0926 - rope_loss: 0.11 - ETA: 43s - loss: 0.0927 - rope_loss: 0.11 - ETA: 42s - loss: 0.0925 - rope_loss: 0.11 - ETA: 42s - loss: 0.0924 - rope_loss: 0.11 - ETA: 41s - loss: 0.0921 - rope_loss: 0.10 - ETA: 41s - loss: 0.0919 - rope_loss: 0.10 - ETA: 40s - loss: 0.0919 - rope_loss: 0.10 - ETA: 40s - loss: 0.0920 - rope_loss: 0.10 - ETA: 39s - loss: 0.0921 - rope_loss: 0.10 - ETA: 38s - loss: 0.0923 - rope_loss: 0.10 - ETA: 38s - loss: 0.0923 - rope_loss: 0.10 - ETA: 37s - loss: 0.0926 - rope_loss: 0.10 - ETA: 37s - loss: 0.0924 - rope_loss: 0.10 - ETA: 36s - loss: 0.0923 - rope_loss: 0.10 - ETA: 36s - loss: 0.0922 - rope_loss: 0.10 - ETA: 35s - loss: 0.0919 - rope_loss: 0.10 - ETA: 34s - loss: 0.0915 - rope_loss: 0.10 - ETA: 34s - loss: 0.0914 - rope_loss: 0.10 - ETA: 33s - loss: 0.0913 - rope_loss: 0.10 - ETA: 33s - loss: 0.0913 - rope_loss: 0.10 - ETA: 32s - loss: 0.0912 - rope_loss: 0.10 - ETA: 32s - loss: 0.0917 - rope_loss: 0.10 - ETA: 31s - loss: 0.0915 - rope_loss: 0.10 - ETA: 31s - loss: 0.0914 - rope_loss: 0.10 - ETA: 30s - loss: 0.0914 - rope_loss: 0.10 - ETA: 29s - loss: 0.0911 - rope_loss: 0.10 - ETA: 29s - loss: 0.0910 - rope_loss: 0.10 - ETA: 28s - loss: 0.0913 - rope_loss: 0.10 - ETA: 28s - loss: 0.0914 - rope_loss: 0.10 - ETA: 27s - loss: 0.0916 - rope_loss: 0.10 - ETA: 27s - loss: 0.0918 - rope_loss: 0.10 - ETA: 26s - loss: 0.0919 - rope_loss: 0.11 - ETA: 25s - loss: 0.0918 - rope_loss: 0.10 - ETA: 25s - loss: 0.0917 - rope_loss: 0.10 - ETA: 24s - loss: 0.0915 - rope_loss: 0.10 - ETA: 24s - loss: 0.0917 - rope_loss: 0.10 - ETA: 23s - loss: 0.0916 - rope_loss: 0.10 - ETA: 23s - loss: 0.0916 - rope_loss: 0.10 - ETA: 22s - loss: 0.0918 - rope_loss: 0.10 - ETA: 22s - loss: 0.0920 - rope_loss: 0.11 - ETA: 21s - loss: 0.0920 - rope_loss: 0.11 - ETA: 20s - loss: 0.0921 - rope_loss: 0.11 - ETA: 20s - loss: 0.0921 - rope_loss: 0.11 - ETA: 19s - loss: 0.0920 - rope_loss: 0.11 - ETA: 19s - loss: 0.0920 - rope_loss: 0.11 - ETA: 18s - loss: 0.0922 - rope_loss: 0.11 - ETA: 18s - loss: 0.0921 - rope_loss: 0.11 - ETA: 17s - loss: 0.0920 - rope_loss: 0.11 - ETA: 16s - loss: 0.0921 - rope_loss: 0.11 - ETA: 16s - loss: 0.0920 - rope_loss: 0.11 - ETA: 15s - loss: 0.0922 - rope_loss: 0.11 - ETA: 15s - loss: 0.0919 - rope_loss: 0.11 - ETA: 14s - loss: 0.0918 - rope_loss: 0.11 - ETA: 14s - loss: 0.0916 - rope_loss: 0.11 - ETA: 13s - loss: 0.0917 - rope_loss: 0.11 - ETA: 12s - loss: 0.0919 - rope_loss: 0.11 - ETA: 12s - loss: 0.0919 - rope_loss: 0.11 - ETA: 11s - loss: 0.0918 - rope_loss: 0.11 - ETA: 11s - loss: 0.0918 - rope_loss: 0.11 - ETA: 10s - loss: 0.0920 - rope_loss: 0.11 - ETA: 10s - loss: 0.0921 - rope_loss: 0.11 - ETA: 9s - loss: 0.0920 - rope_loss: 0.1116 - ETA: 8s - loss: 0.0919 - rope_loss: 0.111 - ETA: 8s - loss: 0.0917 - rope_loss: 0.111 - ETA: 7s - loss: 0.0917 - rope_loss: 0.111 - ETA: 7s - loss: 0.0916 - rope_loss: 0.110 - ETA: 6s - loss: 0.0916 - rope_loss: 0.111 - ETA: 6s - loss: 0.0918 - rope_loss: 0.111 - ETA: 5s - loss: 0.0917 - rope_loss: 0.111 - ETA: 5s - loss: 0.0915 - rope_loss: 0.110 - ETA: 4s - loss: 0.0917 - rope_loss: 0.111 - ETA: 3s - loss: 0.0916 - rope_loss: 0.111 - ETA: 3s - loss: 0.0916 - rope_loss: 0.111 - ETA: 2s - loss: 0.0916 - rope_loss: 0.111 - ETA: 2s - loss: 0.0915 - rope_loss: 0.110 - ETA: 1s - loss: 0.0914 - rope_loss: 0.110 - ETA: 1s - loss: 0.0914 - rope_loss: 0.110 - ETA: 0s - loss: 0.0915 - rope_loss: 0.110 - 87s 11ms/sample - loss: 0.0914 - rope_loss: 0.1108 - val_loss: 0.1226 - val_rope_loss: 0.1587\n",
      "Epoch 20/301\n"
     ]
    },
    {
     "name": "stdout",
     "output_type": "stream",
     "text": [
      "7989/7989 [==============================] - ETA: 1:12 - loss: 0.0922 - rope_loss: 0.119 - ETA: 1:09 - loss: 0.0923 - rope_loss: 0.113 - ETA: 1:09 - loss: 0.0925 - rope_loss: 0.111 - ETA: 1:08 - loss: 0.0969 - rope_loss: 0.123 - ETA: 1:08 - loss: 0.0956 - rope_loss: 0.118 - ETA: 1:07 - loss: 0.0955 - rope_loss: 0.116 - ETA: 1:06 - loss: 0.0924 - rope_loss: 0.112 - ETA: 1:06 - loss: 0.0944 - rope_loss: 0.117 - ETA: 1:05 - loss: 0.0948 - rope_loss: 0.118 - ETA: 1:05 - loss: 0.0951 - rope_loss: 0.119 - ETA: 1:04 - loss: 0.0933 - rope_loss: 0.116 - ETA: 1:03 - loss: 0.0920 - rope_loss: 0.114 - ETA: 1:03 - loss: 0.0908 - rope_loss: 0.111 - ETA: 1:02 - loss: 0.0903 - rope_loss: 0.111 - ETA: 1:02 - loss: 0.0907 - rope_loss: 0.113 - ETA: 1:01 - loss: 0.0893 - rope_loss: 0.110 - ETA: 1:01 - loss: 0.0908 - rope_loss: 0.111 - ETA: 1:00 - loss: 0.0911 - rope_loss: 0.113 - ETA: 1:00 - loss: 0.0908 - rope_loss: 0.111 - ETA: 59s - loss: 0.0909 - rope_loss: 0.111 - ETA: 58s - loss: 0.0906 - rope_loss: 0.11 - ETA: 58s - loss: 0.0910 - rope_loss: 0.11 - ETA: 57s - loss: 0.0905 - rope_loss: 0.10 - ETA: 57s - loss: 0.0906 - rope_loss: 0.11 - ETA: 56s - loss: 0.0901 - rope_loss: 0.10 - ETA: 56s - loss: 0.0890 - rope_loss: 0.10 - ETA: 55s - loss: 0.0891 - rope_loss: 0.10 - ETA: 54s - loss: 0.0890 - rope_loss: 0.10 - ETA: 54s - loss: 0.0893 - rope_loss: 0.10 - ETA: 53s - loss: 0.0885 - rope_loss: 0.10 - ETA: 53s - loss: 0.0882 - rope_loss: 0.10 - ETA: 52s - loss: 0.0891 - rope_loss: 0.10 - ETA: 51s - loss: 0.0884 - rope_loss: 0.10 - ETA: 51s - loss: 0.0881 - rope_loss: 0.10 - ETA: 50s - loss: 0.0882 - rope_loss: 0.10 - ETA: 50s - loss: 0.0881 - rope_loss: 0.10 - ETA: 49s - loss: 0.0881 - rope_loss: 0.10 - ETA: 49s - loss: 0.0878 - rope_loss: 0.10 - ETA: 48s - loss: 0.0882 - rope_loss: 0.10 - ETA: 48s - loss: 0.0880 - rope_loss: 0.10 - ETA: 47s - loss: 0.0889 - rope_loss: 0.10 - ETA: 46s - loss: 0.0883 - rope_loss: 0.10 - ETA: 46s - loss: 0.0886 - rope_loss: 0.10 - ETA: 45s - loss: 0.0885 - rope_loss: 0.10 - ETA: 45s - loss: 0.0885 - rope_loss: 0.10 - ETA: 44s - loss: 0.0890 - rope_loss: 0.10 - ETA: 44s - loss: 0.0894 - rope_loss: 0.10 - ETA: 43s - loss: 0.0895 - rope_loss: 0.10 - ETA: 42s - loss: 0.0894 - rope_loss: 0.10 - ETA: 42s - loss: 0.0890 - rope_loss: 0.10 - ETA: 41s - loss: 0.0893 - rope_loss: 0.10 - ETA: 41s - loss: 0.0894 - rope_loss: 0.10 - ETA: 40s - loss: 0.0889 - rope_loss: 0.10 - ETA: 40s - loss: 0.0889 - rope_loss: 0.10 - ETA: 39s - loss: 0.0883 - rope_loss: 0.10 - ETA: 39s - loss: 0.0885 - rope_loss: 0.10 - ETA: 38s - loss: 0.0884 - rope_loss: 0.10 - ETA: 37s - loss: 0.0879 - rope_loss: 0.10 - ETA: 37s - loss: 0.0880 - rope_loss: 0.10 - ETA: 36s - loss: 0.0880 - rope_loss: 0.10 - ETA: 36s - loss: 0.0882 - rope_loss: 0.10 - ETA: 35s - loss: 0.0882 - rope_loss: 0.10 - ETA: 35s - loss: 0.0885 - rope_loss: 0.10 - ETA: 34s - loss: 0.0889 - rope_loss: 0.10 - ETA: 33s - loss: 0.0885 - rope_loss: 0.10 - ETA: 33s - loss: 0.0887 - rope_loss: 0.10 - ETA: 32s - loss: 0.0887 - rope_loss: 0.10 - ETA: 32s - loss: 0.0886 - rope_loss: 0.10 - ETA: 31s - loss: 0.0885 - rope_loss: 0.10 - ETA: 31s - loss: 0.0883 - rope_loss: 0.10 - ETA: 30s - loss: 0.0880 - rope_loss: 0.10 - ETA: 29s - loss: 0.0883 - rope_loss: 0.10 - ETA: 29s - loss: 0.0885 - rope_loss: 0.10 - ETA: 28s - loss: 0.0884 - rope_loss: 0.10 - ETA: 28s - loss: 0.0882 - rope_loss: 0.10 - ETA: 27s - loss: 0.0883 - rope_loss: 0.10 - ETA: 27s - loss: 0.0887 - rope_loss: 0.10 - ETA: 26s - loss: 0.0889 - rope_loss: 0.10 - ETA: 25s - loss: 0.0890 - rope_loss: 0.10 - ETA: 25s - loss: 0.0891 - rope_loss: 0.10 - ETA: 24s - loss: 0.0895 - rope_loss: 0.10 - ETA: 24s - loss: 0.0894 - rope_loss: 0.10 - ETA: 23s - loss: 0.0894 - rope_loss: 0.10 - ETA: 23s - loss: 0.0893 - rope_loss: 0.10 - ETA: 22s - loss: 0.0892 - rope_loss: 0.10 - ETA: 22s - loss: 0.0892 - rope_loss: 0.10 - ETA: 21s - loss: 0.0892 - rope_loss: 0.10 - ETA: 20s - loss: 0.0892 - rope_loss: 0.10 - ETA: 20s - loss: 0.0890 - rope_loss: 0.10 - ETA: 19s - loss: 0.0892 - rope_loss: 0.10 - ETA: 19s - loss: 0.0894 - rope_loss: 0.10 - ETA: 18s - loss: 0.0893 - rope_loss: 0.10 - ETA: 18s - loss: 0.0895 - rope_loss: 0.10 - ETA: 17s - loss: 0.0892 - rope_loss: 0.10 - ETA: 16s - loss: 0.0895 - rope_loss: 0.10 - ETA: 16s - loss: 0.0894 - rope_loss: 0.10 - ETA: 15s - loss: 0.0896 - rope_loss: 0.10 - ETA: 15s - loss: 0.0897 - rope_loss: 0.10 - ETA: 14s - loss: 0.0900 - rope_loss: 0.10 - ETA: 14s - loss: 0.0900 - rope_loss: 0.10 - ETA: 13s - loss: 0.0901 - rope_loss: 0.10 - ETA: 12s - loss: 0.0899 - rope_loss: 0.10 - ETA: 12s - loss: 0.0900 - rope_loss: 0.10 - ETA: 11s - loss: 0.0899 - rope_loss: 0.10 - ETA: 11s - loss: 0.0900 - rope_loss: 0.10 - ETA: 10s - loss: 0.0902 - rope_loss: 0.11 - ETA: 10s - loss: 0.0902 - rope_loss: 0.11 - ETA: 9s - loss: 0.0905 - rope_loss: 0.1106 - ETA: 8s - loss: 0.0906 - rope_loss: 0.110 - ETA: 8s - loss: 0.0908 - rope_loss: 0.110 - ETA: 7s - loss: 0.0908 - rope_loss: 0.111 - ETA: 7s - loss: 0.0908 - rope_loss: 0.111 - ETA: 6s - loss: 0.0908 - rope_loss: 0.110 - ETA: 6s - loss: 0.0909 - rope_loss: 0.110 - ETA: 5s - loss: 0.0910 - rope_loss: 0.110 - ETA: 5s - loss: 0.0912 - rope_loss: 0.110 - ETA: 4s - loss: 0.0914 - rope_loss: 0.111 - ETA: 3s - loss: 0.0919 - rope_loss: 0.111 - ETA: 3s - loss: 0.0918 - rope_loss: 0.111 - ETA: 2s - loss: 0.0916 - rope_loss: 0.111 - ETA: 2s - loss: 0.0915 - rope_loss: 0.111 - ETA: 1s - loss: 0.0914 - rope_loss: 0.111 - ETA: 1s - loss: 0.0916 - rope_loss: 0.111 - ETA: 0s - loss: 0.0917 - rope_loss: 0.111 - 86s 11ms/sample - loss: 0.0917 - rope_loss: 0.1116 - val_loss: 0.1074 - val_rope_loss: 0.1495\n",
      "Epoch 21/301\n"
     ]
    },
    {
     "name": "stdout",
     "output_type": "stream",
     "text": [
      "7989/7989 [==============================] - ETA: 1:13 - loss: 0.0899 - rope_loss: 0.116 - ETA: 1:11 - loss: 0.0974 - rope_loss: 0.107 - ETA: 1:10 - loss: 0.0854 - rope_loss: 0.092 - ETA: 1:09 - loss: 0.0938 - rope_loss: 0.105 - ETA: 1:08 - loss: 0.0949 - rope_loss: 0.109 - ETA: 1:08 - loss: 0.0907 - rope_loss: 0.104 - ETA: 1:07 - loss: 0.0909 - rope_loss: 0.105 - ETA: 1:06 - loss: 0.0924 - rope_loss: 0.112 - ETA: 1:05 - loss: 0.0926 - rope_loss: 0.112 - ETA: 1:05 - loss: 0.0928 - rope_loss: 0.113 - ETA: 1:04 - loss: 0.0931 - rope_loss: 0.111 - ETA: 1:04 - loss: 0.0912 - rope_loss: 0.109 - ETA: 1:03 - loss: 0.0903 - rope_loss: 0.108 - ETA: 1:03 - loss: 0.0889 - rope_loss: 0.105 - ETA: 1:02 - loss: 0.0898 - rope_loss: 0.105 - ETA: 1:01 - loss: 0.0908 - rope_loss: 0.107 - ETA: 1:01 - loss: 0.0907 - rope_loss: 0.106 - ETA: 1:00 - loss: 0.0906 - rope_loss: 0.106 - ETA: 1:00 - loss: 0.0913 - rope_loss: 0.109 - ETA: 59s - loss: 0.0908 - rope_loss: 0.108 - ETA: 59s - loss: 0.0902 - rope_loss: 0.10 - ETA: 58s - loss: 0.0891 - rope_loss: 0.10 - ETA: 57s - loss: 0.0888 - rope_loss: 0.10 - ETA: 57s - loss: 0.0889 - rope_loss: 0.10 - ETA: 56s - loss: 0.0882 - rope_loss: 0.10 - ETA: 56s - loss: 0.0884 - rope_loss: 0.10 - ETA: 55s - loss: 0.0882 - rope_loss: 0.10 - ETA: 55s - loss: 0.0874 - rope_loss: 0.10 - ETA: 54s - loss: 0.0874 - rope_loss: 0.10 - ETA: 53s - loss: 0.0870 - rope_loss: 0.10 - ETA: 53s - loss: 0.0862 - rope_loss: 0.10 - ETA: 52s - loss: 0.0859 - rope_loss: 0.10 - ETA: 52s - loss: 0.0858 - rope_loss: 0.10 - ETA: 51s - loss: 0.0861 - rope_loss: 0.10 - ETA: 51s - loss: 0.0861 - rope_loss: 0.10 - ETA: 50s - loss: 0.0870 - rope_loss: 0.10 - ETA: 49s - loss: 0.0879 - rope_loss: 0.10 - ETA: 49s - loss: 0.0881 - rope_loss: 0.10 - ETA: 48s - loss: 0.0879 - rope_loss: 0.10 - ETA: 48s - loss: 0.0880 - rope_loss: 0.10 - ETA: 47s - loss: 0.0882 - rope_loss: 0.10 - ETA: 47s - loss: 0.0883 - rope_loss: 0.10 - ETA: 46s - loss: 0.0880 - rope_loss: 0.10 - ETA: 46s - loss: 0.0887 - rope_loss: 0.10 - ETA: 45s - loss: 0.0891 - rope_loss: 0.10 - ETA: 44s - loss: 0.0890 - rope_loss: 0.10 - ETA: 44s - loss: 0.0886 - rope_loss: 0.10 - ETA: 43s - loss: 0.0887 - rope_loss: 0.10 - ETA: 43s - loss: 0.0885 - rope_loss: 0.10 - ETA: 42s - loss: 0.0885 - rope_loss: 0.10 - ETA: 42s - loss: 0.0885 - rope_loss: 0.10 - ETA: 41s - loss: 0.0887 - rope_loss: 0.10 - ETA: 40s - loss: 0.0892 - rope_loss: 0.10 - ETA: 40s - loss: 0.0891 - rope_loss: 0.10 - ETA: 39s - loss: 0.0887 - rope_loss: 0.10 - ETA: 39s - loss: 0.0885 - rope_loss: 0.10 - ETA: 38s - loss: 0.0883 - rope_loss: 0.10 - ETA: 37s - loss: 0.0884 - rope_loss: 0.10 - ETA: 37s - loss: 0.0884 - rope_loss: 0.10 - ETA: 36s - loss: 0.0885 - rope_loss: 0.10 - ETA: 36s - loss: 0.0882 - rope_loss: 0.10 - ETA: 35s - loss: 0.0887 - rope_loss: 0.10 - ETA: 35s - loss: 0.0885 - rope_loss: 0.10 - ETA: 34s - loss: 0.0890 - rope_loss: 0.10 - ETA: 33s - loss: 0.0891 - rope_loss: 0.10 - ETA: 33s - loss: 0.0892 - rope_loss: 0.10 - ETA: 32s - loss: 0.0893 - rope_loss: 0.10 - ETA: 32s - loss: 0.0898 - rope_loss: 0.10 - ETA: 31s - loss: 0.0897 - rope_loss: 0.10 - ETA: 31s - loss: 0.0898 - rope_loss: 0.10 - ETA: 30s - loss: 0.0897 - rope_loss: 0.10 - ETA: 29s - loss: 0.0899 - rope_loss: 0.10 - ETA: 29s - loss: 0.0896 - rope_loss: 0.10 - ETA: 28s - loss: 0.0898 - rope_loss: 0.10 - ETA: 28s - loss: 0.0898 - rope_loss: 0.10 - ETA: 27s - loss: 0.0896 - rope_loss: 0.10 - ETA: 27s - loss: 0.0897 - rope_loss: 0.10 - ETA: 26s - loss: 0.0896 - rope_loss: 0.10 - ETA: 26s - loss: 0.0897 - rope_loss: 0.10 - ETA: 25s - loss: 0.0896 - rope_loss: 0.10 - ETA: 24s - loss: 0.0897 - rope_loss: 0.10 - ETA: 24s - loss: 0.0901 - rope_loss: 0.10 - ETA: 23s - loss: 0.0903 - rope_loss: 0.10 - ETA: 23s - loss: 0.0905 - rope_loss: 0.10 - ETA: 22s - loss: 0.0906 - rope_loss: 0.10 - ETA: 22s - loss: 0.0907 - rope_loss: 0.10 - ETA: 21s - loss: 0.0906 - rope_loss: 0.10 - ETA: 20s - loss: 0.0906 - rope_loss: 0.10 - ETA: 20s - loss: 0.0908 - rope_loss: 0.10 - ETA: 19s - loss: 0.0908 - rope_loss: 0.10 - ETA: 19s - loss: 0.0910 - rope_loss: 0.10 - ETA: 18s - loss: 0.0912 - rope_loss: 0.10 - ETA: 18s - loss: 0.0911 - rope_loss: 0.10 - ETA: 17s - loss: 0.0911 - rope_loss: 0.10 - ETA: 16s - loss: 0.0911 - rope_loss: 0.10 - ETA: 16s - loss: 0.0910 - rope_loss: 0.10 - ETA: 15s - loss: 0.0907 - rope_loss: 0.10 - ETA: 15s - loss: 0.0908 - rope_loss: 0.10 - ETA: 14s - loss: 0.0909 - rope_loss: 0.10 - ETA: 14s - loss: 0.0910 - rope_loss: 0.10 - ETA: 13s - loss: 0.0907 - rope_loss: 0.10 - ETA: 12s - loss: 0.0908 - rope_loss: 0.10 - ETA: 12s - loss: 0.0910 - rope_loss: 0.10 - ETA: 11s - loss: 0.0911 - rope_loss: 0.10 - ETA: 11s - loss: 0.0909 - rope_loss: 0.10 - ETA: 10s - loss: 0.0907 - rope_loss: 0.10 - ETA: 10s - loss: 0.0906 - rope_loss: 0.10 - ETA: 9s - loss: 0.0905 - rope_loss: 0.1089 - ETA: 8s - loss: 0.0905 - rope_loss: 0.108 - ETA: 8s - loss: 0.0904 - rope_loss: 0.109 - ETA: 7s - loss: 0.0903 - rope_loss: 0.108 - ETA: 7s - loss: 0.0906 - rope_loss: 0.109 - ETA: 6s - loss: 0.0906 - rope_loss: 0.109 - ETA: 6s - loss: 0.0904 - rope_loss: 0.109 - ETA: 5s - loss: 0.0907 - rope_loss: 0.109 - ETA: 5s - loss: 0.0907 - rope_loss: 0.109 - ETA: 4s - loss: 0.0909 - rope_loss: 0.109 - ETA: 3s - loss: 0.0908 - rope_loss: 0.109 - ETA: 3s - loss: 0.0908 - rope_loss: 0.109 - ETA: 2s - loss: 0.0908 - rope_loss: 0.109 - ETA: 2s - loss: 0.0906 - rope_loss: 0.109 - ETA: 1s - loss: 0.0906 - rope_loss: 0.109 - ETA: 1s - loss: 0.0906 - rope_loss: 0.109 - ETA: 0s - loss: 0.0906 - rope_loss: 0.109 - 87s 11ms/sample - loss: 0.0905 - rope_loss: 0.1093 - val_loss: 0.1127 - val_rope_loss: 0.1412\n",
      "Epoch 22/301\n"
     ]
    },
    {
     "name": "stdout",
     "output_type": "stream",
     "text": [
      "7989/7989 [==============================] - ETA: 1:10 - loss: 0.0781 - rope_loss: 0.099 - ETA: 1:09 - loss: 0.0804 - rope_loss: 0.101 - ETA: 1:08 - loss: 0.0842 - rope_loss: 0.108 - ETA: 1:08 - loss: 0.0843 - rope_loss: 0.100 - ETA: 1:08 - loss: 0.0861 - rope_loss: 0.097 - ETA: 1:08 - loss: 0.0836 - rope_loss: 0.093 - ETA: 1:07 - loss: 0.0846 - rope_loss: 0.093 - ETA: 1:07 - loss: 0.0851 - rope_loss: 0.096 - ETA: 1:06 - loss: 0.0841 - rope_loss: 0.094 - ETA: 1:05 - loss: 0.0846 - rope_loss: 0.094 - ETA: 1:05 - loss: 0.0852 - rope_loss: 0.094 - ETA: 1:04 - loss: 0.0855 - rope_loss: 0.096 - ETA: 1:03 - loss: 0.0864 - rope_loss: 0.096 - ETA: 1:03 - loss: 0.0849 - rope_loss: 0.095 - ETA: 1:02 - loss: 0.0859 - rope_loss: 0.098 - ETA: 1:01 - loss: 0.0873 - rope_loss: 0.099 - ETA: 1:01 - loss: 0.0863 - rope_loss: 0.098 - ETA: 1:00 - loss: 0.0859 - rope_loss: 0.098 - ETA: 1:00 - loss: 0.0857 - rope_loss: 0.098 - ETA: 59s - loss: 0.0848 - rope_loss: 0.097 - ETA: 58s - loss: 0.0849 - rope_loss: 0.09 - ETA: 58s - loss: 0.0849 - rope_loss: 0.09 - ETA: 57s - loss: 0.0857 - rope_loss: 0.09 - ETA: 57s - loss: 0.0853 - rope_loss: 0.09 - ETA: 56s - loss: 0.0853 - rope_loss: 0.09 - ETA: 56s - loss: 0.0860 - rope_loss: 0.09 - ETA: 55s - loss: 0.0864 - rope_loss: 0.09 - ETA: 55s - loss: 0.0864 - rope_loss: 0.10 - ETA: 54s - loss: 0.0866 - rope_loss: 0.10 - ETA: 54s - loss: 0.0868 - rope_loss: 0.10 - ETA: 53s - loss: 0.0873 - rope_loss: 0.10 - ETA: 52s - loss: 0.0872 - rope_loss: 0.10 - ETA: 52s - loss: 0.0874 - rope_loss: 0.10 - ETA: 51s - loss: 0.0871 - rope_loss: 0.10 - ETA: 51s - loss: 0.0872 - rope_loss: 0.10 - ETA: 50s - loss: 0.0876 - rope_loss: 0.10 - ETA: 49s - loss: 0.0870 - rope_loss: 0.10 - ETA: 49s - loss: 0.0874 - rope_loss: 0.10 - ETA: 48s - loss: 0.0873 - rope_loss: 0.10 - ETA: 48s - loss: 0.0877 - rope_loss: 0.10 - ETA: 47s - loss: 0.0873 - rope_loss: 0.10 - ETA: 47s - loss: 0.0875 - rope_loss: 0.10 - ETA: 46s - loss: 0.0882 - rope_loss: 0.10 - ETA: 45s - loss: 0.0882 - rope_loss: 0.10 - ETA: 45s - loss: 0.0885 - rope_loss: 0.10 - ETA: 44s - loss: 0.0881 - rope_loss: 0.10 - ETA: 44s - loss: 0.0877 - rope_loss: 0.10 - ETA: 43s - loss: 0.0878 - rope_loss: 0.10 - ETA: 43s - loss: 0.0874 - rope_loss: 0.10 - ETA: 42s - loss: 0.0881 - rope_loss: 0.10 - ETA: 41s - loss: 0.0881 - rope_loss: 0.10 - ETA: 41s - loss: 0.0882 - rope_loss: 0.10 - ETA: 40s - loss: 0.0885 - rope_loss: 0.10 - ETA: 40s - loss: 0.0884 - rope_loss: 0.10 - ETA: 39s - loss: 0.0885 - rope_loss: 0.10 - ETA: 39s - loss: 0.0888 - rope_loss: 0.10 - ETA: 38s - loss: 0.0889 - rope_loss: 0.10 - ETA: 37s - loss: 0.0890 - rope_loss: 0.10 - ETA: 37s - loss: 0.0887 - rope_loss: 0.10 - ETA: 36s - loss: 0.0887 - rope_loss: 0.10 - ETA: 36s - loss: 0.0886 - rope_loss: 0.10 - ETA: 35s - loss: 0.0885 - rope_loss: 0.10 - ETA: 35s - loss: 0.0884 - rope_loss: 0.10 - ETA: 34s - loss: 0.0882 - rope_loss: 0.10 - ETA: 34s - loss: 0.0878 - rope_loss: 0.10 - ETA: 33s - loss: 0.0876 - rope_loss: 0.10 - ETA: 32s - loss: 0.0874 - rope_loss: 0.10 - ETA: 32s - loss: 0.0872 - rope_loss: 0.10 - ETA: 31s - loss: 0.0874 - rope_loss: 0.10 - ETA: 31s - loss: 0.0871 - rope_loss: 0.10 - ETA: 30s - loss: 0.0869 - rope_loss: 0.10 - ETA: 30s - loss: 0.0869 - rope_loss: 0.10 - ETA: 29s - loss: 0.0873 - rope_loss: 0.10 - ETA: 28s - loss: 0.0874 - rope_loss: 0.10 - ETA: 28s - loss: 0.0874 - rope_loss: 0.10 - ETA: 27s - loss: 0.0874 - rope_loss: 0.10 - ETA: 27s - loss: 0.0872 - rope_loss: 0.10 - ETA: 26s - loss: 0.0873 - rope_loss: 0.10 - ETA: 26s - loss: 0.0872 - rope_loss: 0.10 - ETA: 25s - loss: 0.0875 - rope_loss: 0.10 - ETA: 24s - loss: 0.0871 - rope_loss: 0.10 - ETA: 24s - loss: 0.0873 - rope_loss: 0.10 - ETA: 23s - loss: 0.0872 - rope_loss: 0.10 - ETA: 23s - loss: 0.0872 - rope_loss: 0.10 - ETA: 22s - loss: 0.0873 - rope_loss: 0.10 - ETA: 22s - loss: 0.0874 - rope_loss: 0.10 - ETA: 21s - loss: 0.0874 - rope_loss: 0.10 - ETA: 20s - loss: 0.0872 - rope_loss: 0.10 - ETA: 20s - loss: 0.0871 - rope_loss: 0.10 - ETA: 19s - loss: 0.0869 - rope_loss: 0.10 - ETA: 19s - loss: 0.0870 - rope_loss: 0.10 - ETA: 18s - loss: 0.0869 - rope_loss: 0.10 - ETA: 18s - loss: 0.0869 - rope_loss: 0.10 - ETA: 17s - loss: 0.0874 - rope_loss: 0.10 - ETA: 17s - loss: 0.0873 - rope_loss: 0.10 - ETA: 16s - loss: 0.0875 - rope_loss: 0.10 - ETA: 15s - loss: 0.0876 - rope_loss: 0.10 - ETA: 15s - loss: 0.0876 - rope_loss: 0.10 - ETA: 14s - loss: 0.0879 - rope_loss: 0.10 - ETA: 14s - loss: 0.0881 - rope_loss: 0.10 - ETA: 13s - loss: 0.0879 - rope_loss: 0.10 - ETA: 13s - loss: 0.0879 - rope_loss: 0.10 - ETA: 12s - loss: 0.0877 - rope_loss: 0.10 - ETA: 11s - loss: 0.0878 - rope_loss: 0.10 - ETA: 11s - loss: 0.0879 - rope_loss: 0.10 - ETA: 10s - loss: 0.0880 - rope_loss: 0.10 - ETA: 10s - loss: 0.0880 - rope_loss: 0.10 - ETA: 9s - loss: 0.0878 - rope_loss: 0.1037 - ETA: 9s - loss: 0.0877 - rope_loss: 0.103 - ETA: 8s - loss: 0.0877 - rope_loss: 0.103 - ETA: 7s - loss: 0.0876 - rope_loss: 0.103 - ETA: 7s - loss: 0.0874 - rope_loss: 0.103 - ETA: 6s - loss: 0.0874 - rope_loss: 0.103 - ETA: 6s - loss: 0.0873 - rope_loss: 0.103 - ETA: 5s - loss: 0.0874 - rope_loss: 0.103 - ETA: 5s - loss: 0.0875 - rope_loss: 0.103 - ETA: 4s - loss: 0.0876 - rope_loss: 0.103 - ETA: 3s - loss: 0.0878 - rope_loss: 0.103 - ETA: 3s - loss: 0.0878 - rope_loss: 0.103 - ETA: 2s - loss: 0.0877 - rope_loss: 0.103 - ETA: 2s - loss: 0.0878 - rope_loss: 0.103 - ETA: 1s - loss: 0.0877 - rope_loss: 0.103 - ETA: 1s - loss: 0.0876 - rope_loss: 0.103 - ETA: 0s - loss: 0.0878 - rope_loss: 0.103 - 87s 11ms/sample - loss: 0.0878 - rope_loss: 0.1034 - val_loss: 0.1138 - val_rope_loss: 0.1437\n",
      "Epoch 23/301\n"
     ]
    },
    {
     "name": "stdout",
     "output_type": "stream",
     "text": [
      "7989/7989 [==============================] - ETA: 1:10 - loss: 0.0851 - rope_loss: 0.110 - ETA: 1:09 - loss: 0.0780 - rope_loss: 0.093 - ETA: 1:09 - loss: 0.0788 - rope_loss: 0.092 - ETA: 1:10 - loss: 0.0865 - rope_loss: 0.103 - ETA: 1:10 - loss: 0.0916 - rope_loss: 0.104 - ETA: 1:10 - loss: 0.0923 - rope_loss: 0.110 - ETA: 1:09 - loss: 0.0937 - rope_loss: 0.116 - ETA: 1:08 - loss: 0.0930 - rope_loss: 0.114 - ETA: 1:07 - loss: 0.0941 - rope_loss: 0.115 - ETA: 1:06 - loss: 0.0946 - rope_loss: 0.117 - ETA: 1:05 - loss: 0.0921 - rope_loss: 0.113 - ETA: 1:05 - loss: 0.0926 - rope_loss: 0.115 - ETA: 1:04 - loss: 0.0933 - rope_loss: 0.116 - ETA: 1:03 - loss: 0.0926 - rope_loss: 0.115 - ETA: 1:03 - loss: 0.0925 - rope_loss: 0.115 - ETA: 1:02 - loss: 0.0918 - rope_loss: 0.114 - ETA: 1:02 - loss: 0.0909 - rope_loss: 0.113 - ETA: 1:01 - loss: 0.0906 - rope_loss: 0.111 - ETA: 1:01 - loss: 0.0899 - rope_loss: 0.110 - ETA: 1:00 - loss: 0.0904 - rope_loss: 0.111 - ETA: 59s - loss: 0.0895 - rope_loss: 0.110 - ETA: 59s - loss: 0.0894 - rope_loss: 0.10 - ETA: 58s - loss: 0.0903 - rope_loss: 0.11 - ETA: 58s - loss: 0.0900 - rope_loss: 0.11 - ETA: 57s - loss: 0.0895 - rope_loss: 0.10 - ETA: 57s - loss: 0.0883 - rope_loss: 0.10 - ETA: 56s - loss: 0.0887 - rope_loss: 0.10 - ETA: 55s - loss: 0.0885 - rope_loss: 0.10 - ETA: 55s - loss: 0.0893 - rope_loss: 0.10 - ETA: 54s - loss: 0.0892 - rope_loss: 0.10 - ETA: 54s - loss: 0.0887 - rope_loss: 0.10 - ETA: 53s - loss: 0.0885 - rope_loss: 0.10 - ETA: 53s - loss: 0.0893 - rope_loss: 0.10 - ETA: 52s - loss: 0.0895 - rope_loss: 0.10 - ETA: 51s - loss: 0.0898 - rope_loss: 0.10 - ETA: 51s - loss: 0.0896 - rope_loss: 0.10 - ETA: 50s - loss: 0.0894 - rope_loss: 0.10 - ETA: 50s - loss: 0.0887 - rope_loss: 0.10 - ETA: 49s - loss: 0.0886 - rope_loss: 0.10 - ETA: 49s - loss: 0.0881 - rope_loss: 0.10 - ETA: 48s - loss: 0.0880 - rope_loss: 0.10 - ETA: 47s - loss: 0.0874 - rope_loss: 0.10 - ETA: 47s - loss: 0.0864 - rope_loss: 0.10 - ETA: 46s - loss: 0.0865 - rope_loss: 0.10 - ETA: 46s - loss: 0.0862 - rope_loss: 0.10 - ETA: 45s - loss: 0.0865 - rope_loss: 0.10 - ETA: 45s - loss: 0.0866 - rope_loss: 0.10 - ETA: 44s - loss: 0.0863 - rope_loss: 0.10 - ETA: 43s - loss: 0.0857 - rope_loss: 0.10 - ETA: 43s - loss: 0.0863 - rope_loss: 0.10 - ETA: 42s - loss: 0.0864 - rope_loss: 0.10 - ETA: 42s - loss: 0.0862 - rope_loss: 0.10 - ETA: 41s - loss: 0.0861 - rope_loss: 0.10 - ETA: 40s - loss: 0.0858 - rope_loss: 0.10 - ETA: 40s - loss: 0.0861 - rope_loss: 0.10 - ETA: 39s - loss: 0.0858 - rope_loss: 0.10 - ETA: 39s - loss: 0.0857 - rope_loss: 0.10 - ETA: 38s - loss: 0.0860 - rope_loss: 0.10 - ETA: 38s - loss: 0.0860 - rope_loss: 0.10 - ETA: 37s - loss: 0.0857 - rope_loss: 0.10 - ETA: 36s - loss: 0.0859 - rope_loss: 0.10 - ETA: 36s - loss: 0.0860 - rope_loss: 0.10 - ETA: 35s - loss: 0.0859 - rope_loss: 0.10 - ETA: 35s - loss: 0.0862 - rope_loss: 0.10 - ETA: 34s - loss: 0.0865 - rope_loss: 0.10 - ETA: 33s - loss: 0.0866 - rope_loss: 0.10 - ETA: 33s - loss: 0.0865 - rope_loss: 0.10 - ETA: 32s - loss: 0.0866 - rope_loss: 0.10 - ETA: 32s - loss: 0.0871 - rope_loss: 0.10 - ETA: 31s - loss: 0.0873 - rope_loss: 0.10 - ETA: 30s - loss: 0.0876 - rope_loss: 0.10 - ETA: 30s - loss: 0.0875 - rope_loss: 0.10 - ETA: 29s - loss: 0.0878 - rope_loss: 0.10 - ETA: 29s - loss: 0.0879 - rope_loss: 0.10 - ETA: 28s - loss: 0.0881 - rope_loss: 0.10 - ETA: 28s - loss: 0.0876 - rope_loss: 0.10 - ETA: 27s - loss: 0.0875 - rope_loss: 0.10 - ETA: 26s - loss: 0.0878 - rope_loss: 0.10 - ETA: 26s - loss: 0.0875 - rope_loss: 0.10 - ETA: 25s - loss: 0.0875 - rope_loss: 0.10 - ETA: 25s - loss: 0.0879 - rope_loss: 0.10 - ETA: 24s - loss: 0.0880 - rope_loss: 0.10 - ETA: 24s - loss: 0.0881 - rope_loss: 0.10 - ETA: 23s - loss: 0.0883 - rope_loss: 0.10 - ETA: 22s - loss: 0.0882 - rope_loss: 0.10 - ETA: 22s - loss: 0.0882 - rope_loss: 0.10 - ETA: 21s - loss: 0.0882 - rope_loss: 0.10 - ETA: 21s - loss: 0.0884 - rope_loss: 0.10 - ETA: 20s - loss: 0.0884 - rope_loss: 0.10 - ETA: 20s - loss: 0.0885 - rope_loss: 0.10 - ETA: 19s - loss: 0.0883 - rope_loss: 0.10 - ETA: 18s - loss: 0.0881 - rope_loss: 0.10 - ETA: 18s - loss: 0.0886 - rope_loss: 0.10 - ETA: 17s - loss: 0.0885 - rope_loss: 0.10 - ETA: 17s - loss: 0.0886 - rope_loss: 0.10 - ETA: 16s - loss: 0.0891 - rope_loss: 0.10 - ETA: 16s - loss: 0.0892 - rope_loss: 0.10 - ETA: 15s - loss: 0.0894 - rope_loss: 0.10 - ETA: 14s - loss: 0.0894 - rope_loss: 0.10 - ETA: 14s - loss: 0.0894 - rope_loss: 0.10 - ETA: 13s - loss: 0.0891 - rope_loss: 0.10 - ETA: 13s - loss: 0.0893 - rope_loss: 0.10 - ETA: 12s - loss: 0.0892 - rope_loss: 0.10 - ETA: 11s - loss: 0.0893 - rope_loss: 0.10 - ETA: 11s - loss: 0.0892 - rope_loss: 0.10 - ETA: 10s - loss: 0.0892 - rope_loss: 0.10 - ETA: 10s - loss: 0.0893 - rope_loss: 0.10 - ETA: 9s - loss: 0.0894 - rope_loss: 0.1052 - ETA: 9s - loss: 0.0894 - rope_loss: 0.105 - ETA: 8s - loss: 0.0898 - rope_loss: 0.105 - ETA: 7s - loss: 0.0897 - rope_loss: 0.105 - ETA: 7s - loss: 0.0897 - rope_loss: 0.105 - ETA: 6s - loss: 0.0897 - rope_loss: 0.106 - ETA: 6s - loss: 0.0897 - rope_loss: 0.105 - ETA: 5s - loss: 0.0899 - rope_loss: 0.106 - ETA: 5s - loss: 0.0901 - rope_loss: 0.106 - ETA: 4s - loss: 0.0899 - rope_loss: 0.106 - ETA: 3s - loss: 0.0900 - rope_loss: 0.106 - ETA: 3s - loss: 0.0901 - rope_loss: 0.106 - ETA: 2s - loss: 0.0902 - rope_loss: 0.106 - ETA: 2s - loss: 0.0903 - rope_loss: 0.106 - ETA: 1s - loss: 0.0902 - rope_loss: 0.106 - ETA: 1s - loss: 0.0900 - rope_loss: 0.106 - ETA: 0s - loss: 0.0900 - rope_loss: 0.106 - 87s 11ms/sample - loss: 0.0899 - rope_loss: 0.1061 - val_loss: 0.1068 - val_rope_loss: 0.1396\n",
      "Epoch 24/301\n"
     ]
    },
    {
     "name": "stdout",
     "output_type": "stream",
     "text": [
      "7989/7989 [==============================] - ETA: 1:12 - loss: 0.1119 - rope_loss: 0.104 - ETA: 1:12 - loss: 0.1029 - rope_loss: 0.095 - ETA: 1:10 - loss: 0.1019 - rope_loss: 0.107 - ETA: 1:08 - loss: 0.0922 - rope_loss: 0.096 - ETA: 1:07 - loss: 0.0906 - rope_loss: 0.098 - ETA: 1:07 - loss: 0.0924 - rope_loss: 0.099 - ETA: 1:06 - loss: 0.0921 - rope_loss: 0.101 - ETA: 1:06 - loss: 0.0898 - rope_loss: 0.099 - ETA: 1:05 - loss: 0.0904 - rope_loss: 0.101 - ETA: 1:05 - loss: 0.0880 - rope_loss: 0.098 - ETA: 1:05 - loss: 0.0880 - rope_loss: 0.100 - ETA: 1:04 - loss: 0.0888 - rope_loss: 0.100 - ETA: 1:03 - loss: 0.0880 - rope_loss: 0.099 - ETA: 1:03 - loss: 0.0874 - rope_loss: 0.099 - ETA: 1:02 - loss: 0.0883 - rope_loss: 0.100 - ETA: 1:02 - loss: 0.0882 - rope_loss: 0.101 - ETA: 1:01 - loss: 0.0878 - rope_loss: 0.101 - ETA: 1:01 - loss: 0.0888 - rope_loss: 0.104 - ETA: 1:00 - loss: 0.0887 - rope_loss: 0.103 - ETA: 59s - loss: 0.0902 - rope_loss: 0.104 - ETA: 59s - loss: 0.0896 - rope_loss: 0.10 - ETA: 58s - loss: 0.0901 - rope_loss: 0.10 - ETA: 58s - loss: 0.0897 - rope_loss: 0.10 - ETA: 57s - loss: 0.0889 - rope_loss: 0.10 - ETA: 56s - loss: 0.0889 - rope_loss: 0.10 - ETA: 56s - loss: 0.0886 - rope_loss: 0.10 - ETA: 55s - loss: 0.0883 - rope_loss: 0.10 - ETA: 55s - loss: 0.0881 - rope_loss: 0.10 - ETA: 54s - loss: 0.0881 - rope_loss: 0.10 - ETA: 53s - loss: 0.0879 - rope_loss: 0.10 - ETA: 53s - loss: 0.0880 - rope_loss: 0.10 - ETA: 52s - loss: 0.0885 - rope_loss: 0.10 - ETA: 52s - loss: 0.0882 - rope_loss: 0.10 - ETA: 51s - loss: 0.0883 - rope_loss: 0.10 - ETA: 51s - loss: 0.0879 - rope_loss: 0.10 - ETA: 50s - loss: 0.0871 - rope_loss: 0.10 - ETA: 50s - loss: 0.0872 - rope_loss: 0.10 - ETA: 49s - loss: 0.0868 - rope_loss: 0.10 - ETA: 48s - loss: 0.0871 - rope_loss: 0.10 - ETA: 48s - loss: 0.0871 - rope_loss: 0.10 - ETA: 47s - loss: 0.0876 - rope_loss: 0.10 - ETA: 47s - loss: 0.0887 - rope_loss: 0.10 - ETA: 46s - loss: 0.0900 - rope_loss: 0.10 - ETA: 46s - loss: 0.0901 - rope_loss: 0.10 - ETA: 45s - loss: 0.0900 - rope_loss: 0.10 - ETA: 44s - loss: 0.0900 - rope_loss: 0.10 - ETA: 44s - loss: 0.0902 - rope_loss: 0.10 - ETA: 43s - loss: 0.0900 - rope_loss: 0.10 - ETA: 43s - loss: 0.0900 - rope_loss: 0.10 - ETA: 42s - loss: 0.0904 - rope_loss: 0.10 - ETA: 42s - loss: 0.0900 - rope_loss: 0.10 - ETA: 41s - loss: 0.0902 - rope_loss: 0.10 - ETA: 40s - loss: 0.0899 - rope_loss: 0.10 - ETA: 40s - loss: 0.0900 - rope_loss: 0.10 - ETA: 39s - loss: 0.0898 - rope_loss: 0.10 - ETA: 39s - loss: 0.0901 - rope_loss: 0.10 - ETA: 38s - loss: 0.0900 - rope_loss: 0.10 - ETA: 38s - loss: 0.0903 - rope_loss: 0.10 - ETA: 37s - loss: 0.0903 - rope_loss: 0.10 - ETA: 37s - loss: 0.0904 - rope_loss: 0.10 - ETA: 36s - loss: 0.0904 - rope_loss: 0.10 - ETA: 35s - loss: 0.0902 - rope_loss: 0.10 - ETA: 35s - loss: 0.0905 - rope_loss: 0.10 - ETA: 34s - loss: 0.0908 - rope_loss: 0.10 - ETA: 34s - loss: 0.0906 - rope_loss: 0.10 - ETA: 33s - loss: 0.0904 - rope_loss: 0.10 - ETA: 32s - loss: 0.0907 - rope_loss: 0.10 - ETA: 32s - loss: 0.0910 - rope_loss: 0.10 - ETA: 31s - loss: 0.0908 - rope_loss: 0.10 - ETA: 31s - loss: 0.0909 - rope_loss: 0.10 - ETA: 30s - loss: 0.0910 - rope_loss: 0.10 - ETA: 30s - loss: 0.0911 - rope_loss: 0.10 - ETA: 29s - loss: 0.0915 - rope_loss: 0.10 - ETA: 28s - loss: 0.0914 - rope_loss: 0.10 - ETA: 28s - loss: 0.0916 - rope_loss: 0.11 - ETA: 27s - loss: 0.0914 - rope_loss: 0.10 - ETA: 27s - loss: 0.0912 - rope_loss: 0.10 - ETA: 26s - loss: 0.0911 - rope_loss: 0.10 - ETA: 26s - loss: 0.0914 - rope_loss: 0.10 - ETA: 25s - loss: 0.0919 - rope_loss: 0.11 - ETA: 24s - loss: 0.0919 - rope_loss: 0.11 - ETA: 24s - loss: 0.0920 - rope_loss: 0.11 - ETA: 23s - loss: 0.0921 - rope_loss: 0.11 - ETA: 23s - loss: 0.0918 - rope_loss: 0.11 - ETA: 22s - loss: 0.0919 - rope_loss: 0.11 - ETA: 22s - loss: 0.0918 - rope_loss: 0.11 - ETA: 21s - loss: 0.0918 - rope_loss: 0.11 - ETA: 20s - loss: 0.0919 - rope_loss: 0.11 - ETA: 20s - loss: 0.0919 - rope_loss: 0.11 - ETA: 19s - loss: 0.0918 - rope_loss: 0.11 - ETA: 19s - loss: 0.0916 - rope_loss: 0.11 - ETA: 18s - loss: 0.0918 - rope_loss: 0.11 - ETA: 18s - loss: 0.0916 - rope_loss: 0.11 - ETA: 17s - loss: 0.0918 - rope_loss: 0.11 - ETA: 16s - loss: 0.0918 - rope_loss: 0.11 - ETA: 16s - loss: 0.0917 - rope_loss: 0.11 - ETA: 15s - loss: 0.0916 - rope_loss: 0.11 - ETA: 15s - loss: 0.0914 - rope_loss: 0.11 - ETA: 14s - loss: 0.0917 - rope_loss: 0.11 - ETA: 14s - loss: 0.0917 - rope_loss: 0.11 - ETA: 13s - loss: 0.0918 - rope_loss: 0.11 - ETA: 12s - loss: 0.0916 - rope_loss: 0.11 - ETA: 12s - loss: 0.0918 - rope_loss: 0.11 - ETA: 11s - loss: 0.0918 - rope_loss: 0.11 - ETA: 11s - loss: 0.0919 - rope_loss: 0.11 - ETA: 10s - loss: 0.0918 - rope_loss: 0.11 - ETA: 10s - loss: 0.0919 - rope_loss: 0.11 - ETA: 9s - loss: 0.0919 - rope_loss: 0.1114 - ETA: 9s - loss: 0.0919 - rope_loss: 0.111 - ETA: 8s - loss: 0.0919 - rope_loss: 0.111 - ETA: 7s - loss: 0.0920 - rope_loss: 0.111 - ETA: 7s - loss: 0.0920 - rope_loss: 0.111 - ETA: 6s - loss: 0.0919 - rope_loss: 0.111 - ETA: 6s - loss: 0.0920 - rope_loss: 0.112 - ETA: 5s - loss: 0.0920 - rope_loss: 0.112 - ETA: 5s - loss: 0.0922 - rope_loss: 0.112 - ETA: 4s - loss: 0.0922 - rope_loss: 0.112 - ETA: 3s - loss: 0.0920 - rope_loss: 0.111 - ETA: 3s - loss: 0.0921 - rope_loss: 0.112 - ETA: 2s - loss: 0.0921 - rope_loss: 0.112 - ETA: 2s - loss: 0.0920 - rope_loss: 0.112 - ETA: 1s - loss: 0.0919 - rope_loss: 0.111 - ETA: 1s - loss: 0.0919 - rope_loss: 0.111 - ETA: 0s - loss: 0.0919 - rope_loss: 0.111 - 87s 11ms/sample - loss: 0.0918 - rope_loss: 0.1114 - val_loss: 0.0965 - val_rope_loss: 0.1229\n",
      "Epoch 25/301\n"
     ]
    },
    {
     "name": "stdout",
     "output_type": "stream",
     "text": [
      "7989/7989 [==============================] - ETA: 1:10 - loss: 0.0746 - rope_loss: 0.085 - ETA: 1:10 - loss: 0.0841 - rope_loss: 0.100 - ETA: 1:09 - loss: 0.0820 - rope_loss: 0.097 - ETA: 1:08 - loss: 0.0782 - rope_loss: 0.090 - ETA: 1:08 - loss: 0.0831 - rope_loss: 0.095 - ETA: 1:07 - loss: 0.0888 - rope_loss: 0.106 - ETA: 1:06 - loss: 0.0875 - rope_loss: 0.104 - ETA: 1:06 - loss: 0.0859 - rope_loss: 0.101 - ETA: 1:05 - loss: 0.0838 - rope_loss: 0.096 - ETA: 1:05 - loss: 0.0847 - rope_loss: 0.099 - ETA: 1:04 - loss: 0.0878 - rope_loss: 0.100 - ETA: 1:03 - loss: 0.0890 - rope_loss: 0.104 - ETA: 1:03 - loss: 0.0887 - rope_loss: 0.104 - ETA: 1:02 - loss: 0.0892 - rope_loss: 0.105 - ETA: 1:02 - loss: 0.0884 - rope_loss: 0.102 - ETA: 1:01 - loss: 0.0872 - rope_loss: 0.101 - ETA: 1:00 - loss: 0.0871 - rope_loss: 0.100 - ETA: 1:00 - loss: 0.0867 - rope_loss: 0.100 - ETA: 1:00 - loss: 0.0862 - rope_loss: 0.099 - ETA: 59s - loss: 0.0857 - rope_loss: 0.098 - ETA: 59s - loss: 0.0851 - rope_loss: 0.09 - ETA: 58s - loss: 0.0866 - rope_loss: 0.10 - ETA: 57s - loss: 0.0864 - rope_loss: 0.10 - ETA: 57s - loss: 0.0877 - rope_loss: 0.10 - ETA: 56s - loss: 0.0878 - rope_loss: 0.10 - ETA: 56s - loss: 0.0876 - rope_loss: 0.10 - ETA: 55s - loss: 0.0877 - rope_loss: 0.10 - ETA: 55s - loss: 0.0874 - rope_loss: 0.10 - ETA: 54s - loss: 0.0875 - rope_loss: 0.10 - ETA: 53s - loss: 0.0870 - rope_loss: 0.10 - ETA: 53s - loss: 0.0864 - rope_loss: 0.10 - ETA: 52s - loss: 0.0869 - rope_loss: 0.10 - ETA: 52s - loss: 0.0865 - rope_loss: 0.10 - ETA: 51s - loss: 0.0865 - rope_loss: 0.10 - ETA: 51s - loss: 0.0877 - rope_loss: 0.10 - ETA: 50s - loss: 0.0883 - rope_loss: 0.10 - ETA: 49s - loss: 0.0878 - rope_loss: 0.10 - ETA: 49s - loss: 0.0885 - rope_loss: 0.10 - ETA: 48s - loss: 0.0882 - rope_loss: 0.10 - ETA: 48s - loss: 0.0884 - rope_loss: 0.10 - ETA: 47s - loss: 0.0884 - rope_loss: 0.10 - ETA: 47s - loss: 0.0882 - rope_loss: 0.10 - ETA: 46s - loss: 0.0888 - rope_loss: 0.10 - ETA: 45s - loss: 0.0893 - rope_loss: 0.10 - ETA: 45s - loss: 0.0888 - rope_loss: 0.10 - ETA: 44s - loss: 0.0885 - rope_loss: 0.10 - ETA: 44s - loss: 0.0892 - rope_loss: 0.10 - ETA: 43s - loss: 0.0890 - rope_loss: 0.10 - ETA: 43s - loss: 0.0894 - rope_loss: 0.10 - ETA: 42s - loss: 0.0890 - rope_loss: 0.10 - ETA: 41s - loss: 0.0893 - rope_loss: 0.10 - ETA: 41s - loss: 0.0886 - rope_loss: 0.10 - ETA: 40s - loss: 0.0883 - rope_loss: 0.10 - ETA: 40s - loss: 0.0883 - rope_loss: 0.10 - ETA: 39s - loss: 0.0885 - rope_loss: 0.10 - ETA: 39s - loss: 0.0887 - rope_loss: 0.10 - ETA: 38s - loss: 0.0886 - rope_loss: 0.10 - ETA: 38s - loss: 0.0887 - rope_loss: 0.10 - ETA: 37s - loss: 0.0885 - rope_loss: 0.10 - ETA: 36s - loss: 0.0886 - rope_loss: 0.10 - ETA: 36s - loss: 0.0884 - rope_loss: 0.10 - ETA: 35s - loss: 0.0883 - rope_loss: 0.10 - ETA: 35s - loss: 0.0884 - rope_loss: 0.10 - ETA: 34s - loss: 0.0882 - rope_loss: 0.10 - ETA: 34s - loss: 0.0880 - rope_loss: 0.10 - ETA: 33s - loss: 0.0883 - rope_loss: 0.10 - ETA: 32s - loss: 0.0883 - rope_loss: 0.10 - ETA: 32s - loss: 0.0882 - rope_loss: 0.10 - ETA: 31s - loss: 0.0881 - rope_loss: 0.10 - ETA: 31s - loss: 0.0881 - rope_loss: 0.10 - ETA: 30s - loss: 0.0882 - rope_loss: 0.10 - ETA: 30s - loss: 0.0883 - rope_loss: 0.10 - ETA: 29s - loss: 0.0882 - rope_loss: 0.10 - ETA: 28s - loss: 0.0885 - rope_loss: 0.10 - ETA: 28s - loss: 0.0884 - rope_loss: 0.10 - ETA: 27s - loss: 0.0883 - rope_loss: 0.10 - ETA: 27s - loss: 0.0882 - rope_loss: 0.10 - ETA: 26s - loss: 0.0883 - rope_loss: 0.10 - ETA: 26s - loss: 0.0884 - rope_loss: 0.10 - ETA: 25s - loss: 0.0885 - rope_loss: 0.10 - ETA: 24s - loss: 0.0884 - rope_loss: 0.10 - ETA: 24s - loss: 0.0882 - rope_loss: 0.10 - ETA: 23s - loss: 0.0882 - rope_loss: 0.10 - ETA: 23s - loss: 0.0880 - rope_loss: 0.10 - ETA: 22s - loss: 0.0879 - rope_loss: 0.10 - ETA: 22s - loss: 0.0876 - rope_loss: 0.10 - ETA: 21s - loss: 0.0877 - rope_loss: 0.10 - ETA: 20s - loss: 0.0878 - rope_loss: 0.10 - ETA: 20s - loss: 0.0877 - rope_loss: 0.10 - ETA: 19s - loss: 0.0882 - rope_loss: 0.10 - ETA: 19s - loss: 0.0882 - rope_loss: 0.10 - ETA: 18s - loss: 0.0881 - rope_loss: 0.10 - ETA: 18s - loss: 0.0881 - rope_loss: 0.10 - ETA: 17s - loss: 0.0879 - rope_loss: 0.10 - ETA: 16s - loss: 0.0876 - rope_loss: 0.10 - ETA: 16s - loss: 0.0876 - rope_loss: 0.10 - ETA: 15s - loss: 0.0877 - rope_loss: 0.10 - ETA: 15s - loss: 0.0879 - rope_loss: 0.10 - ETA: 14s - loss: 0.0880 - rope_loss: 0.10 - ETA: 14s - loss: 0.0879 - rope_loss: 0.10 - ETA: 13s - loss: 0.0878 - rope_loss: 0.10 - ETA: 13s - loss: 0.0877 - rope_loss: 0.10 - ETA: 12s - loss: 0.0877 - rope_loss: 0.10 - ETA: 11s - loss: 0.0879 - rope_loss: 0.10 - ETA: 11s - loss: 0.0879 - rope_loss: 0.10 - ETA: 10s - loss: 0.0877 - rope_loss: 0.10 - ETA: 10s - loss: 0.0877 - rope_loss: 0.10 - ETA: 9s - loss: 0.0877 - rope_loss: 0.1044 - ETA: 9s - loss: 0.0875 - rope_loss: 0.104 - ETA: 8s - loss: 0.0875 - rope_loss: 0.104 - ETA: 7s - loss: 0.0876 - rope_loss: 0.104 - ETA: 7s - loss: 0.0876 - rope_loss: 0.104 - ETA: 6s - loss: 0.0875 - rope_loss: 0.103 - ETA: 6s - loss: 0.0875 - rope_loss: 0.103 - ETA: 5s - loss: 0.0875 - rope_loss: 0.103 - ETA: 5s - loss: 0.0875 - rope_loss: 0.103 - ETA: 4s - loss: 0.0874 - rope_loss: 0.103 - ETA: 3s - loss: 0.0874 - rope_loss: 0.103 - ETA: 3s - loss: 0.0876 - rope_loss: 0.103 - ETA: 2s - loss: 0.0878 - rope_loss: 0.103 - ETA: 2s - loss: 0.0878 - rope_loss: 0.103 - ETA: 1s - loss: 0.0878 - rope_loss: 0.103 - ETA: 1s - loss: 0.0877 - rope_loss: 0.103 - ETA: 0s - loss: 0.0876 - rope_loss: 0.103 - 87s 11ms/sample - loss: 0.0874 - rope_loss: 0.1034 - val_loss: 0.1080 - val_rope_loss: 0.1381\n",
      "Epoch 26/301\n"
     ]
    },
    {
     "name": "stdout",
     "output_type": "stream",
     "text": [
      "6784/7989 [========================>.....] - ETA: 1:11 - loss: 0.0712 - rope_loss: 0.076 - ETA: 1:11 - loss: 0.0690 - rope_loss: 0.072 - ETA: 1:10 - loss: 0.0768 - rope_loss: 0.091 - ETA: 1:09 - loss: 0.0820 - rope_loss: 0.095 - ETA: 1:08 - loss: 0.0781 - rope_loss: 0.089 - ETA: 1:08 - loss: 0.0781 - rope_loss: 0.090 - ETA: 1:07 - loss: 0.0775 - rope_loss: 0.089 - ETA: 1:06 - loss: 0.0767 - rope_loss: 0.087 - ETA: 1:06 - loss: 0.0781 - rope_loss: 0.087 - ETA: 1:05 - loss: 0.0810 - rope_loss: 0.089 - ETA: 1:04 - loss: 0.0814 - rope_loss: 0.089 - ETA: 1:04 - loss: 0.0822 - rope_loss: 0.091 - ETA: 1:03 - loss: 0.0827 - rope_loss: 0.088 - ETA: 1:03 - loss: 0.0838 - rope_loss: 0.090 - ETA: 1:02 - loss: 0.0839 - rope_loss: 0.092 - ETA: 1:02 - loss: 0.0860 - rope_loss: 0.096 - ETA: 1:01 - loss: 0.0873 - rope_loss: 0.099 - ETA: 1:00 - loss: 0.0878 - rope_loss: 0.101 - ETA: 1:00 - loss: 0.0863 - rope_loss: 0.098 - ETA: 59s - loss: 0.0880 - rope_loss: 0.099 - ETA: 59s - loss: 0.0886 - rope_loss: 0.10 - ETA: 58s - loss: 0.0888 - rope_loss: 0.09 - ETA: 58s - loss: 0.0891 - rope_loss: 0.10 - ETA: 57s - loss: 0.0896 - rope_loss: 0.10 - ETA: 56s - loss: 0.0899 - rope_loss: 0.10 - ETA: 56s - loss: 0.0891 - rope_loss: 0.10 - ETA: 55s - loss: 0.0893 - rope_loss: 0.10 - ETA: 55s - loss: 0.0901 - rope_loss: 0.10 - ETA: 54s - loss: 0.0901 - rope_loss: 0.10 - ETA: 53s - loss: 0.0900 - rope_loss: 0.10 - ETA: 53s - loss: 0.0895 - rope_loss: 0.10 - ETA: 52s - loss: 0.0892 - rope_loss: 0.10 - ETA: 52s - loss: 0.0890 - rope_loss: 0.10 - ETA: 51s - loss: 0.0889 - rope_loss: 0.10 - ETA: 51s - loss: 0.0884 - rope_loss: 0.10 - ETA: 50s - loss: 0.0893 - rope_loss: 0.10 - ETA: 49s - loss: 0.0889 - rope_loss: 0.10 - ETA: 49s - loss: 0.0885 - rope_loss: 0.10 - ETA: 48s - loss: 0.0881 - rope_loss: 0.10 - ETA: 48s - loss: 0.0882 - rope_loss: 0.10 - ETA: 47s - loss: 0.0881 - rope_loss: 0.10 - ETA: 47s - loss: 0.0879 - rope_loss: 0.10 - ETA: 46s - loss: 0.0876 - rope_loss: 0.10 - ETA: 45s - loss: 0.0876 - rope_loss: 0.10 - ETA: 45s - loss: 0.0875 - rope_loss: 0.10 - ETA: 44s - loss: 0.0877 - rope_loss: 0.10 - ETA: 44s - loss: 0.0875 - rope_loss: 0.10 - ETA: 43s - loss: 0.0875 - rope_loss: 0.10 - ETA: 43s - loss: 0.0870 - rope_loss: 0.10 - ETA: 42s - loss: 0.0871 - rope_loss: 0.10 - ETA: 42s - loss: 0.0877 - rope_loss: 0.10 - ETA: 41s - loss: 0.0877 - rope_loss: 0.10 - ETA: 40s - loss: 0.0875 - rope_loss: 0.10 - ETA: 40s - loss: 0.0873 - rope_loss: 0.10 - ETA: 39s - loss: 0.0874 - rope_loss: 0.10 - ETA: 39s - loss: 0.0877 - rope_loss: 0.10 - ETA: 38s - loss: 0.0878 - rope_loss: 0.10 - ETA: 38s - loss: 0.0876 - rope_loss: 0.10 - ETA: 37s - loss: 0.0875 - rope_loss: 0.10 - ETA: 36s - loss: 0.0876 - rope_loss: 0.10 - ETA: 36s - loss: 0.0878 - rope_loss: 0.10 - ETA: 35s - loss: 0.0879 - rope_loss: 0.10 - ETA: 35s - loss: 0.0883 - rope_loss: 0.10 - ETA: 34s - loss: 0.0879 - rope_loss: 0.10 - ETA: 34s - loss: 0.0882 - rope_loss: 0.10 - ETA: 33s - loss: 0.0878 - rope_loss: 0.10 - ETA: 32s - loss: 0.0876 - rope_loss: 0.10 - ETA: 32s - loss: 0.0873 - rope_loss: 0.10 - ETA: 31s - loss: 0.0871 - rope_loss: 0.10 - ETA: 31s - loss: 0.0873 - rope_loss: 0.10 - ETA: 30s - loss: 0.0871 - rope_loss: 0.10 - ETA: 30s - loss: 0.0868 - rope_loss: 0.10 - ETA: 29s - loss: 0.0867 - rope_loss: 0.09 - ETA: 28s - loss: 0.0866 - rope_loss: 0.09 - ETA: 28s - loss: 0.0863 - rope_loss: 0.09 - ETA: 27s - loss: 0.0862 - rope_loss: 0.09 - ETA: 27s - loss: 0.0859 - rope_loss: 0.09 - ETA: 26s - loss: 0.0858 - rope_loss: 0.09 - ETA: 26s - loss: 0.0861 - rope_loss: 0.09 - ETA: 25s - loss: 0.0862 - rope_loss: 0.09 - ETA: 24s - loss: 0.0861 - rope_loss: 0.09 - ETA: 24s - loss: 0.0859 - rope_loss: 0.09 - ETA: 23s - loss: 0.0861 - rope_loss: 0.09 - ETA: 23s - loss: 0.0859 - rope_loss: 0.09 - ETA: 22s - loss: 0.0858 - rope_loss: 0.09 - ETA: 22s - loss: 0.0859 - rope_loss: 0.09 - ETA: 21s - loss: 0.0860 - rope_loss: 0.09 - ETA: 20s - loss: 0.0864 - rope_loss: 0.09 - ETA: 20s - loss: 0.0864 - rope_loss: 0.09 - ETA: 19s - loss: 0.0864 - rope_loss: 0.09 - ETA: 19s - loss: 0.0862 - rope_loss: 0.09 - ETA: 18s - loss: 0.0863 - rope_loss: 0.09 - ETA: 18s - loss: 0.0864 - rope_loss: 0.09 - ETA: 17s - loss: 0.0865 - rope_loss: 0.09 - ETA: 17s - loss: 0.0865 - rope_loss: 0.09 - ETA: 16s - loss: 0.0864 - rope_loss: 0.09 - ETA: 15s - loss: 0.0867 - rope_loss: 0.10 - ETA: 15s - loss: 0.0866 - rope_loss: 0.10 - ETA: 14s - loss: 0.0867 - rope_loss: 0.10 - ETA: 14s - loss: 0.0867 - rope_loss: 0.10 - ETA: 13s - loss: 0.0866 - rope_loss: 0.10 - ETA: 13s - loss: 0.0865 - rope_loss: 0.10 - ETA: 12s - loss: 0.0863 - rope_loss: 0.10 - ETA: 11s - loss: 0.0866 - rope_loss: 0.10 - ETA: 11s - loss: 0.0868 - rope_loss: 0.10 - ETA: 10s - loss: 0.0867 - rope_loss: 0.1009"
     ]
    }
   ],
   "source": [
    "log_file = os.path.join(log_dir_path, filename)\n",
    "f = open(log_file, 'w')\n",
    "original = sys.stdout\n",
    "sys.stdout = iou.Tee(sys.stdout, f)\n",
    "\n",
    "# print summary string so it gets into the log\n",
    "print(summ_str)"
   ]
  },
  {
   "cell_type": "markdown",
   "metadata": {},
   "source": [
    "### Prepare The Model"
   ]
  },
  {
   "cell_type": "code",
   "execution_count": 11,
   "metadata": {},
   "outputs": [],
   "source": [
    "# Get the training and test data\n",
    "x_train_load = np.load(x_train_file, allow_pickle=True)\n",
    "y_train = np.load(y_train_file, allow_pickle=True)\n",
    "x_test_load = np.load(x_test_file, allow_pickle=True)\n",
    "y_test = np.load(y_test_file, allow_pickle=True)\n",
    "\n",
    "if model_type == oM.SOFTMAX_TYPE:\n",
    "    y_train = np.argmax(y_train, axis = 1)\n",
    "    y_test = np.argmax(y_test, axis = 1)\n",
    "\n",
    "print('\\nLoaded The Training and Test Datasets')\n",
    "print('\\tx_train_load.shape = {}'.format(x_train_load.shape))\n",
    "print('\\tx_test_load.shape = {}'.format(x_test_load.shape))\n",
    "print('\\n\\ty_train.shape = {}'.format(y_train.shape))\n",
    "print('\\ty_test.shape = {}'.format(y_test.shape))"
   ]
  },
  {
   "cell_type": "markdown",
   "metadata": {},
   "source": [
    "## Adjust Data For Desired Depth"
   ]
  },
  {
   "cell_type": "code",
   "execution_count": 12,
   "metadata": {},
   "outputs": [],
   "source": [
    "assert x_train_load.shape[1:] == x_test_load.shape[1:], 'Training and Test Set do not have same dimensions'\n",
    "num_channels = x_train_load.shape[3]  # assume channels last\n",
    "if channels_first:\n",
    "    num_channels = x_train_load.shape[3]\n",
    "\n",
    "if depth == 3 and num_channels == 8:\n",
    "    rgb_from_8band = [4, 2, 1]\n",
    "    if channels_first:\n",
    "        x_train = x_train_load[:, rgb_from_8band, :, :]\n",
    "        x_test = x_test_load[:, rgb_from_8band, :, :]\n",
    "    else:\n",
    "        x_train = x_train_load[:, :, :, rgb_from_8band]\n",
    "        x_test = x_test_load[:, :, :, rgb_from_8band]\n",
    "else:\n",
    "    if channels_first:\n",
    "        x_train = x_train_load[:, :depth, :, :]\n",
    "        x_test = x_test_load[:, :depth, :, :]\n",
    "    else:\n",
    "        x_train = x_train_load[:, :, :, :depth]\n",
    "        x_test = x_test_load[:, :, :, :depth]\n",
    "\n",
    "print('\\nReshaping Train and Test Data for Depth: {}'.format(depth))\n",
    "print('\\tx_train.shape = {}'.format(x_train.shape))\n",
    "print('\\tx_test.shape = {}'.format(x_test.shape))"
   ]
  },
  {
   "cell_type": "code",
   "execution_count": 13,
   "metadata": {},
   "outputs": [],
   "source": [
    "# create the model\n",
    "model_obj = oM.OrientationCnnModel(type=model_type, num_classes=num_classes)\n",
    "model = model_obj.build(height, width, depth, data_format=data_format)"
   ]
  },
  {
   "cell_type": "code",
   "execution_count": 14,
   "metadata": {},
   "outputs": [],
   "source": [
    "# compile model \n",
    "if model_type == oM.SOFTMAX_TYPE:\n",
    "    optimizer = 'adam'\n",
    "    model_obj.compile(optimizer=optimizer)\n",
    "    loss_func_name = 'accuracy'\n",
    "elif model_type == oM.REG_TYPE:\n",
    "    optimizer = SGD(lr=init_lr, momentum=momentum, decay=init_lr / num_epochs)\n",
    "    model_obj.compile(optimizer=optimizer, metrics=[loss_func])"
   ]
  },
  {
   "cell_type": "code",
   "execution_count": 15,
   "metadata": {},
   "outputs": [],
   "source": [
    "# setup callbacks\n",
    "img_callback = tf.keras.callbacks.LambdaCallback(on_epoch_end=display_sample_images)\n",
    "tensorboard_callback = tf.keras.callbacks.TensorBoard(log_dir=tb_logs, histogram_freq=1, profile_batch=0)\n",
    "\n",
    "\n",
    "\n",
    "callbacks = [tensorboard_callback, \n",
    "             img_callback,\n",
    "             CSVLogger(os.path.join(log_dir_path, 'training.log')),\n",
    "             EarlyStopping(monitor=loss_func_name, patience=patience),\n",
    "             ModelCheckpoint(filepath=save_model_folder + save_model_name, monitor=loss_func_name, save_best_only=True)]\n",
    "\n",
    "# Define the per-epoch callback.\n",
    "# if model_type == oM.SOFTMAX_TYPE:\n",
    "#     cm_callback = tf.keras.callbacks.LambdaCallback(on_epoch_end=log_confusion_matrix)\n",
    "#     callbacks.append(cm_callback)"
   ]
  },
  {
   "cell_type": "markdown",
   "metadata": {},
   "source": [
    "## Train Model"
   ]
  },
  {
   "cell_type": "code",
   "execution_count": null,
   "metadata": {},
   "outputs": [],
   "source": [
    "# Train the model\n",
    "startTrainTime = time.time()\n",
    "\n",
    "history = model.fit(x_train, \n",
    "                   y_train,\n",
    "                   validation_data=(x_test, y_test),\n",
    "                    epochs=num_epochs,\n",
    "                    batch_size=batch_size,\n",
    "                    callbacks=callbacks)\n",
    "\n",
    "endTrainTime = time.time()\n",
    "trainTime = endTrainTime - startTrainTime\n",
    "print()\n",
    "print('Total Training Time (sec): {}'.format(trainTime))"
   ]
  },
  {
   "cell_type": "markdown",
   "metadata": {},
   "source": [
    "## Evaluate Model"
   ]
  },
  {
   "cell_type": "code",
   "execution_count": null,
   "metadata": {},
   "outputs": [],
   "source": [
    "# %tensorboard --logdir log_dir_path"
   ]
  },
  {
   "cell_type": "code",
   "execution_count": null,
   "metadata": {},
   "outputs": [],
   "source": [
    "# Load the best model file with file dialog\n",
    "model = None\n",
    "\n",
    "del model # ensure the previous model is deleted\n",
    "\n",
    "\n",
    "root = Tk()\n",
    "root.withdraw()\n",
    "root.modelFilePath = filedialog.askopenfilename()\n",
    "print(root.modelFilePath)\n",
    "\n",
    "model = load_model(root.modelFilePath, custom_objects={loss_func_name: loss_func})\n"
   ]
  },
  {
   "cell_type": "code",
   "execution_count": null,
   "metadata": {},
   "outputs": [],
   "source": [
    "# Evaluate the model to get the prediction w/the validation data\n",
    "y_pred = model.predict(x_test)\n",
    "y_pred_confTest = y_pred\n",
    "y_pred = np.argmax(y_pred, axis = 1)\n",
    "# y_true = np.argmax(y_test, axis = 1)\n",
    "y_true = y_test\n",
    "confMaxTest = np.max(y_pred_confTest, axis=1)\n",
    "\n",
    "print('Pred shape: {}\\t True shape: {}'.format(y_pred.shape, y_true.shape))\n",
    "\n",
    "if model_type == oM.REG_TYPE:\n",
    "    kappa = metrics.roc_curve(y_true, y_pred)\n",
    "    print('kappa', kappa)\n",
    "\n",
    "# save variables for later investigation \n",
    "np.save(os.path.join(log_dir_path, 'y_pred_test'), y_pred)\n",
    "np.save(os.path.join(log_dir_path, 'ConfidenceScoresTest'), confMaxTest)\n",
    "\n",
    "# print confusion matrix to screen\n",
    "print(classification_report(y_true, y_pred, target_names=class_names))\n",
    "cnf_matrix = confusion_matrix(y_true, y_pred)\n",
    "print(confusion_matrix(y_true, y_pred))"
   ]
  },
  {
   "cell_type": "markdown",
   "metadata": {},
   "source": [
    "### Scratch Area"
   ]
  },
  {
   "cell_type": "code",
   "execution_count": null,
   "metadata": {},
   "outputs": [],
   "source": [
    "exit() # This releases the GPU(s)"
   ]
  },
  {
   "cell_type": "code",
   "execution_count": null,
   "metadata": {},
   "outputs": [],
   "source": []
  },
  {
   "cell_type": "code",
   "execution_count": null,
   "metadata": {},
   "outputs": [],
   "source": [
    "import math\n",
    "deg = tf.convert_to_tensor(math.pi)\n",
    "\n",
    "tf.math.cos(deg)"
   ]
  },
  {
   "cell_type": "code",
   "execution_count": null,
   "metadata": {},
   "outputs": [],
   "source": [
    "# Bracket the function call with\n",
    "# tf.summary.trace_on() and tf.summary.trace_export().\n",
    "func_trace_log_path = tb_logs + '\\\\function_trace'\n",
    "function_trace_writer = tf.summary.create_file_writer(func_trace_log_path)\n",
    "# Sample data for your function.\n",
    "x = tf.random.uniform((3, 3))\n",
    "y = tf.random.uniform((3, 3))\n",
    "\n",
    "tf.summary.trace_on(graph=True, profiler=True)\n",
    "# Call only one tf.function when tracing.\n",
    "z = loss_func(x, y)\n",
    "with function_trace_writer.as_default():\n",
    "  tf.summary.trace_export(\n",
    "      name=\"{} Function Trace\".format(loss_func_name),\n",
    "      step=0,\n",
    "      profiler_outdir=func_trace_log_path)"
   ]
  },
  {
   "cell_type": "code",
   "execution_count": null,
   "metadata": {},
   "outputs": [],
   "source": []
  },
  {
   "cell_type": "code",
   "execution_count": null,
   "metadata": {},
   "outputs": [],
   "source": [
    "x_test_prep = np.expand_dims(x_test[0], axis=0)"
   ]
  },
  {
   "cell_type": "code",
   "execution_count": null,
   "metadata": {},
   "outputs": [],
   "source": [
    "y_pred_1 = model.predict(x_test_prep)"
   ]
  },
  {
   "cell_type": "code",
   "execution_count": null,
   "metadata": {},
   "outputs": [],
   "source": [
    "y_pred = model.predict(x_test)\n",
    "# y_test_argmax = np.argmax(y_test, axis = 1)\n",
    "y_pred = np.argmax(y_pred, axis = 1)"
   ]
  },
  {
   "cell_type": "code",
   "execution_count": null,
   "metadata": {},
   "outputs": [],
   "source": [
    "cm = confusion_matrix(y_test, y_test)"
   ]
  },
  {
   "cell_type": "code",
   "execution_count": null,
   "metadata": {},
   "outputs": [],
   "source": [
    "figure = plot_confusion_matrix(cm, class_names=class_names)"
   ]
  },
  {
   "cell_type": "code",
   "execution_count": null,
   "metadata": {},
   "outputs": [],
   "source": [
    "y_pred.shape"
   ]
  },
  {
   "cell_type": "code",
   "execution_count": null,
   "metadata": {},
   "outputs": [],
   "source": []
  },
  {
   "cell_type": "code",
   "execution_count": null,
   "metadata": {},
   "outputs": [],
   "source": []
  },
  {
   "cell_type": "code",
   "execution_count": null,
   "metadata": {},
   "outputs": [],
   "source": []
  }
 ],
 "metadata": {
  "kernelspec": {
   "display_name": "Python 3",
   "language": "python",
   "name": "python3"
  },
  "language_info": {
   "codemirror_mode": {
    "name": "ipython",
    "version": 3
   },
   "file_extension": ".py",
   "mimetype": "text/x-python",
   "name": "python",
   "nbconvert_exporter": "python",
   "pygments_lexer": "ipython3",
   "version": "3.6.9"
  },
  "toc": {
   "base_numbering": 1,
   "nav_menu": {},
   "number_sections": true,
   "sideBar": true,
   "skip_h1_title": false,
   "title_cell": "Table of Contents",
   "title_sidebar": "Contents",
   "toc_cell": false,
   "toc_position": {},
   "toc_section_display": true,
   "toc_window_display": false
  }
 },
 "nbformat": 4,
 "nbformat_minor": 2
}
