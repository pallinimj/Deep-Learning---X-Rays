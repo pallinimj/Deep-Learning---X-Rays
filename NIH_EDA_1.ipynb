{
  "nbformat": 4,
  "nbformat_minor": 0,
  "metadata": {
    "colab": {
      "name": "NIH_EDA-1.ipynb",
      "provenance": [],
      "collapsed_sections": [],
      "include_colab_link": true
    },
    "kernelspec": {
      "display_name": "Python 3",
      "language": "python",
      "name": "python3"
    },
    "language_info": {
      "codemirror_mode": {
        "name": "ipython",
        "version": 3
      },
      "file_extension": ".py",
      "mimetype": "text/x-python",
      "name": "python",
      "nbconvert_exporter": "python",
      "pygments_lexer": "ipython3",
      "version": "3.6.10"
    },
    "toc": {
      "base_numbering": 1,
      "nav_menu": {},
      "number_sections": true,
      "sideBar": true,
      "skip_h1_title": false,
      "title_cell": "Table of Contents",
      "title_sidebar": "Contents",
      "toc_cell": false,
      "toc_position": {},
      "toc_section_display": true,
      "toc_window_display": false
    }
  },
  "cells": [
    {
      "cell_type": "markdown",
      "metadata": {
        "id": "view-in-github",
        "colab_type": "text"
      },
      "source": [
        "<a href=\"https://colab.research.google.com/github/mthomp89/NU_489_capstone/blob/master/NIH_EDA_1.ipynb\" target=\"_parent\"><img src=\"https://colab.research.google.com/assets/colab-badge.svg\" alt=\"Open In Colab\"/></a>"
      ]
    },
    {
      "cell_type": "markdown",
      "metadata": {
        "colab_type": "text",
        "id": "Bd78LK4WIxoK"
      },
      "source": [
        "**This section works to download all of the data from Kaggle.**\n",
        "**I couldn't get just the .csv file to download and didn't want to wait for all 43 GB to transfer, so I just stored it in my Google Drive.**"
      ]
    },
    {
      "cell_type": "code",
      "metadata": {
        "colab_type": "code",
        "id": "eNA3idaDIzDF",
        "colab": {}
      },
      "source": [
        "# bring in Colab files\n",
        "from google.colab import files\n",
        "\n",
        "# load Kaggle\n",
        "!pip install -q Kaggle"
      ],
      "execution_count": 0,
      "outputs": []
    },
    {
      "cell_type": "code",
      "metadata": {
        "colab_type": "code",
        "id": "MLRgJljN_lv1",
        "colab": {}
      },
      "source": [
        "# bring in Kaggle API\n",
        "api = files.upload() "
      ],
      "execution_count": 0,
      "outputs": []
    },
    {
      "cell_type": "code",
      "metadata": {
        "colab_type": "code",
        "id": "ua6kXsboC2LG",
        "colab": {}
      },
      "source": [
        "# make a directory to save the .json file\n",
        "\n",
        "! mkdir ~/.kaggle\n",
        "! cp kaggle.json ~/.kaggle/\n",
        "! chmod 600 ~/.kaggle/kaggle.json\n"
      ],
      "execution_count": 0,
      "outputs": []
    },
    {
      "cell_type": "code",
      "metadata": {
        "colab_type": "code",
        "id": "dmjqglzWAz36",
        "colab": {}
      },
      "source": [
        "# load Kaggle data\n",
        "\n",
        "!kaggle datasets download -d nih-chest-xrays/data/Data_Entry_2017.csv.zip"
      ],
      "execution_count": 0,
      "outputs": []
    },
    {
      "cell_type": "markdown",
      "metadata": {
        "colab_type": "text",
        "id": "G4jQyD6wnN1Z"
      },
      "source": [
        "**Starting here I am just importing the Data_Entry_2017.csv file from a saved location, not Kaggle**"
      ]
    },
    {
      "cell_type": "code",
      "metadata": {
        "colab_type": "code",
        "id": "aQOh5ubdFegU",
        "colab": {}
      },
      "source": [
        "# load G Drive files\n",
        "\n",
        "from google.colab import drive\n",
        "drive.mount('/content/drive')"
      ],
      "execution_count": 0,
      "outputs": []
    },
    {
      "cell_type": "code",
      "metadata": {
        "colab_type": "code",
        "id": "bFqDcvpED4c6",
        "colab": {}
      },
      "source": [
        "# bring in Python libraries\n",
        "\n",
        "import numpy as np\n",
        "import pandas as pd\n",
        "import matplotlib.pyplot as plt\n",
        "import seaborn as sns\n",
        "import warnings\n",
        "\n",
        "warnings.filterwarnings('ignore')"
      ],
      "execution_count": 0,
      "outputs": []
    },
    {
      "cell_type": "code",
      "metadata": {
        "colab_type": "code",
        "id": "YjgPOVK9Du1H",
        "colab": {}
      },
      "source": [
        "# load data file\n",
        "df = pd.read_csv('/content/drive/My Drive/Capstone/Data_Entry_2017.csv', low_memory=False)"
      ],
      "execution_count": 0,
      "outputs": []
    },
    {
      "cell_type": "code",
      "metadata": {
        "colab_type": "code",
        "id": "yEqtMriWGjBy",
        "colab": {}
      },
      "source": [
        "df.head()"
      ],
      "execution_count": 0,
      "outputs": []
    },
    {
      "cell_type": "code",
      "metadata": {
        "colab_type": "code",
        "id": "va4foqnApLg3",
        "colab": {}
      },
      "source": [
        "# clean up some of the columns names\n",
        "\n",
        "df.rename(columns = {'OriginalImage[Width': 'ImageWidth', 'Height]': 'ImageHeight', 'OriginalImagePixelSpacing[x': 'ImageSpacing_X', 'y]': 'ImageSpacing_Y'}, inplace = True)\n",
        "\n",
        "# drop last column - it is empty\n",
        "\n",
        "df.drop('Unnamed: 11', axis = 1, inplace = True)"
      ],
      "execution_count": 0,
      "outputs": []
    },
    {
      "cell_type": "code",
      "metadata": {
        "colab_type": "code",
        "id": "j4tDAWU9qB4q",
        "colab": {}
      },
      "source": [
        "df.head()"
      ],
      "execution_count": 0,
      "outputs": []
    },
    {
      "cell_type": "code",
      "metadata": {
        "colab_type": "code",
        "id": "RIgB-8PjGp-A",
        "colab": {}
      },
      "source": [
        "df.describe()"
      ],
      "execution_count": 0,
      "outputs": []
    },
    {
      "cell_type": "markdown",
      "metadata": {
        "colab_type": "text",
        "id": "PM-V9ZEAL4o_"
      },
      "source": [
        "**There are some age outliers - someone has an age of 414**\n",
        "\n",
        "\n",
        "*   Identify the age outliers - anyone over 100\n",
        "*   Impute the median value from the dataset for those outliers\n",
        "\n",
        "\n",
        "\n",
        "\n"
      ]
    },
    {
      "cell_type": "code",
      "metadata": {
        "colab_type": "code",
        "id": "SgRonb0VqfAd",
        "colab": {}
      },
      "source": [
        "# look at age outliers and try to clean up\n",
        "sns.set_style('whitegrid')\n",
        "sns.boxplot(x = 'Patient Gender', y = 'Patient Age', data = df)"
      ],
      "execution_count": 0,
      "outputs": []
    },
    {
      "cell_type": "code",
      "metadata": {
        "colab_type": "code",
        "id": "5ZSvTDbCtpd0",
        "colab": {}
      },
      "source": [
        "# how many records have age > 100?\n",
        "\n",
        "print('There are', len(df[df['Patient Age'] > 100]), 'records with Age > 100')"
      ],
      "execution_count": 0,
      "outputs": []
    },
    {
      "cell_type": "code",
      "metadata": {
        "colab_type": "code",
        "id": "bHC2VPUuuQJT",
        "colab": {}
      },
      "source": [
        "# impute values over 100 to median age\n",
        "\n",
        "median = df.loc[df['Patient Age'] <= 100, 'Patient Age'].median()\n",
        "df['Patient Age'] = np.where(df['Patient Age'] > 100, median, df['Patient Age'])"
      ],
      "execution_count": 0,
      "outputs": []
    },
    {
      "cell_type": "code",
      "metadata": {
        "colab_type": "code",
        "id": "K2xJzlhGvdRr",
        "colab": {}
      },
      "source": [
        "# show how ages break down \n",
        "plt.figure(figsize=(9,9))\n",
        "sns.distplot(df['Patient Age'], kde = False, color = 'blue', bins = 10)\n",
        "plt.xlabel('Patient Age', fontsize = 12)\n",
        "plt.ylabel('Frequency', fontsize = 12)\n",
        "plt.title('Age Breakdown', fontsize = 16)"
      ],
      "execution_count": 0,
      "outputs": []
    },
    {
      "cell_type": "markdown",
      "metadata": {
        "colab_type": "text",
        "id": "FOhGTGaun1t5"
      },
      "source": [
        "**Look at how the images are labeled with their conditions**\n",
        "\n",
        "\n",
        "*   Some labels have multiple conditions\n",
        "*   First look at the label counts by combining multiple conditions into 1 label\n",
        "\n"
      ]
    },
    {
      "cell_type": "code",
      "metadata": {
        "colab_type": "code",
        "id": "OXytTIrOG73O",
        "colab": {}
      },
      "source": [
        "# how many images are in each label?\n",
        "\n",
        "df['Finding Labels'].value_counts()"
      ],
      "execution_count": 0,
      "outputs": []
    },
    {
      "cell_type": "markdown",
      "metadata": {
        "colab_type": "text",
        "id": "rcrcESUMHcbC"
      },
      "source": [
        "**There are 836 unique image labels.  Many of them have multiple diagnoses.**"
      ]
    },
    {
      "cell_type": "code",
      "metadata": {
        "colab_type": "code",
        "id": "w0ofkKGaMvB7",
        "colab": {}
      },
      "source": [
        "# create updated Image label for multiple diagnoses\n",
        "# these are separated by | in the finding labels\n",
        "\n",
        "def multiple_conditions(x):\n",
        "  if x.find('|') == -1:\n",
        "    return x\n",
        "  return 'Multiple Conditions'\n",
        "\n",
        "df['Contition_Updated'] = df['Finding Labels'].apply(multiple_conditions)\n"
      ],
      "execution_count": 0,
      "outputs": []
    },
    {
      "cell_type": "code",
      "metadata": {
        "colab_type": "code",
        "id": "MwjCLS_7b2fM",
        "colab": {}
      },
      "source": [
        "# show counts of conditions\n",
        "\n",
        "label_count = df.groupby('Contition_Updated').size().reset_index()\n",
        "label_count.rename(columns={0:'Counts'},inplace = True)\n",
        "label_count = label_count.sort_values(['Counts'], ascending=False).reset_index(drop = True)\n",
        "\n",
        "plt.figure(figsize=(9,9))\n",
        "sns.barplot(x = 'Counts', y = 'Contition_Updated', data = label_count)\n",
        "plt.xlabel('Image Count')\n",
        "plt.ylabel('Conditions')\n",
        "plt.title('Count of Image Results')\n"
      ],
      "execution_count": 0,
      "outputs": []
    },
    {
      "cell_type": "markdown",
      "metadata": {
        "colab_type": "text",
        "id": "hwC3aI3-oF-M"
      },
      "source": [
        "**Split out multiple condition labels so that they are captured with each individual condition**"
      ]
    },
    {
      "cell_type": "code",
      "metadata": {
        "colab_type": "code",
        "id": "EbMdhocJfLuk",
        "colab": {}
      },
      "source": [
        "# separate the different conditions in each image to classify them better\n",
        "# use one-hot encoding\n",
        "\n",
        "conditions = ['No Finding','Infiltration','Atelectasis','Effusion','Nodule','Pneumothorax','Mass','Consolidation','Pleural_Thickening','Cardiomegaly','Emphysema','Fibrosis','Edema','Pneumonia','Hernia']\n",
        "\n",
        "for i in conditions :\n",
        "    df[i] = df['Finding Labels'].apply(lambda x: 1 if i in x else 0)\n",
        "\n",
        "# melt data together to get count of all conditions\n",
        "df_2 = pd.melt(df, id_vars=['Image Index','Finding Labels','Patient ID','Patient Gender','Patient Age'], value_vars = list(conditions), var_name='Labels', value_name='Count')\n",
        "\n"
      ],
      "execution_count": 0,
      "outputs": []
    },
    {
      "cell_type": "code",
      "metadata": {
        "colab_type": "code",
        "id": "ZH0C2QGEaOo0",
        "colab": {}
      },
      "source": [
        "# how many conditions are there now?\n",
        "new_label_count = df_2.groupby('Labels').sum().reset_index()\n",
        "new_label_count.drop(['Patient ID','Patient Age'], axis = 1, inplace = True)\n",
        "new_label_count.rename(columns={0:'Counts'},inplace = True)\n",
        "new_label_count = new_label_count.sort_values(['Count'], ascending=False).reset_index(drop = True)\n",
        "\n",
        "plt.figure(figsize=(9,9))\n",
        "sns.barplot(x = 'Count', y = 'Labels', data = new_label_count)\n",
        "plt.xlabel('Image Count')\n",
        "plt.ylabel('Conditions')\n",
        "plt.title('Count of Image Results')\n"
      ],
      "execution_count": 0,
      "outputs": []
    },
    {
      "cell_type": "code",
      "metadata": {
        "colab_type": "code",
        "id": "bAwFabUIlj_B",
        "colab": {}
      },
      "source": [
        "new_label_count.head(20)"
      ],
      "execution_count": 0,
      "outputs": []
    }
  ]
}